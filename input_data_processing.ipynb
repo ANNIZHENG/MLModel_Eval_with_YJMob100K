{
 "cells": [
  {
   "cell_type": "code",
   "execution_count": 4,
   "id": "d589e7b8",
   "metadata": {},
   "outputs": [],
   "source": [
    "# Import Library\n",
    "\n",
    "import pandas as pd"
   ]
  },
  {
   "cell_type": "code",
   "execution_count": 5,
   "id": "fbc165f5",
   "metadata": {},
   "outputs": [
    {
     "name": "stdout",
     "output_type": "stream",
     "text": [
      "Finished Loading Raw Data!\n",
      "Finished generated location ID for avilable each (x,y) coordinate!\n"
     ]
    }
   ],
   "source": [
    "# Load Data\n",
    "yjmob1 = 'task1_dataset.csv.gz'\n",
    "yjmob_df = pd.read_csv(yjmob1, compression='gzip')\n",
    "full_yjmob_df = pd.read_csv('yjmob100k-dataset1.csv.gz', compression='gzip')\n",
    "\n",
    "# Load All User Ids\n",
    "uids = sorted(yjmob_df['uid'].unique())\n",
    "\n",
    "print(\"Finished Loading Raw Data!\")\n",
    "\n",
    "# Transforming (x,y) location to grid-id\n",
    "def generate_spatial_token(x, y):\n",
    "    return (x-1)+(y-1)*200\n",
    "\n",
    "# Assign (x,y) location to a corresponding id\n",
    "yjmob_df = yjmob_df.copy()\n",
    "yjmob_df['combined_xy'] = yjmob_df.apply(lambda row: generate_spatial_token(row['x'], row['y']), axis=1)\n",
    "\n",
    "print(\"Finished generated location ID for avilable each (x,y) coordinate!\")"
   ]
  },
  {
   "cell_type": "code",
   "execution_count": 14,
   "id": "f5b875df-f099-42c0-87b2-6d191814f656",
   "metadata": {},
   "outputs": [],
   "source": [
    "# Extract test user ids\n",
    "test_uids  = list(yjmob_df[yjmob_df['x']==999]['uid'].unique())\n",
    "\n",
    "# Extract train user ids\n",
    "train_uids = list(yjmob_df[~yjmob_df['uid'].isin(test_uids)]['uid'].unique())"
   ]
  },
  {
   "cell_type": "code",
   "execution_count": 16,
   "id": "4dd8c6eb-cba7-4b22-bff8-312d0762d421",
   "metadata": {},
   "outputs": [],
   "source": [
    "# Extract Test Data\n",
    "df_test = yjmob_df[yjmob_df['uid'].isin(test_uids)].reset_index(drop=True)\n",
    "# Result the Unknown Location grid-id to 999\n",
    "df_test.loc[df_test['combined_xy']==200598,'combined_xy']=999\n",
    "\n",
    "# Extract Train Data\n",
    "df_train = yjmob_df[yjmob_df['uid'].isin(train_uids)].reset_index(drop=True)"
   ]
  },
  {
   "cell_type": "code",
   "execution_count": 17,
   "id": "1fb60699",
   "metadata": {},
   "outputs": [],
   "source": [
    "# Formatting Step: for all data, I disregard any data that is outside of the (48*4+48) window for N number of windows\n",
    "# for 48*4 being the input size and 48 being the output size of a predictive model\n",
    "\n",
    "list_train = [] # record all train data\n",
    "one_traj = 192+48\n",
    "\n",
    "# Extract all train data\n",
    "for uid, group in df_train.groupby('uid'):\n",
    "    # group = group.reset_index()\n",
    "    num_one_traj = int(len(group) / one_traj)\n",
    "    total_one_traj = num_one_traj * one_traj\n",
    "    list_train.append(group.head(total_one_traj))\n",
    "\n",
    "# Extract all available test data and use them as train data\n",
    "list_test = [] # record the available test data\n",
    "for uid, group in df_test.groupby('uid'):\n",
    "    group = group[group['combined_xy']!=999]\n",
    "    num_one_traj = int(len(group) / one_traj)\n",
    "    total_one_traj = num_one_traj * one_traj\n",
    "    list_test.append(group.head(total_one_traj)) # load available test data\n",
    "    list_train.append(group.head(total_one_traj)) # input available test data to train dataset\n",
    "\n",
    "df_train = pd.concat(list_train)[['uid', 't', 'combined_xy']]"
   ]
  },
  {
   "cell_type": "code",
   "execution_count": 18,
   "id": "2183da04",
   "metadata": {},
   "outputs": [],
   "source": [
    "# Extract unknown test data \n",
    "list_true_test = []\n",
    "for uid, group in df_test.groupby('uid'):\n",
    "    group = group[group['combined_xy']==999]   # getting all the predicted data\n",
    "    first_day_to_test = group['d'].tolist()[0] # getting all the predicted data of the first day I need to make prediction\n",
    "    group = group[group['d']==first_day_to_test]\n",
    "    list_true_test.append(group)\n",
    "df_true_test = pd.concat(list_true_test)[['uid', 'd', 't']] # should be predicting only the first day steps"
   ]
  },
  {
   "cell_type": "code",
   "execution_count": 19,
   "id": "841a4379",
   "metadata": {},
   "outputs": [],
   "source": [
    "# Extract Ground Truth\n",
    "full_test_yjmob_df = full_yjmob_df[full_yjmob_df['uid'].isin(test_uids)]\n",
    "df_true_test = df_true_test.merge(full_test_yjmob_df, on=['uid', 'd', 't'])[['uid', 't', 'x', 'y']]\n",
    "\n",
    "# Also extract the available test data for autoregressive prediction\n",
    "df_test = pd.concat(list_test)[['uid', 't', 'combined_xy']]"
   ]
  },
  {
   "cell_type": "code",
   "execution_count": 21,
   "id": "2b4b0c4c-57dc-405b-81ee-a3773afea38b",
   "metadata": {},
   "outputs": [],
   "source": [
    "# Convert to csv\n",
    "\n",
    "df_train.to_csv('train.csv', index=False) # training data (train + available test)\n",
    "df_test.to_csv('test.csv', index=False) # available test data\n",
    "df_true_test.to_csv('true_test.csv', index=False) # ground truth"
   ]
  }
 ],
 "metadata": {
  "kernelspec": {
   "display_name": "Python 2.7",
   "language": "python",
   "name": "py27"
  },
  "language_info": {
   "codemirror_mode": {
    "name": "ipython",
    "version": 3
   },
   "file_extension": ".py",
   "mimetype": "text/x-python",
   "name": "python",
   "nbconvert_exporter": "python",
   "pygments_lexer": "ipython3",
   "version": "3.11.9"
  }
 },
 "nbformat": 4,
 "nbformat_minor": 5
}
