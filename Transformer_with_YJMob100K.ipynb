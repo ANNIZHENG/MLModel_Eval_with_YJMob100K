{
 "cells": [
  {
   "cell_type": "markdown",
   "id": "0051dc88",
   "metadata": {},
   "source": [
    "**Dataset**: https://www.nature.com/articles/s41597-024-03237-9\n",
    "\n",
    "**Encoder and Decoder Reference**: https://www.youtube.com/watch?v=U0s0f995w14\n",
    "\n",
    "**user ID** is the unique identifier of the mobile phone user (type: integer)\n",
    "\n",
    "**day** is the masked date of the observation. It may take a value between 0 and 74 for both Dataset 1 and Dataset 2 (type: integer).\n",
    "\n",
    "The location pings are discretized into 500 meters × 500 meters grid cells and the timestamps are rounded up into 30-minute bins. The actual date of the observations is not available either (i.e., timeslot t of day d) to protect privacy. In the second Dataset, the 75 day period is composed of 60 days of business-as-usual and 15 days during an emergency with unusual behavior.\n",
    "\n",
    "**timeslot** is the timestamp of the observation discretized into 30 minute intervals. \n",
    "It may take a value between 0 and 47, where 0 indicates between 0AM and 0:30AM, \n",
    "and 13 would indicate the timeslot between 6:30AM and 7:00AM.\n",
    "\n",
    "**x,y** are the coordinates of the observed location mapped onto the 500 meter discretized grid cell. It may take a value between (1, 1) and (200, 200). Details are shown in Fig. 2."
   ]
  },
  {
   "cell_type": "markdown",
   "id": "74aad1bf",
   "metadata": {},
   "source": [
    "# Import Libraries"
   ]
  },
  {
   "cell_type": "code",
   "execution_count": 1,
   "id": "d158f4ba",
   "metadata": {},
   "outputs": [],
   "source": [
    "import gzip\n",
    "import pandas as pd\n",
    "import numpy as np\n",
    "import matplotlib.pyplot as plt\n",
    "from sklearn.model_selection import train_test_split\n",
    "import torch\n",
    "import torch.nn as nn\n",
    "from torch.optim import Adam\n",
    "from torch.utils.data import Dataset, DataLoader\n",
    "import random"
   ]
  },
  {
   "cell_type": "markdown",
   "id": "a5fe1e83",
   "metadata": {},
   "source": [
    "# Load Data"
   ]
  },
  {
   "cell_type": "code",
   "execution_count": 2,
   "id": "f611dc61",
   "metadata": {},
   "outputs": [],
   "source": [
    "# yjmob1 = 'yjmob100k-dataset1.csv.gz'\n",
    "# yjmob2 = 'yjmob100k-dataset2.csv.gz'\n",
    "# yjmob_df = pd.concat([pd.read_csv(yjmob1, compression='gzip'),\n",
    "#                       pd.read_csv(yjmob2, compression='gzip')]).sort_values(by=['uid','d','t'],\n",
    "#                                                                             ignore_index=True)"
   ]
  },
  {
   "cell_type": "code",
   "execution_count": 3,
   "id": "64854975",
   "metadata": {},
   "outputs": [],
   "source": [
    "yjmob1 = 'yjmob100k-dataset1.csv.gz' # dataset under normal scenes\n",
    "yjmob_df = pd.read_csv(yjmob1, compression='gzip').sort_values(by=['uid', 'd', 't'], ignore_index=True)"
   ]
  },
  {
   "cell_type": "code",
   "execution_count": 4,
   "id": "f862e132",
   "metadata": {},
   "outputs": [],
   "source": [
    "# Retrieve all ids\n",
    "\n",
    "uids = yjmob_df['uid'].unique()"
   ]
  },
  {
   "cell_type": "code",
   "execution_count": 5,
   "id": "fd5386e4",
   "metadata": {},
   "outputs": [],
   "source": [
    "# Just to reduce memory space\n",
    "rand_indicies = [random.randint(0, len(uids)) for _ in range(200)] # only 200 data would be used\n",
    "selected_uids = [uid for uid in uids[rand_indicies]] # selected_uids = uids[:200]\n",
    "# selected_uids = uids[:200]"
   ]
  },
  {
   "cell_type": "code",
   "execution_count": 7,
   "id": "813c0925",
   "metadata": {},
   "outputs": [],
   "source": [
    "df = yjmob_df[yjmob_df['uid'].isin(selected_uids)] "
   ]
  },
  {
   "cell_type": "markdown",
   "id": "e6e01014",
   "metadata": {},
   "source": [
    "# Tokenization"
   ]
  },
  {
   "cell_type": "code",
   "execution_count": 8,
   "id": "be6c5f17",
   "metadata": {},
   "outputs": [
    {
     "name": "stderr",
     "output_type": "stream",
     "text": [
      "/var/folders/hx/xp23lpqx4ndfxcvp3qj_bdgr0000gn/T/ipykernel_74219/595267703.py:1: SettingWithCopyWarning: \n",
      "A value is trying to be set on a copy of a slice from a DataFrame.\n",
      "Try using .loc[row_indexer,col_indexer] = value instead\n",
      "\n",
      "See the caveats in the documentation: https://pandas.pydata.org/pandas-docs/stable/user_guide/indexing.html#returning-a-view-versus-a-copy\n",
      "  df['combined_t'] = df['d']*47+df['t']\n"
     ]
    }
   ],
   "source": [
    "# Time\n",
    "df['combined_t'] = df['d']*47+df['t']"
   ]
  },
  {
   "cell_type": "code",
   "execution_count": 9,
   "id": "9c4036e9",
   "metadata": {},
   "outputs": [],
   "source": [
    "# linearization of the 2-dimensional grid, i.e., the original x,y coordinate system\n",
    "def spatial_token(x, y):\n",
    "    # x,y are the coordinate location\n",
    "    # x determines the column order while\n",
    "    # y determines the row order\n",
    "    # (x-1) calculates the starting grid-column position\n",
    "    # (y-1)*200 calculates the start index of the grid-row\n",
    "    return (x-1)+(y-1)*200"
   ]
  },
  {
   "cell_type": "code",
   "execution_count": 10,
   "id": "323f5683",
   "metadata": {},
   "outputs": [
    {
     "name": "stderr",
     "output_type": "stream",
     "text": [
      "/var/folders/hx/xp23lpqx4ndfxcvp3qj_bdgr0000gn/T/ipykernel_74219/424670490.py:1: SettingWithCopyWarning: \n",
      "A value is trying to be set on a copy of a slice from a DataFrame.\n",
      "Try using .loc[row_indexer,col_indexer] = value instead\n",
      "\n",
      "See the caveats in the documentation: https://pandas.pydata.org/pandas-docs/stable/user_guide/indexing.html#returning-a-view-versus-a-copy\n",
      "  df['combined_xy'] = df.apply(lambda row: spatial_token(row['x'], row['y']), axis=1)\n"
     ]
    }
   ],
   "source": [
    "# Location\n",
    "df['combined_xy'] = df.apply(lambda row: spatial_token(row['x'], row['y']), axis=1)"
   ]
  },
  {
   "cell_type": "code",
   "execution_count": 11,
   "id": "d489aba2",
   "metadata": {},
   "outputs": [],
   "source": [
    "df = df.sort_values(by=['uid', 'combined_t'])"
   ]
  },
  {
   "cell_type": "markdown",
   "id": "996ff03d",
   "metadata": {},
   "source": [
    "# Train-Test Split"
   ]
  },
  {
   "cell_type": "code",
   "execution_count": 13,
   "id": "49d9a84e",
   "metadata": {},
   "outputs": [],
   "source": [
    "# 7:3 split\n",
    "\n",
    "train_uids, test_uids = train_test_split(selected_uids, test_size=0.30, random_state=42)\n",
    "\n",
    "# 70 : (15:15) split\n",
    "\n",
    "# test-train split\n",
    "# train_val_uids, test_uids = train_test_split(selected_uids, test_size=0.15, random_state=42)\n",
    "\n",
    "# validation-test split\n",
    "# train_uids, val_uids = train_test_split(train_val_uids, test_size=0.176, random_state=42) # 0.176≈15/85\n",
    "\n",
    "df_train = df[df['uid'].isin(train_uids)]\n",
    "df_test = df[df['uid'].isin(test_uids)]"
   ]
  },
  {
   "cell_type": "markdown",
   "id": "1fdfd0c9",
   "metadata": {},
   "source": [
    "## Batching"
   ]
  },
  {
   "cell_type": "code",
   "execution_count": 30,
   "id": "534e616b",
   "metadata": {},
   "outputs": [],
   "source": [
    "BATCH_SIZE = 50"
   ]
  },
  {
   "cell_type": "code",
   "execution_count": 33,
   "id": "cab04f4f",
   "metadata": {},
   "outputs": [],
   "source": [
    "STEP_SIZE = 600"
   ]
  },
  {
   "cell_type": "code",
   "execution_count": 31,
   "id": "7983925d",
   "metadata": {},
   "outputs": [],
   "source": [
    "# Output input location sequence (trajectory), desired output location\n",
    "# along with the time when that user reaches a location\n",
    "\n",
    "def generate_sequences(data, data_t):\n",
    "    return torch.tensor(data[:STEP_SIZE]),torch.tensor(data[STEP_SIZE]),\\\n",
    "                torch.tensor(data_t[:STEP_SIZE]),torch.tensor(data_t[STEP_SIZE])"
   ]
  },
  {
   "cell_type": "code",
   "execution_count": 32,
   "id": "b8e8b316",
   "metadata": {},
   "outputs": [],
   "source": [
    "# Group data by uid\n",
    "\n",
    "grouped_data_train = df_train[['uid', 'combined_t', 'combined_xy']].groupby('uid')\n",
    "grouped_data_train = [group for _, group in df_train.groupby('uid')]\n",
    "\n",
    "grouped_data_test = df_test[['uid', 'combined_t', 'combined_xy']].groupby('uid')\n",
    "grouped_data_test = [group for _, group in df_test.groupby('uid')]"
   ]
  },
  {
   "cell_type": "code",
   "execution_count": 34,
   "id": "9773265d",
   "metadata": {},
   "outputs": [
    {
     "data": {
      "text/plain": [
       "[<matplotlib.lines.Line2D at 0x32229b0d0>]"
      ]
     },
     "execution_count": 34,
     "metadata": {},
     "output_type": "execute_result"
    },
    {
     "data": {
      "image/png": "[encoded data removed]",
      "text/plain": [
       "<Figure size 640x480 with 1 Axes>"
      ]
     },
     "metadata": {},
     "output_type": "display_data"
    }
   ],
   "source": [
    "x = grouped_data_train[0]['combined_xy']\n",
    "y = grouped_data_train[0]['combined_t']\n",
    "\n",
    "plt.plot(x[:STEP_SIZE], y[:STEP_SIZE])"
   ]
  },
  {
   "cell_type": "code",
   "execution_count": 35,
   "id": "8aa15331",
   "metadata": {},
   "outputs": [],
   "source": [
    "class TrajectoryDataset(Dataset):\n",
    "    def __init__(self, grouped_data):\n",
    "        self.data = grouped_data\n",
    "\n",
    "    def __len__(self):\n",
    "        return len(self.data)\n",
    "\n",
    "    def __getitem__(self, idx):\n",
    "        data_for_uid = self.data[idx]\n",
    "        inputs, labels, positions, label_positions = generate_sequences(\n",
    "                                                         data_for_uid['combined_xy'].values.tolist(),\n",
    "                                                         data_for_uid['combined_t'].values.tolist())\n",
    "        return inputs, labels, positions, label_positions\n",
    "\n",
    "train_dataset = TrajectoryDataset(grouped_data_train) # train_dataset.__getitem__(0)\n",
    "test_dataset = TrajectoryDataset(grouped_data_test)"
   ]
  },
  {
   "cell_type": "code",
   "execution_count": 36,
   "id": "2b99bfd3",
   "metadata": {},
   "outputs": [],
   "source": [
    "def collate_fn(batch):\n",
    "    # Unzip all batch\n",
    "    inputs_batch, labels_batch, positions_batch, label_positions_batch = zip(*batch)\n",
    "    \n",
    "    # Pad the sequence with less length in a batch\n",
    "    inputs_padded = torch.nn.utils.rnn.pad_sequence(inputs_batch, padding_value=0.0, batch_first=True)\n",
    "    labels_padded = torch.tensor(np.array(labels_batch))\n",
    "    positions_padded = torch.nn.utils.rnn.pad_sequence(positions_batch, padding_value=0, batch_first=True)\n",
    "    label_positions_padded = torch.tensor(np.array(label_positions_batch))\n",
    "    \n",
    "    return inputs_padded, labels_padded, positions_padded, label_positions_padded"
   ]
  },
  {
   "cell_type": "code",
   "execution_count": 37,
   "id": "d96aedf1",
   "metadata": {},
   "outputs": [],
   "source": [
    "train_dataloader = DataLoader(train_dataset, batch_size=BATCH_SIZE, shuffle=True, collate_fn=collate_fn)\n",
    "test_dataloader = DataLoader(test_dataset, batch_size=BATCH_SIZE, shuffle=True, collate_fn=collate_fn)"
   ]
  },
  {
   "cell_type": "code",
   "execution_count": 38,
   "id": "7cc4456f",
   "metadata": {},
   "outputs": [],
   "source": [
    "# # Example\n",
    "\n",
    "# data_iter = iter(train_dataloader)\n",
    "# inputs, labels, positions, label_positions = next(data_iter)\n",
    "# print(\"Shape of inputs:\", inputs.shape) # Shape: [batch_size, seq_len]\n",
    "# print(\"Shape of labels:\", labels.shape) # Shape: [batch_size]\n",
    "# print(\"Shape of positions:\", positions.shape) # Shape: [batch_size, seq_len]\n",
    "# print(\"Shape of positions:\", label_positions.shape) # Shape: [batch_size]"
   ]
  },
  {
   "cell_type": "markdown",
   "id": "d93c5203",
   "metadata": {},
   "source": [
    "## Input Embedding and Positional Encoding\n",
    "\n",
    "https://pytorch.org/tutorials/beginner/transformer_tutorial.html#load-and-batch-data"
   ]
  },
  {
   "cell_type": "code",
   "execution_count": 39,
   "id": "c3e98c32",
   "metadata": {},
   "outputs": [],
   "source": [
    "EMBED_DIM = 64"
   ]
  },
  {
   "cell_type": "code",
   "execution_count": 40,
   "id": "f93959c1",
   "metadata": {},
   "outputs": [],
   "source": [
    "# Time - Positional Encoding = Time Embedding + Sequential Encoding\n",
    "# max_len is the maximum expected data length\n",
    "\n",
    "class PositionalEncoding(nn.Module):\n",
    "    def __init__(self, max_len, embedding_dim):\n",
    "        \"\"\"\n",
    "        max_len: int:\n",
    "        embedding_dim: int: \n",
    "        \"\"\"\n",
    "        super(PositionalEncoding, self).__init__()\n",
    "        self.embedding_dim = embedding_dim\n",
    "\n",
    "        position = torch.arange(max_len).unsqueeze(1)\n",
    "        div_term = torch.exp(torch.arange(0, embedding_dim, 2) * (-np.log(10000.0) / embedding_dim))\n",
    "        pe = torch.zeros(max_len, 1, embedding_dim)\n",
    "        pe[:, 0, 0::2] = torch.sin(position.float() * div_term)\n",
    "        pe[:, 0, 1::2] = torch.cos(position.float() * div_term)\n",
    "        self.register_buffer('pe', pe)\n",
    "\n",
    "    def forward(self, x):\n",
    "        \"\"\"\n",
    "        x: output of the embedding layer\n",
    "        \"\"\"\n",
    "        x = x + self.pe[:x.size(0)] # Shape [batch_size, seq_len, embed_dim]\n",
    "        return x # self.dropout(x)"
   ]
  },
  {
   "cell_type": "code",
   "execution_count": 41,
   "id": "73e23499",
   "metadata": {
    "scrolled": true
   },
   "outputs": [],
   "source": [
    "# # Example\n",
    "\n",
    "# input_embedding_layer = nn.Embedding(40000, EMBED_DIM) # InputEmbedding(max_len, embedding_dim)\n",
    "# position_embedding_layer = nn.Embedding(3600, EMBED_DIM) # max_len, embedding_dim\n",
    "# positional_encoding = PositionalEncoding(3600, EMBED_DIM) # max_len, embedding_dim, dropout=0.1\n",
    "\n",
    "# space_time = torch.tensor([])\n",
    "\n",
    "# for inputs, labels, positions, label_positions in train_dataloader:\n",
    "#     # Input Embedding\n",
    "#     space = input_embedding_layer(inputs)\n",
    "    \n",
    "#     # Positional Encoding\n",
    "#     positions = position_embedding_layer(positions)\n",
    "#     time = positional_encoding(positions)\n",
    "    \n",
    "#     # Display shapes\n",
    "#     print(\"Input Embedding:\", space.shape)\n",
    "#     print(\"Positional Encoding:\", time.shape)\n",
    "    \n",
    "#     # Addition\n",
    "#     space_time = space + time\n",
    "\n",
    "#     break"
   ]
  },
  {
   "cell_type": "markdown",
   "id": "f54962ea",
   "metadata": {},
   "source": [
    "## Self-Attention"
   ]
  },
  {
   "cell_type": "code",
   "execution_count": 42,
   "id": "e133b7fb",
   "metadata": {},
   "outputs": [],
   "source": [
    "NUM_HEADS = 8"
   ]
  },
  {
   "cell_type": "code",
   "execution_count": 43,
   "id": "f3f8a987",
   "metadata": {},
   "outputs": [],
   "source": [
    "class MultiHeadAttentionModule(nn.Module):\n",
    "    def __init__(self, embed_dim, num_heads):\n",
    "        super(MultiHeadAttentionModule, self).__init__()\n",
    "        self.multihead_attn = nn.MultiheadAttention(embed_dim, num_heads)\n",
    "\n",
    "    def forward(self, query, key, value, key_padding_mask=None, need_weights=True):\n",
    "        # Transpose from [batch size, seq length, embed dim] to [seq length, batch size, embed dim]\n",
    "        query = query.transpose(0, 1)\n",
    "        key = key.transpose(0, 1)\n",
    "        value = value.transpose(0, 1)\n",
    "        \n",
    "        # Apply multihead attention\n",
    "        attn_output, attn_output_weights = self.multihead_attn(query, key, value)\n",
    "        return attn_output.transpose(0, 1)"
   ]
  },
  {
   "cell_type": "code",
   "execution_count": 44,
   "id": "96cc994d",
   "metadata": {},
   "outputs": [],
   "source": [
    "# # Example\n",
    "\n",
    "# multihead_attention = MultiHeadAttentionModule(EMBED_DIM, NUM_HEADS)\n",
    "# attn_output = multihead_attention(space_time, space_time, space_time)\n",
    "\n",
    "# print(\"Self Attention:\", attn_output.shape)"
   ]
  },
  {
   "cell_type": "markdown",
   "id": "479f1973",
   "metadata": {},
   "source": [
    "## Transformer Block"
   ]
  },
  {
   "cell_type": "code",
   "execution_count": 45,
   "id": "cd610aac",
   "metadata": {},
   "outputs": [],
   "source": [
    "class TransformerBlock(nn.Module):\n",
    "    def __init__(self, embed_dim, num_heads, forward_expansion):\n",
    "        super(TransformerBlock, self).__init__()\n",
    "        \n",
    "        # Attention Layer\n",
    "        self.attention = MultiHeadAttentionModule(embed_dim, num_heads)\n",
    "        \n",
    "        # Normalization 1 \n",
    "        self.norm1 = nn.LayerNorm(embed_dim)\n",
    "        \n",
    "        # Feed-Forward\n",
    "        self.feed_forward = nn.Sequential(\n",
    "            nn.Linear(embed_dim, forward_expansion * embed_dim), \n",
    "            nn.ReLU(),\n",
    "            nn.Linear(forward_expansion * embed_dim, embed_dim)\n",
    "        )\n",
    "        \n",
    "        # Normalization 2\n",
    "        self.norm2 = nn.LayerNorm(embed_dim)\n",
    "        \n",
    "    def forward(self, query, key, value):\n",
    "        attn_output = self.attention(query, key, value)\n",
    "        x = self.norm1(attn_output + query)\n",
    "        forward = self.feed_forward(x)\n",
    "        out = self.norm2(forward + x)\n",
    "        return out"
   ]
  },
  {
   "cell_type": "markdown",
   "id": "5caaebd7",
   "metadata": {},
   "source": [
    "# Encoder"
   ]
  },
  {
   "cell_type": "code",
   "execution_count": 46,
   "id": "b60906f0",
   "metadata": {},
   "outputs": [],
   "source": [
    "class Encoder(nn.Module):\n",
    "    def __init__(self, loc_size, time_size, embed_dim, num_layers, num_heads, device, forward_expansion):\n",
    "        super(Encoder, self).__init__()\n",
    "        self.embed_dim = embed_dim\n",
    "        self.device = device\n",
    "        \n",
    "        self.input_embedding = nn.Embedding(loc_size, embed_dim).to(device)\n",
    "        self.position_embedding = nn.Embedding(time_size, embed_dim).to(device)\n",
    "        self.positional_encoding = PositionalEncoding(time_size, embed_dim).to(device)\n",
    "        \n",
    "        self.layers = nn.ModuleList([\n",
    "            TransformerBlock(\n",
    "                embed_dim,\n",
    "                num_heads,\n",
    "                forward_expansion=forward_expansion\n",
    "            ) for _ in range(num_layers)\n",
    "        ])\n",
    "        \n",
    "    def forward(self, inputs, positions):\n",
    "        # Input Embedding\n",
    "        space = self.input_embedding(inputs)\n",
    "\n",
    "        # Positional Encoding\n",
    "        positions = self.position_embedding(positions) \n",
    "        time = self.positional_encoding(positions)\n",
    "        \n",
    "        # Addition\n",
    "        out = space + time\n",
    "\n",
    "        # Transformer Block = Multi-Head Attention + Norm + Feed Forward + Norm\n",
    "        for layer in self.layers:\n",
    "            out = layer(out, out, out)\n",
    "        return out"
   ]
  },
  {
   "cell_type": "markdown",
   "id": "07894ebf",
   "metadata": {},
   "source": [
    "# Decoder"
   ]
  },
  {
   "cell_type": "code",
   "execution_count": 47,
   "id": "1d304045",
   "metadata": {},
   "outputs": [],
   "source": [
    "class DecoderBlock(nn.Module):\n",
    "    def __init__(self, embed_dim, num_heads, forward_expansion, device): \n",
    "        super(DecoderBlock, self).__init__()\n",
    "        self.attention = MultiHeadAttentionModule(embed_dim, num_heads)\n",
    "        self.norm = nn.LayerNorm(embed_dim)\n",
    "        self.transformer_block = TransformerBlock(embed_dim, num_heads, forward_expansion)\n",
    "        \n",
    "    def forward(self, x, key, value):\n",
    "        attention = self.attention(x,key,value) \n",
    "        query = self.norm(attention + x)\n",
    "        out = self.transformer_block(query, key, value)\n",
    "        \n",
    "        return out"
   ]
  },
  {
   "cell_type": "code",
   "execution_count": 48,
   "id": "d340e4e8",
   "metadata": {},
   "outputs": [],
   "source": [
    "class Decoder(nn.Module):\n",
    "    def __init__(self, loc_size, time_size, embed_dim, num_layers, num_heads, device, forward_expansion):\n",
    "        super(Decoder, self).__init__()\n",
    "        self.embed_dim = embed_dim\n",
    "        self.device = device\n",
    "        \n",
    "        self.input_embedding = nn.Embedding(loc_size, embed_dim).to(device)\n",
    "        self.position_embedding = nn.Embedding(time_size, embed_dim).to(device)\n",
    "        self.positional_encoding = PositionalEncoding(time_size, embed_dim).to(device)\n",
    "        \n",
    "        self.layers = nn.ModuleList([\n",
    "            DecoderBlock(\n",
    "                embed_dim,\n",
    "                num_heads,\n",
    "                forward_expansion=forward_expansion,\n",
    "                device=device\n",
    "            ) for _ in range(num_layers)\n",
    "        ])\n",
    "        \n",
    "        self.fc_out = nn.Linear(embed_dim, loc_size)\n",
    "        \n",
    "    def forward(self, output, output_position, enc_out):\n",
    "        space = self.input_embedding(output.unsqueeze(1))\n",
    "        positions = self.position_embedding(output_position.unsqueeze(1))\n",
    "        time = self.positional_encoding(positions)\n",
    "        \n",
    "        # Addition\n",
    "        out = space + time\n",
    "\n",
    "        for layer in self.layers:\n",
    "            out = layer(out, enc_out, enc_out)\n",
    "\n",
    "        out = self.fc_out(out)\n",
    "        \n",
    "        return out"
   ]
  },
  {
   "cell_type": "code",
   "execution_count": 49,
   "id": "59541731",
   "metadata": {},
   "outputs": [],
   "source": [
    "# # Example\n",
    "\n",
    "# input_embedding_layer = nn.Embedding(40000, EMBED_DIM) # InputEmbedding(max_len, embedding_dim)\n",
    "# position_embedding_layer = nn.Embedding(3600, EMBED_DIM) # max_len, embedding_dim\n",
    "# positional_encoding = PositionalEncoding(3600, EMBED_DIM) # max_len, embedding_dim\n",
    "\n",
    "# space_time = torch.tensor([])\n",
    "\n",
    "# for inputs, labels, positions, label_positions in train_dataloader:\n",
    "#     # Input Embedding\n",
    "#     space = input_embedding_layer(labels.unsqueeze(1)) # Shape: [batch_size, seq_len, embed_dim]\n",
    "    \n",
    "#     # Positional Encoding\n",
    "#     positions = position_embedding_layer(label_positions.unsqueeze(1))\n",
    "#     time = positional_encoding(positions) # Shape: [batch_size, seq_len, embed_dim]\n",
    "    \n",
    "#     # Display shapes\n",
    "#     print(\"Input Embedding:\", space.shape)\n",
    "#     print(\"Positional Encoding:\", time.shape)\n",
    "    \n",
    "#     # Addition\n",
    "#     space_time = space + time\n",
    "\n",
    "#     break"
   ]
  },
  {
   "cell_type": "markdown",
   "id": "4efac42b",
   "metadata": {},
   "source": [
    "# Transformer Training Block"
   ]
  },
  {
   "cell_type": "code",
   "execution_count": 50,
   "id": "bfeb774e",
   "metadata": {},
   "outputs": [],
   "source": [
    "class Transformer(nn.Module):\n",
    "    def __init__(self, loc_size, time_size, embed_dim, num_layers, num_heads, device, forward_expansion):\n",
    "        super(Transformer, self).__init__()\n",
    "        \n",
    "        self.encoder = Encoder(loc_size, time_size, embed_dim, num_layers, num_heads, device, forward_expansion)\n",
    "        self.decoder = Decoder(loc_size, time_size, embed_dim, num_layers, num_heads, device, forward_expansion)\n",
    "        self.device = device\n",
    "    \n",
    "    def forward(self, src_seq, src_pos, trg_seq, trg_pos):\n",
    "        # Encode Source\n",
    "        enc_out = self.encoder(src_seq, src_pos)\n",
    "        \n",
    "        # Decode target\n",
    "        dec_out = self.decoder(trg_seq, trg_pos, enc_out)\n",
    "        \n",
    "        return dec_out"
   ]
  },
  {
   "cell_type": "markdown",
   "id": "30859926",
   "metadata": {},
   "source": [
    "# Training"
   ]
  },
  {
   "cell_type": "code",
   "execution_count": 51,
   "id": "908a0aa8",
   "metadata": {},
   "outputs": [],
   "source": [
    "def train(model, dataloader, device, learning_rate=0.001):\n",
    "    model.train()\n",
    "    \n",
    "    # loss function and optimizer\n",
    "    criterion = nn.CrossEntropyLoss()\n",
    "    optimizer = Adam(model.parameters(), lr=learning_rate)\n",
    "    \n",
    "    total_loss = 0.0\n",
    "    \n",
    "    for inputs, labels, positions, label_positions in dataloader:\n",
    "        inputs = inputs.to(device)\n",
    "        labels = labels.to(device)\n",
    "        positions = positions.to(device)\n",
    "        label_positions = label_positions.to(device)\n",
    "        \n",
    "        # Reset gradients\n",
    "        optimizer.zero_grad()\n",
    "        \n",
    "        # Forward pass\n",
    "        outputs = model(inputs, positions, labels, label_positions)\n",
    "        \n",
    "        # Calculate loss\n",
    "        loss = criterion(outputs.view(-1, outputs.size(-1)), labels.view(-1))\n",
    "        total_loss += loss.item()\n",
    "        \n",
    "        # Backward pass and optimize\n",
    "        loss.backward()\n",
    "        optimizer.step()\n",
    "        \n",
    "        # print(\"Logits: \", outputs.detach().cpu().numpy())\n",
    "\n",
    "    # Average loss\n",
    "    avg_loss = total_loss / len(dataloader)\n",
    "    \n",
    "    return avg_loss"
   ]
  },
  {
   "cell_type": "code",
   "execution_count": 52,
   "id": "60305430",
   "metadata": {},
   "outputs": [],
   "source": [
    "def train_model(model, dataloader, device, epochs=10, learning_rate=0.001):\n",
    "    for epoch in range(epochs):\n",
    "        avg_loss = train(model, dataloader, device, learning_rate)\n",
    "        print(f\"Epoch {epoch+1}/{epochs}, Average Loss: {avg_loss}\")"
   ]
  },
  {
   "cell_type": "code",
   "execution_count": 53,
   "id": "2c951409",
   "metadata": {},
   "outputs": [],
   "source": [
    "EPOCH_NUM = 50"
   ]
  },
  {
   "cell_type": "code",
   "execution_count": 54,
   "id": "b18c3c6b",
   "metadata": {
    "scrolled": true
   },
   "outputs": [
    {
     "name": "stdout",
     "output_type": "stream",
     "text": [
      "Epoch 1/50, Average Loss: 10.843398094177246\n",
      "Epoch 2/50, Average Loss: 10.462899525960287\n",
      "Epoch 3/50, Average Loss: 10.050267855326334\n",
      "Epoch 4/50, Average Loss: 9.662948926289877\n",
      "Epoch 5/50, Average Loss: 9.336819012959799\n",
      "Epoch 6/50, Average Loss: 9.112147331237793\n",
      "Epoch 7/50, Average Loss: 8.76961358388265\n",
      "Epoch 8/50, Average Loss: 8.472186406453451\n",
      "Epoch 9/50, Average Loss: 8.28110122680664\n",
      "Epoch 10/50, Average Loss: 8.04799779256185\n",
      "Epoch 11/50, Average Loss: 7.710842132568359\n",
      "Epoch 12/50, Average Loss: 7.449434280395508\n",
      "Epoch 13/50, Average Loss: 7.201381683349609\n",
      "Epoch 14/50, Average Loss: 7.003868738810222\n",
      "Epoch 15/50, Average Loss: 6.807861328125\n",
      "Epoch 16/50, Average Loss: 6.570237636566162\n",
      "Epoch 17/50, Average Loss: 6.29765780766805\n",
      "Epoch 18/50, Average Loss: 6.123115062713623\n",
      "Epoch 19/50, Average Loss: 5.897909641265869\n",
      "Epoch 20/50, Average Loss: 5.700617631276448\n",
      "Epoch 21/50, Average Loss: 5.4507490793863935\n",
      "Epoch 22/50, Average Loss: 5.233182907104492\n",
      "Epoch 23/50, Average Loss: 5.004892508188884\n",
      "Epoch 24/50, Average Loss: 4.837190945943196\n",
      "Epoch 25/50, Average Loss: 4.588557084401448\n",
      "Epoch 26/50, Average Loss: 4.419061501820882\n",
      "Epoch 27/50, Average Loss: 4.118391036987305\n",
      "Epoch 28/50, Average Loss: 4.068862597147624\n",
      "Epoch 29/50, Average Loss: 3.783296585083008\n",
      "Epoch 30/50, Average Loss: 3.5294516881306968\n",
      "Epoch 31/50, Average Loss: 3.3620142141977944\n",
      "Epoch 32/50, Average Loss: 3.1428407033284507\n",
      "Epoch 33/50, Average Loss: 2.972411553064982\n",
      "Epoch 34/50, Average Loss: 2.7876110076904297\n",
      "Epoch 35/50, Average Loss: 2.575944185256958\n",
      "Epoch 36/50, Average Loss: 2.472490151723226\n",
      "Epoch 37/50, Average Loss: 2.257720390955607\n",
      "Epoch 38/50, Average Loss: 2.0956395069758096\n",
      "Epoch 39/50, Average Loss: 1.941084861755371\n",
      "Epoch 40/50, Average Loss: 1.819301962852478\n",
      "Epoch 41/50, Average Loss: 1.6608963012695312\n",
      "Epoch 42/50, Average Loss: 1.5228233337402344\n",
      "Epoch 43/50, Average Loss: 1.4040839672088623\n",
      "Epoch 44/50, Average Loss: 1.2874991099039714\n",
      "Epoch 45/50, Average Loss: 1.1575626532236736\n",
      "Epoch 46/50, Average Loss: 1.065223495165507\n",
      "Epoch 47/50, Average Loss: 0.9710851311683655\n",
      "Epoch 48/50, Average Loss: 0.8718845248222351\n",
      "Epoch 49/50, Average Loss: 0.7940063079198202\n",
      "Epoch 50/50, Average Loss: 0.7155696153640747\n"
     ]
    }
   ],
   "source": [
    "device = torch.device(\"cuda\" if torch.cuda.is_available() else \"cpu\")\n",
    "\n",
    "transformer = Transformer(loc_size=40000, \n",
    "                          time_size=3600, \n",
    "                          embed_dim=64,\n",
    "                          num_layers=4, \n",
    "                          num_heads=8, \n",
    "                          device=device, \n",
    "                          forward_expansion=4)\n",
    "transformer.to(device)\n",
    "train_model(transformer, train_dataloader, device, epochs=EPOCH_NUM)"
   ]
  },
  {
   "cell_type": "markdown",
   "id": "ed00718a",
   "metadata": {},
   "source": [
    "# Testing"
   ]
  },
  {
   "cell_type": "code",
   "execution_count": 59,
   "id": "ebfa2b03",
   "metadata": {},
   "outputs": [],
   "source": [
    "def inference(model, input_sequence):\n",
    "    model.eval()\n",
    "    with torch.no_grad():\n",
    "        logits = model(input_sequence)\n",
    "        probabilities = F.softmax(logits, dim=-1)\n",
    "        return probabilities"
   ]
  },
  {
   "cell_type": "code",
   "execution_count": 88,
   "id": "4e810604",
   "metadata": {},
   "outputs": [],
   "source": [
    "# Example of testing where we might want to calculate the accuracy\n",
    "def evaluate_model(model, dataloader, device):\n",
    "    model.eval()\n",
    "    total_correct = 0\n",
    "    total_examples = 0\n",
    "    \n",
    "    with torch.no_grad():\n",
    "        for inputs, labels, positions, label_positions in dataloader:\n",
    "            inputs = inputs.to(device)\n",
    "            labels = labels.to(device)\n",
    "            positions = positions.to(device)\n",
    "            label_positions = label_positions.to(device)\n",
    "            \n",
    "            logits = model(inputs, positions, labels, label_positions)\n",
    "            predictions = torch.argmax(logits, dim=-1)\n",
    "            \n",
    "            print(\"Location Difference\")\n",
    "            print(predictions.squeeze() - labels)\n",
    "            print()\n",
    "            \n",
    "            total_correct += (predictions.squeeze() == labels).sum().item()\n",
    "            total_examples += labels.numel()\n",
    "    \n",
    "    accuracy = total_correct / total_examples\n",
    "    return accuracy"
   ]
  },
  {
   "cell_type": "code",
   "execution_count": 89,
   "id": "63d14736",
   "metadata": {},
   "outputs": [
    {
     "name": "stdout",
     "output_type": "stream",
     "text": [
      "Location Difference\n",
      "tensor([  2586,  -8988,   4271, -13564,  12588,   -207,   8029,  -5415,  16082,\n",
      "         -6938,  14459,  -3262,   -352,   8500,  17457, -16326,  -5765,  -5766,\n",
      "         12675,  -3989,  17974,  14125,  11401,  -2179,   8776,  -3377,  16790,\n",
      "         15294, -13109, -14126, -11979,  27119,  -4978,  26172,  -8708,    194,\n",
      "          6581,  -1180,  -2798,  10856,   2603,  -2035,   4757,  13557,  -1794,\n",
      "         -2649, -20251, -16133,    173, -10471])\n",
      "\n",
      "Location Difference\n",
      "tensor([ -5789,   -336,  -6227,   2017,      0,   6579,  14469,   5178,  -5992,\n",
      "        -28555])\n",
      "\n",
      "Test Accuracy: 0.016666666666666666\n"
     ]
    }
   ],
   "source": [
    "test_accuracy = evaluate_model(transformer, test_dataloader, device)\n",
    "print(f\"Test Accuracy: {test_accuracy}\") # No Good...."
   ]
  }
 ],
 "metadata": {
  "kernelspec": {
   "display_name": "Python 3 (ipykernel)",
   "language": "python",
   "name": "python3"
  },
  "language_info": {
   "codemirror_mode": {
    "name": "ipython",
    "version": 3
   },
   "file_extension": ".py",
   "mimetype": "text/x-python",
   "name": "python",
   "nbconvert_exporter": "python",
   "pygments_lexer": "ipython3",
   "version": "3.11.4"
  }
 },
 "nbformat": 4,
 "nbformat_minor": 5
}
