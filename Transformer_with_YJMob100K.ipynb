{
 "cells": [
  {
   "cell_type": "markdown",
   "id": "b1725b8f",
   "metadata": {},
   "source": [
    "**Dataset**: https://www.nature.com/articles/s41597-024-03237-9\n",
    "\n",
    "**user ID** is the unique identifier of the mobile phone user (type: integer)\n",
    "\n",
    "**day** is the masked date of the observation. It may take a value between 0 and 74 for both Dataset 1 and Dataset 2 (type: integer).\n",
    "\n",
    "The location pings are discretized into 500 meters × 500 meters grid cells and the timestamps are rounded up into 30-minute bins. The actual date of the observations is not available either (i.e., timeslot t of day d) to protect privacy. In the second Dataset, the 75 day period is composed of 60 days of business-as-usual and 15 days during an emergency with unusual behavior.\n",
    "\n",
    "**timeslot** is the timestamp of the observation discretized into 30 minute intervals. \n",
    "It may take a value between 0 and 47, where 0 indicates between 0AM and 0:30AM, \n",
    "and 13 would indicate the timeslot between 6:30AM and 7:00AM.\n",
    "\n",
    "**x,y** are the coordinates of the observed location mapped onto the 500 meter discretized grid cell. It may take a value between (1, 1) and (200, 200). Details are shown in Fig. 2."
   ]
  },
  {
   "cell_type": "markdown",
   "id": "c900b465",
   "metadata": {},
   "source": [
    "## Input Data Processing + Tokenization"
   ]
  },
  {
   "cell_type": "code",
   "execution_count": 2,
   "id": "7155f27b",
   "metadata": {},
   "outputs": [],
   "source": [
    "# import pandas as pd\n",
    "# import gzip\n",
    "\n",
    "# Path to the .csv.gz file\n",
    "# yjmob1 = 'yjmob100k-dataset1.csv.gz'\n",
    "# yjmob2 = 'yjmob100k-dataset2.csv.gz'\n",
    "# yjmob_df = pd.concat([pd.read_csv(yjmob1, compression='gzip'),\n",
    "#                       pd.read_csv(yjmob2, compression='gzip')]).sort_values(by=['uid','d','t'],\n",
    "#                                                                             ignore_index=True)"
   ]
  },
  {
   "cell_type": "code",
   "execution_count": 3,
   "id": "94b1c564",
   "metadata": {},
   "outputs": [],
   "source": [
    "import pandas as pd\n",
    "import gzip\n",
    "\n",
    "yjmob1 = 'yjmob100k-dataset1.csv.gz' # dataset under normal scenes\n",
    "yjmob_df = pd.read_csv(yjmob1, compression='gzip').sort_values(by=['uid', 'd', 't'], ignore_index=True)"
   ]
  },
  {
   "cell_type": "markdown",
   "id": "b51cf933",
   "metadata": {},
   "source": [
    "### Train-Val-Test Split"
   ]
  },
  {
   "cell_type": "code",
   "execution_count": 6,
   "id": "0186b434",
   "metadata": {},
   "outputs": [],
   "source": [
    "# Retrieve all ids\n",
    "\n",
    "uids = yjmob_df['uid'].unique()"
   ]
  },
  {
   "cell_type": "code",
   "execution_count": 7,
   "id": "78cca0ed",
   "metadata": {},
   "outputs": [],
   "source": [
    "from sklearn.model_selection import train_test_split\n",
    "\n",
    "# 70 : 15 : 15 split\n",
    "\n",
    "# test-train split\n",
    "train_val_uids, test_uids = train_test_split(uids, test_size=0.15, random_state=42)\n",
    "\n",
    "# validation-test split\n",
    "train_uids, val_uids = train_test_split(train_val_uids, test_size=0.176, random_state=42) # 0.176≈15/85"
   ]
  },
  {
   "cell_type": "markdown",
   "id": "6b65e78d",
   "metadata": {},
   "source": [
    "### Load Test Data"
   ]
  },
  {
   "cell_type": "code",
   "execution_count": 14,
   "id": "472d505d",
   "metadata": {},
   "outputs": [],
   "source": [
    "df = yjmob_df[yjmob_df['uid'].isin(test_uids)]"
   ]
  },
  {
   "cell_type": "code",
   "execution_count": 20,
   "id": "e3bee241",
   "metadata": {},
   "outputs": [
    {
     "data": {
      "text/html": [
       "<div>\n",
       "<style scoped>\n",
       "    .dataframe tbody tr th:only-of-type {\n",
       "        vertical-align: middle;\n",
       "    }\n",
       "\n",
       "    .dataframe tbody tr th {\n",
       "        vertical-align: top;\n",
       "    }\n",
       "\n",
       "    .dataframe thead th {\n",
       "        text-align: right;\n",
       "    }\n",
       "</style>\n",
       "<table border=\"1\" class=\"dataframe\">\n",
       "  <thead>\n",
       "    <tr style=\"text-align: right;\">\n",
       "      <th></th>\n",
       "      <th>uid</th>\n",
       "      <th>d</th>\n",
       "      <th>t</th>\n",
       "      <th>x</th>\n",
       "      <th>y</th>\n",
       "    </tr>\n",
       "  </thead>\n",
       "  <tbody>\n",
       "    <tr>\n",
       "      <th>35039</th>\n",
       "      <td>23</td>\n",
       "      <td>0</td>\n",
       "      <td>24</td>\n",
       "      <td>47</td>\n",
       "      <td>183</td>\n",
       "    </tr>\n",
       "    <tr>\n",
       "      <th>35040</th>\n",
       "      <td>23</td>\n",
       "      <td>0</td>\n",
       "      <td>25</td>\n",
       "      <td>55</td>\n",
       "      <td>188</td>\n",
       "    </tr>\n",
       "    <tr>\n",
       "      <th>35041</th>\n",
       "      <td>23</td>\n",
       "      <td>0</td>\n",
       "      <td>26</td>\n",
       "      <td>55</td>\n",
       "      <td>188</td>\n",
       "    </tr>\n",
       "    <tr>\n",
       "      <th>35042</th>\n",
       "      <td>23</td>\n",
       "      <td>0</td>\n",
       "      <td>29</td>\n",
       "      <td>50</td>\n",
       "      <td>187</td>\n",
       "    </tr>\n",
       "    <tr>\n",
       "      <th>35043</th>\n",
       "      <td>23</td>\n",
       "      <td>0</td>\n",
       "      <td>30</td>\n",
       "      <td>47</td>\n",
       "      <td>182</td>\n",
       "    </tr>\n",
       "  </tbody>\n",
       "</table>\n",
       "</div>"
      ],
      "text/plain": [
       "       uid  d   t   x    y\n",
       "35039   23  0  24  47  183\n",
       "35040   23  0  25  55  188\n",
       "35041   23  0  26  55  188\n",
       "35042   23  0  29  50  187\n",
       "35043   23  0  30  47  182"
      ]
     },
     "execution_count": 20,
     "metadata": {},
     "output_type": "execute_result"
    }
   ],
   "source": [
    "df.head(5)"
   ]
  },
  {
   "cell_type": "markdown",
   "id": "20f3bb21",
   "metadata": {},
   "source": [
    "### Tokenize Time Data"
   ]
  },
  {
   "cell_type": "code",
   "execution_count": 45,
   "id": "233ae283",
   "metadata": {},
   "outputs": [],
   "source": [
    "# df[['t']].min(), df[['t']].max() # [0, 47]\n",
    "# df[['d']].min(), df[['d']].max() # [0, 74]"
   ]
  },
  {
   "cell_type": "code",
   "execution_count": 42,
   "id": "a1021153",
   "metadata": {},
   "outputs": [
    {
     "name": "stderr",
     "output_type": "stream",
     "text": [
      "/var/folders/hx/xp23lpqx4ndfxcvp3qj_bdgr0000gn/T/ipykernel_57304/595267703.py:1: SettingWithCopyWarning: \n",
      "A value is trying to be set on a copy of a slice from a DataFrame.\n",
      "Try using .loc[row_indexer,col_indexer] = value instead\n",
      "\n",
      "See the caveats in the documentation: https://pandas.pydata.org/pandas-docs/stable/user_guide/indexing.html#returning-a-view-versus-a-copy\n",
      "  df['combined_t'] = df['d']*47+df['t']\n"
     ]
    }
   ],
   "source": [
    "df['combined_t'] = df['d']*47+df['t']\n",
    "\n",
    "## Ignore the SettingWithCopyWarning"
   ]
  },
  {
   "cell_type": "code",
   "execution_count": 44,
   "id": "91b83950",
   "metadata": {},
   "outputs": [
    {
     "data": {
      "text/html": [
       "<div>\n",
       "<style scoped>\n",
       "    .dataframe tbody tr th:only-of-type {\n",
       "        vertical-align: middle;\n",
       "    }\n",
       "\n",
       "    .dataframe tbody tr th {\n",
       "        vertical-align: top;\n",
       "    }\n",
       "\n",
       "    .dataframe thead th {\n",
       "        text-align: right;\n",
       "    }\n",
       "</style>\n",
       "<table border=\"1\" class=\"dataframe\">\n",
       "  <thead>\n",
       "    <tr style=\"text-align: right;\">\n",
       "      <th></th>\n",
       "      <th>uid</th>\n",
       "      <th>d</th>\n",
       "      <th>t</th>\n",
       "      <th>x</th>\n",
       "      <th>y</th>\n",
       "      <th>combined_t</th>\n",
       "    </tr>\n",
       "  </thead>\n",
       "  <tbody>\n",
       "    <tr>\n",
       "      <th>35039</th>\n",
       "      <td>23</td>\n",
       "      <td>0</td>\n",
       "      <td>24</td>\n",
       "      <td>47</td>\n",
       "      <td>183</td>\n",
       "      <td>24</td>\n",
       "    </tr>\n",
       "    <tr>\n",
       "      <th>35040</th>\n",
       "      <td>23</td>\n",
       "      <td>0</td>\n",
       "      <td>25</td>\n",
       "      <td>55</td>\n",
       "      <td>188</td>\n",
       "      <td>25</td>\n",
       "    </tr>\n",
       "    <tr>\n",
       "      <th>35041</th>\n",
       "      <td>23</td>\n",
       "      <td>0</td>\n",
       "      <td>26</td>\n",
       "      <td>55</td>\n",
       "      <td>188</td>\n",
       "      <td>26</td>\n",
       "    </tr>\n",
       "    <tr>\n",
       "      <th>35042</th>\n",
       "      <td>23</td>\n",
       "      <td>0</td>\n",
       "      <td>29</td>\n",
       "      <td>50</td>\n",
       "      <td>187</td>\n",
       "      <td>29</td>\n",
       "    </tr>\n",
       "    <tr>\n",
       "      <th>35043</th>\n",
       "      <td>23</td>\n",
       "      <td>0</td>\n",
       "      <td>30</td>\n",
       "      <td>47</td>\n",
       "      <td>182</td>\n",
       "      <td>30</td>\n",
       "    </tr>\n",
       "  </tbody>\n",
       "</table>\n",
       "</div>"
      ],
      "text/plain": [
       "       uid  d   t   x    y  combined_t\n",
       "35039   23  0  24  47  183          24\n",
       "35040   23  0  25  55  188          25\n",
       "35041   23  0  26  55  188          26\n",
       "35042   23  0  29  50  187          29\n",
       "35043   23  0  30  47  182          30"
      ]
     },
     "execution_count": 44,
     "metadata": {},
     "output_type": "execute_result"
    }
   ],
   "source": [
    "df.head(5)"
   ]
  },
  {
   "cell_type": "markdown",
   "id": "d69d1838",
   "metadata": {},
   "source": [
    "### Tokenize Spatial Data"
   ]
  },
  {
   "cell_type": "code",
   "execution_count": 65,
   "id": "58a22688",
   "metadata": {},
   "outputs": [],
   "source": [
    "# linearization of the 2-dimensional grid, i.e., the original x,y coordinate system\n",
    "def spatial_token(x, y):\n",
    "    # x,y are the coordinate location\n",
    "    # x determines the column order while\n",
    "    # y determines the row order\n",
    "    # (x-1) calculates the starting grid-column position\n",
    "    # (y-1)*200 calculates the start index of the grid-row\n",
    "    return (x-1)+(y-1)*200"
   ]
  },
  {
   "cell_type": "code",
   "execution_count": 79,
   "id": "943096e9",
   "metadata": {},
   "outputs": [
    {
     "name": "stderr",
     "output_type": "stream",
     "text": [
      "/var/folders/hx/xp23lpqx4ndfxcvp3qj_bdgr0000gn/T/ipykernel_57304/4041540134.py:1: SettingWithCopyWarning: \n",
      "A value is trying to be set on a copy of a slice from a DataFrame.\n",
      "Try using .loc[row_indexer,col_indexer] = value instead\n",
      "\n",
      "See the caveats in the documentation: https://pandas.pydata.org/pandas-docs/stable/user_guide/indexing.html#returning-a-view-versus-a-copy\n",
      "  df['combined_xy'] = df.apply(lambda row: spatial_token(row['x'], row['y']), axis=1)\n"
     ]
    }
   ],
   "source": [
    "df['combined_xy'] = df.apply(lambda row: spatial_token(row['x'], row['y']), axis=1)\n",
    "\n",
    "## Ignore the SettingWithCopyWarning"
   ]
  },
  {
   "cell_type": "code",
   "execution_count": 80,
   "id": "85936530",
   "metadata": {},
   "outputs": [
    {
     "data": {
      "text/html": [
       "<div>\n",
       "<style scoped>\n",
       "    .dataframe tbody tr th:only-of-type {\n",
       "        vertical-align: middle;\n",
       "    }\n",
       "\n",
       "    .dataframe tbody tr th {\n",
       "        vertical-align: top;\n",
       "    }\n",
       "\n",
       "    .dataframe thead th {\n",
       "        text-align: right;\n",
       "    }\n",
       "</style>\n",
       "<table border=\"1\" class=\"dataframe\">\n",
       "  <thead>\n",
       "    <tr style=\"text-align: right;\">\n",
       "      <th></th>\n",
       "      <th>uid</th>\n",
       "      <th>d</th>\n",
       "      <th>t</th>\n",
       "      <th>x</th>\n",
       "      <th>y</th>\n",
       "      <th>combined_t</th>\n",
       "      <th>combined_xy</th>\n",
       "    </tr>\n",
       "  </thead>\n",
       "  <tbody>\n",
       "    <tr>\n",
       "      <th>35039</th>\n",
       "      <td>23</td>\n",
       "      <td>0</td>\n",
       "      <td>24</td>\n",
       "      <td>47</td>\n",
       "      <td>183</td>\n",
       "      <td>24</td>\n",
       "      <td>36446</td>\n",
       "    </tr>\n",
       "    <tr>\n",
       "      <th>35040</th>\n",
       "      <td>23</td>\n",
       "      <td>0</td>\n",
       "      <td>25</td>\n",
       "      <td>55</td>\n",
       "      <td>188</td>\n",
       "      <td>25</td>\n",
       "      <td>37454</td>\n",
       "    </tr>\n",
       "    <tr>\n",
       "      <th>35041</th>\n",
       "      <td>23</td>\n",
       "      <td>0</td>\n",
       "      <td>26</td>\n",
       "      <td>55</td>\n",
       "      <td>188</td>\n",
       "      <td>26</td>\n",
       "      <td>37454</td>\n",
       "    </tr>\n",
       "    <tr>\n",
       "      <th>35042</th>\n",
       "      <td>23</td>\n",
       "      <td>0</td>\n",
       "      <td>29</td>\n",
       "      <td>50</td>\n",
       "      <td>187</td>\n",
       "      <td>29</td>\n",
       "      <td>37249</td>\n",
       "    </tr>\n",
       "    <tr>\n",
       "      <th>35043</th>\n",
       "      <td>23</td>\n",
       "      <td>0</td>\n",
       "      <td>30</td>\n",
       "      <td>47</td>\n",
       "      <td>182</td>\n",
       "      <td>30</td>\n",
       "      <td>36246</td>\n",
       "    </tr>\n",
       "  </tbody>\n",
       "</table>\n",
       "</div>"
      ],
      "text/plain": [
       "       uid  d   t   x    y  combined_t  combined_xy\n",
       "35039   23  0  24  47  183          24        36446\n",
       "35040   23  0  25  55  188          25        37454\n",
       "35041   23  0  26  55  188          26        37454\n",
       "35042   23  0  29  50  187          29        37249\n",
       "35043   23  0  30  47  182          30        36246"
      ]
     },
     "execution_count": 80,
     "metadata": {},
     "output_type": "execute_result"
    }
   ],
   "source": [
    "df.head(5)"
   ]
  },
  {
   "cell_type": "code",
   "execution_count": 148,
   "id": "b611023b",
   "metadata": {},
   "outputs": [],
   "source": [
    "# original data\n",
    "\n",
    "# df['combined_t'].min(), df['combined_t'].max() # (0, 3525)\n",
    "# df['combined_xy'].min(), df['combined_xy'].max() # (0, 39999)\n",
    "\n",
    "df = df.sort_values(by=['uid', 'combined_t'])"
   ]
  },
  {
   "cell_type": "code",
   "execution_count": 149,
   "id": "8b2b6200",
   "metadata": {},
   "outputs": [
    {
     "data": {
      "text/html": [
       "<div>\n",
       "<style scoped>\n",
       "    .dataframe tbody tr th:only-of-type {\n",
       "        vertical-align: middle;\n",
       "    }\n",
       "\n",
       "    .dataframe tbody tr th {\n",
       "        vertical-align: top;\n",
       "    }\n",
       "\n",
       "    .dataframe thead th {\n",
       "        text-align: right;\n",
       "    }\n",
       "</style>\n",
       "<table border=\"1\" class=\"dataframe\">\n",
       "  <thead>\n",
       "    <tr style=\"text-align: right;\">\n",
       "      <th></th>\n",
       "      <th>uid</th>\n",
       "      <th>d</th>\n",
       "      <th>t</th>\n",
       "      <th>x</th>\n",
       "      <th>y</th>\n",
       "      <th>combined_t</th>\n",
       "      <th>combined_xy</th>\n",
       "    </tr>\n",
       "  </thead>\n",
       "  <tbody>\n",
       "    <tr>\n",
       "      <th>35039</th>\n",
       "      <td>23</td>\n",
       "      <td>0</td>\n",
       "      <td>24</td>\n",
       "      <td>47</td>\n",
       "      <td>183</td>\n",
       "      <td>24</td>\n",
       "      <td>36446</td>\n",
       "    </tr>\n",
       "    <tr>\n",
       "      <th>35040</th>\n",
       "      <td>23</td>\n",
       "      <td>0</td>\n",
       "      <td>25</td>\n",
       "      <td>55</td>\n",
       "      <td>188</td>\n",
       "      <td>25</td>\n",
       "      <td>37454</td>\n",
       "    </tr>\n",
       "    <tr>\n",
       "      <th>35041</th>\n",
       "      <td>23</td>\n",
       "      <td>0</td>\n",
       "      <td>26</td>\n",
       "      <td>55</td>\n",
       "      <td>188</td>\n",
       "      <td>26</td>\n",
       "      <td>37454</td>\n",
       "    </tr>\n",
       "    <tr>\n",
       "      <th>35042</th>\n",
       "      <td>23</td>\n",
       "      <td>0</td>\n",
       "      <td>29</td>\n",
       "      <td>50</td>\n",
       "      <td>187</td>\n",
       "      <td>29</td>\n",
       "      <td>37249</td>\n",
       "    </tr>\n",
       "    <tr>\n",
       "      <th>35043</th>\n",
       "      <td>23</td>\n",
       "      <td>0</td>\n",
       "      <td>30</td>\n",
       "      <td>47</td>\n",
       "      <td>182</td>\n",
       "      <td>30</td>\n",
       "      <td>36246</td>\n",
       "    </tr>\n",
       "  </tbody>\n",
       "</table>\n",
       "</div>"
      ],
      "text/plain": [
       "       uid  d   t   x    y  combined_t  combined_xy\n",
       "35039   23  0  24  47  183          24        36446\n",
       "35040   23  0  25  55  188          25        37454\n",
       "35041   23  0  26  55  188          26        37454\n",
       "35042   23  0  29  50  187          29        37249\n",
       "35043   23  0  30  47  182          30        36246"
      ]
     },
     "execution_count": 149,
     "metadata": {},
     "output_type": "execute_result"
    }
   ],
   "source": [
    "df.head(5)"
   ]
  },
  {
   "cell_type": "markdown",
   "id": "ef3094ec",
   "metadata": {},
   "source": [
    "## Batching"
   ]
  },
  {
   "cell_type": "code",
   "execution_count": 161,
   "id": "0fba22fd",
   "metadata": {},
   "outputs": [],
   "source": [
    "# Group data by uid\n",
    "\n",
    "grouped_data = df[['uid', 'combined_t', 'combined_xy']].groupby('uid')\n",
    "grouped_data = [group for _, group in df.groupby('uid')]"
   ]
  },
  {
   "cell_type": "code",
   "execution_count": 180,
   "id": "90360519",
   "metadata": {},
   "outputs": [
    {
     "data": {
      "text/html": [
       "<div>\n",
       "<style scoped>\n",
       "    .dataframe tbody tr th:only-of-type {\n",
       "        vertical-align: middle;\n",
       "    }\n",
       "\n",
       "    .dataframe tbody tr th {\n",
       "        vertical-align: top;\n",
       "    }\n",
       "\n",
       "    .dataframe thead th {\n",
       "        text-align: right;\n",
       "    }\n",
       "</style>\n",
       "<table border=\"1\" class=\"dataframe\">\n",
       "  <thead>\n",
       "    <tr style=\"text-align: right;\">\n",
       "      <th></th>\n",
       "      <th>uid</th>\n",
       "      <th>d</th>\n",
       "      <th>t</th>\n",
       "      <th>x</th>\n",
       "      <th>y</th>\n",
       "      <th>combined_t</th>\n",
       "      <th>combined_xy</th>\n",
       "    </tr>\n",
       "  </thead>\n",
       "  <tbody>\n",
       "    <tr>\n",
       "      <th>35039</th>\n",
       "      <td>23</td>\n",
       "      <td>0</td>\n",
       "      <td>24</td>\n",
       "      <td>47</td>\n",
       "      <td>183</td>\n",
       "      <td>24</td>\n",
       "      <td>36446</td>\n",
       "    </tr>\n",
       "    <tr>\n",
       "      <th>35040</th>\n",
       "      <td>23</td>\n",
       "      <td>0</td>\n",
       "      <td>25</td>\n",
       "      <td>55</td>\n",
       "      <td>188</td>\n",
       "      <td>25</td>\n",
       "      <td>37454</td>\n",
       "    </tr>\n",
       "    <tr>\n",
       "      <th>35041</th>\n",
       "      <td>23</td>\n",
       "      <td>0</td>\n",
       "      <td>26</td>\n",
       "      <td>55</td>\n",
       "      <td>188</td>\n",
       "      <td>26</td>\n",
       "      <td>37454</td>\n",
       "    </tr>\n",
       "    <tr>\n",
       "      <th>35042</th>\n",
       "      <td>23</td>\n",
       "      <td>0</td>\n",
       "      <td>29</td>\n",
       "      <td>50</td>\n",
       "      <td>187</td>\n",
       "      <td>29</td>\n",
       "      <td>37249</td>\n",
       "    </tr>\n",
       "    <tr>\n",
       "      <th>35043</th>\n",
       "      <td>23</td>\n",
       "      <td>0</td>\n",
       "      <td>30</td>\n",
       "      <td>47</td>\n",
       "      <td>182</td>\n",
       "      <td>30</td>\n",
       "      <td>36246</td>\n",
       "    </tr>\n",
       "    <tr>\n",
       "      <th>...</th>\n",
       "      <td>...</td>\n",
       "      <td>...</td>\n",
       "      <td>...</td>\n",
       "      <td>...</td>\n",
       "      <td>...</td>\n",
       "      <td>...</td>\n",
       "      <td>...</td>\n",
       "    </tr>\n",
       "    <tr>\n",
       "      <th>36620</th>\n",
       "      <td>23</td>\n",
       "      <td>74</td>\n",
       "      <td>13</td>\n",
       "      <td>48</td>\n",
       "      <td>182</td>\n",
       "      <td>3491</td>\n",
       "      <td>36247</td>\n",
       "    </tr>\n",
       "    <tr>\n",
       "      <th>36621</th>\n",
       "      <td>23</td>\n",
       "      <td>74</td>\n",
       "      <td>14</td>\n",
       "      <td>52</td>\n",
       "      <td>187</td>\n",
       "      <td>3492</td>\n",
       "      <td>37251</td>\n",
       "    </tr>\n",
       "    <tr>\n",
       "      <th>36622</th>\n",
       "      <td>23</td>\n",
       "      <td>74</td>\n",
       "      <td>15</td>\n",
       "      <td>66</td>\n",
       "      <td>194</td>\n",
       "      <td>3493</td>\n",
       "      <td>38665</td>\n",
       "    </tr>\n",
       "    <tr>\n",
       "      <th>36623</th>\n",
       "      <td>23</td>\n",
       "      <td>74</td>\n",
       "      <td>33</td>\n",
       "      <td>153</td>\n",
       "      <td>192</td>\n",
       "      <td>3511</td>\n",
       "      <td>38352</td>\n",
       "    </tr>\n",
       "    <tr>\n",
       "      <th>36624</th>\n",
       "      <td>23</td>\n",
       "      <td>74</td>\n",
       "      <td>34</td>\n",
       "      <td>151</td>\n",
       "      <td>187</td>\n",
       "      <td>3512</td>\n",
       "      <td>37350</td>\n",
       "    </tr>\n",
       "  </tbody>\n",
       "</table>\n",
       "<p>1586 rows × 7 columns</p>\n",
       "</div>"
      ],
      "text/plain": [
       "       uid   d   t    x    y  combined_t  combined_xy\n",
       "35039   23   0  24   47  183          24        36446\n",
       "35040   23   0  25   55  188          25        37454\n",
       "35041   23   0  26   55  188          26        37454\n",
       "35042   23   0  29   50  187          29        37249\n",
       "35043   23   0  30   47  182          30        36246\n",
       "...    ...  ..  ..  ...  ...         ...          ...\n",
       "36620   23  74  13   48  182        3491        36247\n",
       "36621   23  74  14   52  187        3492        37251\n",
       "36622   23  74  15   66  194        3493        38665\n",
       "36623   23  74  33  153  192        3511        38352\n",
       "36624   23  74  34  151  187        3512        37350\n",
       "\n",
       "[1586 rows x 7 columns]"
      ]
     },
     "execution_count": 180,
     "metadata": {},
     "output_type": "execute_result"
    }
   ],
   "source": [
    "grouped_data[0]"
   ]
  },
  {
   "cell_type": "code",
   "execution_count": 168,
   "id": "ae51b6e6",
   "metadata": {},
   "outputs": [],
   "source": [
    "import torch\n",
    "from torch.utils.data import Dataset, DataLoader\n",
    "\n",
    "class TrajectoryDataset(Dataset):\n",
    "    def __init__(self, grouped_data):\n",
    "        self.data = grouped_data\n",
    "        \n",
    "    def __len__(self):\n",
    "        return len(self.data)\n",
    "    \n",
    "    def __getitem__(self, idx):\n",
    "        # Fetch the DataFrame for a specific uid\n",
    "        # Note idx != uid\n",
    "        data_for_uid = self.data[idx]\n",
    "        \n",
    "        # Extract combined_xy and combined_t from the DataFrame\n",
    "        combined_xy = torch.tensor(data_for_uid['combined_xy'].values.tolist(), dtype=torch.long)\n",
    "        combined_t = torch.tensor(data_for_uid['combined_t'].values.tolist(), dtype=torch.long)\n",
    "        \n",
    "        return combined_xy, combined_t\n",
    "\n",
    "test_dataset = TrajectoryDataset(grouped_data)"
   ]
  },
  {
   "cell_type": "code",
   "execution_count": 172,
   "id": "2d5a5e31",
   "metadata": {},
   "outputs": [
    {
     "data": {
      "text/plain": [
       "(tensor([36446, 37454, 37454,  ..., 38665, 38352, 37350]),\n",
       " tensor([  24,   25,   26,  ..., 3493, 3511, 3512]))"
      ]
     },
     "execution_count": 172,
     "metadata": {},
     "output_type": "execute_result"
    }
   ],
   "source": [
    "# Example\n",
    "test_dataset.__getitem__(0) # uid=23"
   ]
  },
  {
   "cell_type": "code",
   "execution_count": 189,
   "id": "63507fe7",
   "metadata": {},
   "outputs": [],
   "source": [
    "def collate_fn(batch):\n",
    "    # Unzip all batch\n",
    "    combined_xy_batch, combined_t_batch = zip(*batch)\n",
    "    \n",
    "    # Pad the sequence with less length in a batch\n",
    "    # Crucial for pad processing\n",
    "    combined_xy_padded = torch.nn.utils.rnn.pad_sequence(combined_xy_batch, padding_value=0)\n",
    "    combined_t_padded = torch.nn.utils.rnn.pad_sequence(combined_t_batch, padding_value=0)\n",
    "    \n",
    "    return combined_xy_padded, combined_t_padded"
   ]
  },
  {
   "cell_type": "code",
   "execution_count": null,
   "id": "12a80c30",
   "metadata": {},
   "outputs": [],
   "source": [
    "# Dataloader would contain 4 users trajectory data within the same batch\n",
    "test_dataloader = DataLoader(test_dataset, batch_size=4, shuffle=True, collate_fn=collate_fn)"
   ]
  },
  {
   "cell_type": "code",
   "execution_count": 194,
   "id": "37335605",
   "metadata": {},
   "outputs": [
    {
     "name": "stdout",
     "output_type": "stream",
     "text": [
      "Shape of combined_xy_padded: torch.Size([4, 1124])\n",
      "Shape of combined_t_padded: torch.Size([4, 1124])\n",
      "First data from combined_xy_padded: tensor([16684, 16685, 17079,  ..., 16684, 16685, 16684])\n",
      "First data from combined_t_padded: tensor([  21,   22,   24,  ..., 3523, 3524, 3525])\n"
     ]
    }
   ],
   "source": [
    "# Example\n",
    "data_iter = iter(dataloader)\n",
    "combined_xy_padded, combined_t_padded = next(data_iter)\n",
    "\n",
    "print(\"Shape of combined_xy_padded:\", combined_xy_padded.shape)\n",
    "print(\"Shape of combined_t_padded:\", combined_t_padded.shape)\n",
    "print(\"First data from combined_xy_padded:\", combined_xy_padded[0])\n",
    "print(\"First data from combined_t_padded:\", combined_t_padded[0])"
   ]
  },
  {
   "cell_type": "markdown",
   "id": "4348867e",
   "metadata": {},
   "source": [
    "## Embedding\n",
    "\n",
    "https://pytorch.org/tutorials/beginner/transformer_tutorial.html#load-and-batch-data"
   ]
  },
  {
   "cell_type": "code",
   "execution_count": 74,
   "id": "11b6b23b",
   "metadata": {},
   "outputs": [],
   "source": [
    "import numpy as np\n",
    "import torch.nn as nn\n",
    "\n",
    "EMBED_DIM = 64"
   ]
  },
  {
   "cell_type": "code",
   "execution_count": 75,
   "id": "503015b3",
   "metadata": {},
   "outputs": [],
   "source": [
    "# Space - Input Embedding\n",
    "\n",
    "class InputEmbedding(nn.Module):\n",
    "    def __init__(self, num_embeddings=40000, embedding_dim=EMBED_DIM):\n",
    "        super(InputEmbedding, self).__init__()\n",
    "        self.embedding = nn.Embedding(num_embeddings, embedding_dim)\n",
    "\n",
    "    def forward(self, x):\n",
    "        return self.embedding(x)"
   ]
  },
  {
   "cell_type": "code",
   "execution_count": 96,
   "id": "ab7896bf",
   "metadata": {},
   "outputs": [],
   "source": [
    "# Time - Positional Embedding\n",
    "\n",
    "class PositionalEncoding(nn.Module):\n",
    "    def __init__(self, embedding_dim=EMBED_DIM, dropout=0.1, max_len=3600):\n",
    "        super(PositionalEncoding, self).__init__()\n",
    "        self.dropout = nn.Dropout(p=dropout) # prevent overfitting\n",
    "        self.embedding_dim = embedding_dim\n",
    "\n",
    "        position = torch.arange(max_len).unsqueeze(1)\n",
    "        div_term = torch.exp(torch.arange(0, embedding_dim, 2) * (-np.log(10000.0) / embedding_dim))\n",
    "        pe = torch.zeros(max_len, 1, embedding_dim)\n",
    "        pe[:, 0, 0::2] = torch.sin(position.float() * div_term)\n",
    "        pe[:, 0, 1::2] = torch.cos(position.float() * div_term)\n",
    "        self.register_buffer('pe', pe)\n",
    "\n",
    "    def forward(self, x):\n",
    "        \"\"\"\n",
    "        Arguments:\n",
    "            x: Tensor, shape ``[seq_len, batch_size, embedding_dim]``\n",
    "        \"\"\"\n",
    "        x = x + self.pe[:x.size(0)]\n",
    "        return self.dropout(x)"
   ]
  },
  {
   "cell_type": "code",
   "execution_count": 199,
   "id": "2de4f514",
   "metadata": {},
   "outputs": [],
   "source": [
    "input_embedding = InputEmbedding()\n",
    "positional_encoding = PositionalEncoding()"
   ]
  },
  {
   "cell_type": "code",
   "execution_count": 206,
   "id": "177b060f",
   "metadata": {
    "scrolled": true
   },
   "outputs": [],
   "source": [
    "# Example\n",
    "for combined_xy_padded, combined_t_padded in test_dataloader:\n",
    "    # Shape: [seq_len, batch_size, embedding_dim]\n",
    "    \n",
    "    # Input Embedding\n",
    "    space = input_embedding(combined_xy_padded) \n",
    "    \n",
    "    # Apply Positional Encoding\n",
    "    time = positional_encoding(embedded_xy)\n",
    "    \n",
    "    print(\"Input Embedding:\", space.shape)\n",
    "    print(space[0, :, :]) # [first timstamp, for all data in a batch, for all element composed]\n",
    "    print()\n",
    "    print(\"Positional Encoding:\", time.shape)\n",
    "    print(time[0, :, :])\n",
    "    \n",
    "    break"
   ]
  },
  {
   "cell_type": "markdown",
   "id": "c2d75c9d",
   "metadata": {},
   "source": [
    "## Transformer Model"
   ]
  },
  {
   "cell_type": "code",
   "execution_count": null,
   "id": "57078a2a",
   "metadata": {},
   "outputs": [],
   "source": []
  }
 ],
 "metadata": {
  "kernelspec": {
   "display_name": "Python 3 (ipykernel)",
   "language": "python",
   "name": "python3"
  },
  "language_info": {
   "codemirror_mode": {
    "name": "ipython",
    "version": 3
   },
   "file_extension": ".py",
   "mimetype": "text/x-python",
   "name": "python",
   "nbconvert_exporter": "python",
   "pygments_lexer": "ipython3",
   "version": "3.11.4"
  }
 },
 "nbformat": 4,
 "nbformat_minor": 5
}
