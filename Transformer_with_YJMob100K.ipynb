{
 "cells": [
  {
   "cell_type": "markdown",
   "id": "0051dc88",
   "metadata": {},
   "source": [
    "**Dataset**: https://www.nature.com/articles/s41597-024-03237-9\n",
    "\n",
    "**Encoder and Decoder Reference**: https://www.youtube.com/watch?v=U0s0f995w14\n",
    "\n",
    "**user ID** is the unique identifier of the mobile phone user (type: integer)\n",
    "\n",
    "**day** is the masked date of the observation. It may take a value between 0 and 74 for both Dataset 1 and Dataset 2 (type: integer).\n",
    "\n",
    "The location pings are discretized into 500 meters × 500 meters grid cells and the timestamps are rounded up into 30-minute bins. The actual date of the observations is not available either (i.e., timeslot t of day d) to protect privacy. In the second Dataset, the 75 day period is composed of 60 days of business-as-usual and 15 days during an emergency with unusual behavior.\n",
    "\n",
    "**timeslot** is the timestamp of the observation discretized into 30 minute intervals. \n",
    "It may take a value between 0 and 47, where 0 indicates between 0AM and 0:30AM, \n",
    "and 13 would indicate the timeslot between 6:30AM and 7:00AM.\n",
    "\n",
    "**x,y** are the coordinates of the observed location mapped onto the 500 meter discretized grid cell. It may take a value between (1, 1) and (200, 200). Details are shown in Fig. 2."
   ]
  },
  {
   "cell_type": "markdown",
   "id": "74aad1bf",
   "metadata": {},
   "source": [
    "# Import Libraries"
   ]
  },
  {
   "cell_type": "code",
   "execution_count": 1,
   "id": "d158f4ba",
   "metadata": {},
   "outputs": [],
   "source": [
    "import gzip\n",
    "import pandas as pd\n",
    "import numpy as np\n",
    "import matplotlib.pyplot as plt\n",
    "from sklearn.model_selection import train_test_split\n",
    "import torch\n",
    "import torch.nn as nn\n",
    "from torch.optim import Adam\n",
    "from torch.utils.data import Dataset, DataLoader"
   ]
  },
  {
   "cell_type": "markdown",
   "id": "a5fe1e83",
   "metadata": {},
   "source": [
    "## Input Data Processing + Tokenization"
   ]
  },
  {
   "cell_type": "code",
   "execution_count": 2,
   "id": "f611dc61",
   "metadata": {},
   "outputs": [],
   "source": [
    "# yjmob1 = 'yjmob100k-dataset1.csv.gz'\n",
    "# yjmob2 = 'yjmob100k-dataset2.csv.gz'\n",
    "# yjmob_df = pd.concat([pd.read_csv(yjmob1, compression='gzip'),\n",
    "#                       pd.read_csv(yjmob2, compression='gzip')]).sort_values(by=['uid','d','t'],\n",
    "#                                                                             ignore_index=True)"
   ]
  },
  {
   "cell_type": "code",
   "execution_count": 3,
   "id": "64854975",
   "metadata": {},
   "outputs": [],
   "source": [
    "yjmob1 = 'yjmob100k-dataset1.csv.gz' # dataset under normal scenes\n",
    "yjmob_df = pd.read_csv(yjmob1, compression='gzip').sort_values(by=['uid', 'd', 't'], ignore_index=True)"
   ]
  },
  {
   "cell_type": "markdown",
   "id": "e56910c3",
   "metadata": {},
   "source": [
    "### Train-Val-Test Split"
   ]
  },
  {
   "cell_type": "code",
   "execution_count": 4,
   "id": "f862e132",
   "metadata": {},
   "outputs": [],
   "source": [
    "# Retrieve all ids\n",
    "\n",
    "uids = yjmob_df['uid'].unique()"
   ]
  },
  {
   "cell_type": "code",
   "execution_count": 5,
   "id": "fd5386e4",
   "metadata": {},
   "outputs": [],
   "source": [
    "# Just to reduce memory space\n",
    "\n",
    "selected_uids = uids[:200]"
   ]
  },
  {
   "cell_type": "code",
   "execution_count": 6,
   "id": "fe34b45f",
   "metadata": {},
   "outputs": [],
   "source": [
    "# 70 : 15 : 15 split\n",
    "\n",
    "# test-train split\n",
    "train_val_uids, test_uids = train_test_split(selected_uids, test_size=0.15, random_state=42)\n",
    "\n",
    "# validation-test split\n",
    "train_uids, val_uids = train_test_split(train_val_uids, test_size=0.176, random_state=42) # 0.176≈15/85"
   ]
  },
  {
   "cell_type": "markdown",
   "id": "b6cc2e8b",
   "metadata": {},
   "source": [
    "### Load Test Data"
   ]
  },
  {
   "cell_type": "code",
   "execution_count": 7,
   "id": "813c0925",
   "metadata": {},
   "outputs": [],
   "source": [
    "df = yjmob_df[yjmob_df['uid'].isin(test_uids)]"
   ]
  },
  {
   "cell_type": "code",
   "execution_count": 8,
   "id": "1e477c11",
   "metadata": {},
   "outputs": [
    {
     "data": {
      "text/html": [
       "<div>\n",
       "<style scoped>\n",
       "    .dataframe tbody tr th:only-of-type {\n",
       "        vertical-align: middle;\n",
       "    }\n",
       "\n",
       "    .dataframe tbody tr th {\n",
       "        vertical-align: top;\n",
       "    }\n",
       "\n",
       "    .dataframe thead th {\n",
       "        text-align: right;\n",
       "    }\n",
       "</style>\n",
       "<table border=\"1\" class=\"dataframe\">\n",
       "  <thead>\n",
       "    <tr style=\"text-align: right;\">\n",
       "      <th></th>\n",
       "      <th>uid</th>\n",
       "      <th>d</th>\n",
       "      <th>t</th>\n",
       "      <th>x</th>\n",
       "      <th>y</th>\n",
       "    </tr>\n",
       "  </thead>\n",
       "  <tbody>\n",
       "    <tr>\n",
       "      <th>22766</th>\n",
       "      <td>15</td>\n",
       "      <td>0</td>\n",
       "      <td>14</td>\n",
       "      <td>72</td>\n",
       "      <td>85</td>\n",
       "    </tr>\n",
       "    <tr>\n",
       "      <th>22767</th>\n",
       "      <td>15</td>\n",
       "      <td>0</td>\n",
       "      <td>15</td>\n",
       "      <td>66</td>\n",
       "      <td>82</td>\n",
       "    </tr>\n",
       "    <tr>\n",
       "      <th>22768</th>\n",
       "      <td>15</td>\n",
       "      <td>0</td>\n",
       "      <td>19</td>\n",
       "      <td>63</td>\n",
       "      <td>79</td>\n",
       "    </tr>\n",
       "    <tr>\n",
       "      <th>22769</th>\n",
       "      <td>15</td>\n",
       "      <td>0</td>\n",
       "      <td>20</td>\n",
       "      <td>69</td>\n",
       "      <td>74</td>\n",
       "    </tr>\n",
       "    <tr>\n",
       "      <th>22770</th>\n",
       "      <td>15</td>\n",
       "      <td>0</td>\n",
       "      <td>21</td>\n",
       "      <td>69</td>\n",
       "      <td>75</td>\n",
       "    </tr>\n",
       "  </tbody>\n",
       "</table>\n",
       "</div>"
      ],
      "text/plain": [
       "       uid  d   t   x   y\n",
       "22766   15  0  14  72  85\n",
       "22767   15  0  15  66  82\n",
       "22768   15  0  19  63  79\n",
       "22769   15  0  20  69  74\n",
       "22770   15  0  21  69  75"
      ]
     },
     "execution_count": 8,
     "metadata": {},
     "output_type": "execute_result"
    }
   ],
   "source": [
    "df.head(5)"
   ]
  },
  {
   "cell_type": "markdown",
   "id": "e6e01014",
   "metadata": {},
   "source": [
    "### Tokenize Time Data"
   ]
  },
  {
   "cell_type": "code",
   "execution_count": 9,
   "id": "f41c366f",
   "metadata": {},
   "outputs": [],
   "source": [
    "# df[['t']].min(), df[['t']].max() # [0, 47]\n",
    "# df[['d']].min(), df[['d']].max() # [0, 74]"
   ]
  },
  {
   "cell_type": "code",
   "execution_count": 10,
   "id": "be6c5f17",
   "metadata": {},
   "outputs": [
    {
     "name": "stderr",
     "output_type": "stream",
     "text": [
      "/var/folders/hx/xp23lpqx4ndfxcvp3qj_bdgr0000gn/T/ipykernel_73551/4212691307.py:1: SettingWithCopyWarning: \n",
      "A value is trying to be set on a copy of a slice from a DataFrame.\n",
      "Try using .loc[row_indexer,col_indexer] = value instead\n",
      "\n",
      "See the caveats in the documentation: https://pandas.pydata.org/pandas-docs/stable/user_guide/indexing.html#returning-a-view-versus-a-copy\n",
      "  df['combined_t'] = df['d']*47+df['t']\n"
     ]
    }
   ],
   "source": [
    "df['combined_t'] = df['d']*47+df['t']\n",
    "\n",
    "## Ignore the SettingWithCopyWarning"
   ]
  },
  {
   "cell_type": "code",
   "execution_count": 11,
   "id": "84536801",
   "metadata": {},
   "outputs": [
    {
     "data": {
      "text/html": [
       "<div>\n",
       "<style scoped>\n",
       "    .dataframe tbody tr th:only-of-type {\n",
       "        vertical-align: middle;\n",
       "    }\n",
       "\n",
       "    .dataframe tbody tr th {\n",
       "        vertical-align: top;\n",
       "    }\n",
       "\n",
       "    .dataframe thead th {\n",
       "        text-align: right;\n",
       "    }\n",
       "</style>\n",
       "<table border=\"1\" class=\"dataframe\">\n",
       "  <thead>\n",
       "    <tr style=\"text-align: right;\">\n",
       "      <th></th>\n",
       "      <th>uid</th>\n",
       "      <th>d</th>\n",
       "      <th>t</th>\n",
       "      <th>x</th>\n",
       "      <th>y</th>\n",
       "      <th>combined_t</th>\n",
       "    </tr>\n",
       "  </thead>\n",
       "  <tbody>\n",
       "    <tr>\n",
       "      <th>22766</th>\n",
       "      <td>15</td>\n",
       "      <td>0</td>\n",
       "      <td>14</td>\n",
       "      <td>72</td>\n",
       "      <td>85</td>\n",
       "      <td>14</td>\n",
       "    </tr>\n",
       "    <tr>\n",
       "      <th>22767</th>\n",
       "      <td>15</td>\n",
       "      <td>0</td>\n",
       "      <td>15</td>\n",
       "      <td>66</td>\n",
       "      <td>82</td>\n",
       "      <td>15</td>\n",
       "    </tr>\n",
       "    <tr>\n",
       "      <th>22768</th>\n",
       "      <td>15</td>\n",
       "      <td>0</td>\n",
       "      <td>19</td>\n",
       "      <td>63</td>\n",
       "      <td>79</td>\n",
       "      <td>19</td>\n",
       "    </tr>\n",
       "    <tr>\n",
       "      <th>22769</th>\n",
       "      <td>15</td>\n",
       "      <td>0</td>\n",
       "      <td>20</td>\n",
       "      <td>69</td>\n",
       "      <td>74</td>\n",
       "      <td>20</td>\n",
       "    </tr>\n",
       "    <tr>\n",
       "      <th>22770</th>\n",
       "      <td>15</td>\n",
       "      <td>0</td>\n",
       "      <td>21</td>\n",
       "      <td>69</td>\n",
       "      <td>75</td>\n",
       "      <td>21</td>\n",
       "    </tr>\n",
       "  </tbody>\n",
       "</table>\n",
       "</div>"
      ],
      "text/plain": [
       "       uid  d   t   x   y  combined_t\n",
       "22766   15  0  14  72  85          14\n",
       "22767   15  0  15  66  82          15\n",
       "22768   15  0  19  63  79          19\n",
       "22769   15  0  20  69  74          20\n",
       "22770   15  0  21  69  75          21"
      ]
     },
     "execution_count": 11,
     "metadata": {},
     "output_type": "execute_result"
    }
   ],
   "source": [
    "df.head(5)"
   ]
  },
  {
   "cell_type": "markdown",
   "id": "fd1c80c6",
   "metadata": {},
   "source": [
    "### Tokenize Spatial Data"
   ]
  },
  {
   "cell_type": "code",
   "execution_count": 12,
   "id": "9c4036e9",
   "metadata": {},
   "outputs": [],
   "source": [
    "# linearization of the 2-dimensional grid, i.e., the original x,y coordinate system\n",
    "def spatial_token(x, y):\n",
    "    # x,y are the coordinate location\n",
    "    # x determines the column order while\n",
    "    # y determines the row order\n",
    "    # (x-1) calculates the starting grid-column position\n",
    "    # (y-1)*200 calculates the start index of the grid-row\n",
    "    return (x-1)+(y-1)*200"
   ]
  },
  {
   "cell_type": "code",
   "execution_count": 13,
   "id": "323f5683",
   "metadata": {},
   "outputs": [
    {
     "name": "stderr",
     "output_type": "stream",
     "text": [
      "/var/folders/hx/xp23lpqx4ndfxcvp3qj_bdgr0000gn/T/ipykernel_73551/424670490.py:1: SettingWithCopyWarning: \n",
      "A value is trying to be set on a copy of a slice from a DataFrame.\n",
      "Try using .loc[row_indexer,col_indexer] = value instead\n",
      "\n",
      "See the caveats in the documentation: https://pandas.pydata.org/pandas-docs/stable/user_guide/indexing.html#returning-a-view-versus-a-copy\n",
      "  df['combined_xy'] = df.apply(lambda row: spatial_token(row['x'], row['y']), axis=1)\n"
     ]
    }
   ],
   "source": [
    "df['combined_xy'] = df.apply(lambda row: spatial_token(row['x'], row['y']), axis=1)\n",
    "\n",
    "## Ignore the SettingWithCopyWarning"
   ]
  },
  {
   "cell_type": "code",
   "execution_count": 14,
   "id": "289325a8",
   "metadata": {},
   "outputs": [
    {
     "data": {
      "text/html": [
       "<div>\n",
       "<style scoped>\n",
       "    .dataframe tbody tr th:only-of-type {\n",
       "        vertical-align: middle;\n",
       "    }\n",
       "\n",
       "    .dataframe tbody tr th {\n",
       "        vertical-align: top;\n",
       "    }\n",
       "\n",
       "    .dataframe thead th {\n",
       "        text-align: right;\n",
       "    }\n",
       "</style>\n",
       "<table border=\"1\" class=\"dataframe\">\n",
       "  <thead>\n",
       "    <tr style=\"text-align: right;\">\n",
       "      <th></th>\n",
       "      <th>uid</th>\n",
       "      <th>d</th>\n",
       "      <th>t</th>\n",
       "      <th>x</th>\n",
       "      <th>y</th>\n",
       "      <th>combined_t</th>\n",
       "      <th>combined_xy</th>\n",
       "    </tr>\n",
       "  </thead>\n",
       "  <tbody>\n",
       "    <tr>\n",
       "      <th>22766</th>\n",
       "      <td>15</td>\n",
       "      <td>0</td>\n",
       "      <td>14</td>\n",
       "      <td>72</td>\n",
       "      <td>85</td>\n",
       "      <td>14</td>\n",
       "      <td>16871</td>\n",
       "    </tr>\n",
       "    <tr>\n",
       "      <th>22767</th>\n",
       "      <td>15</td>\n",
       "      <td>0</td>\n",
       "      <td>15</td>\n",
       "      <td>66</td>\n",
       "      <td>82</td>\n",
       "      <td>15</td>\n",
       "      <td>16265</td>\n",
       "    </tr>\n",
       "    <tr>\n",
       "      <th>22768</th>\n",
       "      <td>15</td>\n",
       "      <td>0</td>\n",
       "      <td>19</td>\n",
       "      <td>63</td>\n",
       "      <td>79</td>\n",
       "      <td>19</td>\n",
       "      <td>15662</td>\n",
       "    </tr>\n",
       "    <tr>\n",
       "      <th>22769</th>\n",
       "      <td>15</td>\n",
       "      <td>0</td>\n",
       "      <td>20</td>\n",
       "      <td>69</td>\n",
       "      <td>74</td>\n",
       "      <td>20</td>\n",
       "      <td>14668</td>\n",
       "    </tr>\n",
       "    <tr>\n",
       "      <th>22770</th>\n",
       "      <td>15</td>\n",
       "      <td>0</td>\n",
       "      <td>21</td>\n",
       "      <td>69</td>\n",
       "      <td>75</td>\n",
       "      <td>21</td>\n",
       "      <td>14868</td>\n",
       "    </tr>\n",
       "  </tbody>\n",
       "</table>\n",
       "</div>"
      ],
      "text/plain": [
       "       uid  d   t   x   y  combined_t  combined_xy\n",
       "22766   15  0  14  72  85          14        16871\n",
       "22767   15  0  15  66  82          15        16265\n",
       "22768   15  0  19  63  79          19        15662\n",
       "22769   15  0  20  69  74          20        14668\n",
       "22770   15  0  21  69  75          21        14868"
      ]
     },
     "execution_count": 14,
     "metadata": {},
     "output_type": "execute_result"
    }
   ],
   "source": [
    "df.head(5)"
   ]
  },
  {
   "cell_type": "code",
   "execution_count": 15,
   "id": "d489aba2",
   "metadata": {},
   "outputs": [],
   "source": [
    "# original data\n",
    "\n",
    "# df['combined_t'].min(), df['combined_t'].max() # (0, 3525)\n",
    "# df['combined_xy'].min(), df['combined_xy'].max() # (0, 39999)\n",
    "\n",
    "df = df.sort_values(by=['uid', 'combined_t'])"
   ]
  },
  {
   "cell_type": "code",
   "execution_count": 16,
   "id": "275bf4d6",
   "metadata": {},
   "outputs": [
    {
     "data": {
      "text/html": [
       "<div>\n",
       "<style scoped>\n",
       "    .dataframe tbody tr th:only-of-type {\n",
       "        vertical-align: middle;\n",
       "    }\n",
       "\n",
       "    .dataframe tbody tr th {\n",
       "        vertical-align: top;\n",
       "    }\n",
       "\n",
       "    .dataframe thead th {\n",
       "        text-align: right;\n",
       "    }\n",
       "</style>\n",
       "<table border=\"1\" class=\"dataframe\">\n",
       "  <thead>\n",
       "    <tr style=\"text-align: right;\">\n",
       "      <th></th>\n",
       "      <th>uid</th>\n",
       "      <th>d</th>\n",
       "      <th>t</th>\n",
       "      <th>x</th>\n",
       "      <th>y</th>\n",
       "      <th>combined_t</th>\n",
       "      <th>combined_xy</th>\n",
       "    </tr>\n",
       "  </thead>\n",
       "  <tbody>\n",
       "    <tr>\n",
       "      <th>22766</th>\n",
       "      <td>15</td>\n",
       "      <td>0</td>\n",
       "      <td>14</td>\n",
       "      <td>72</td>\n",
       "      <td>85</td>\n",
       "      <td>14</td>\n",
       "      <td>16871</td>\n",
       "    </tr>\n",
       "    <tr>\n",
       "      <th>22767</th>\n",
       "      <td>15</td>\n",
       "      <td>0</td>\n",
       "      <td>15</td>\n",
       "      <td>66</td>\n",
       "      <td>82</td>\n",
       "      <td>15</td>\n",
       "      <td>16265</td>\n",
       "    </tr>\n",
       "    <tr>\n",
       "      <th>22768</th>\n",
       "      <td>15</td>\n",
       "      <td>0</td>\n",
       "      <td>19</td>\n",
       "      <td>63</td>\n",
       "      <td>79</td>\n",
       "      <td>19</td>\n",
       "      <td>15662</td>\n",
       "    </tr>\n",
       "    <tr>\n",
       "      <th>22769</th>\n",
       "      <td>15</td>\n",
       "      <td>0</td>\n",
       "      <td>20</td>\n",
       "      <td>69</td>\n",
       "      <td>74</td>\n",
       "      <td>20</td>\n",
       "      <td>14668</td>\n",
       "    </tr>\n",
       "    <tr>\n",
       "      <th>22770</th>\n",
       "      <td>15</td>\n",
       "      <td>0</td>\n",
       "      <td>21</td>\n",
       "      <td>69</td>\n",
       "      <td>75</td>\n",
       "      <td>21</td>\n",
       "      <td>14868</td>\n",
       "    </tr>\n",
       "  </tbody>\n",
       "</table>\n",
       "</div>"
      ],
      "text/plain": [
       "       uid  d   t   x   y  combined_t  combined_xy\n",
       "22766   15  0  14  72  85          14        16871\n",
       "22767   15  0  15  66  82          15        16265\n",
       "22768   15  0  19  63  79          19        15662\n",
       "22769   15  0  20  69  74          20        14668\n",
       "22770   15  0  21  69  75          21        14868"
      ]
     },
     "execution_count": 16,
     "metadata": {},
     "output_type": "execute_result"
    }
   ],
   "source": [
    "df.head(5)"
   ]
  },
  {
   "cell_type": "markdown",
   "id": "1fdfd0c9",
   "metadata": {},
   "source": [
    "## Batching"
   ]
  },
  {
   "cell_type": "code",
   "execution_count": 23,
   "id": "7983925d",
   "metadata": {},
   "outputs": [],
   "source": [
    "# Output input location sequence (trajectory), desired output location\n",
    "# along with the time when that user reaches a location\n",
    "\n",
    "# # Sliding Window Approach\n",
    "# def generate_sequences(data, data_t, window_size):\n",
    "#     inputs = []\n",
    "#     labels = []\n",
    "#     positions = []\n",
    "#     label_positions = []\n",
    "#     for i in range(len(data) - window_size):\n",
    "#         sequence = data[i:i + window_size]\n",
    "#         label = data[i + window_size]\n",
    "#         time_sequence = data_t[i:i + window_size]\n",
    "#         label_time = data_t[i + window_size]\n",
    "\n",
    "#         inputs.append(sequence)\n",
    "#         labels.append(label)\n",
    "#         positions.append(time_sequence)\n",
    "#         label_positions.append(label_time)\n",
    "#     return inputs, labels, positions, label_positions\n",
    "\n",
    "def generate_sequences(data, data_t):\n",
    "    # return torch.tensor(data[:-1]), torch.tensor(data[-1]), torch.tensor(data_t[:-1]), torch.tensor(data_t[-1])\n",
    "    return torch.tensor(data[:10]), torch.tensor(data[10]), torch.tensor(data_t[:10]), torch.tensor(data_t[10])"
   ]
  },
  {
   "cell_type": "code",
   "execution_count": 24,
   "id": "534e616b",
   "metadata": {},
   "outputs": [],
   "source": [
    "# WINDOW_SIZE = 500 # 500 locations as one trajectory\n",
    "BATCH_SIZE = 50   # 50 users at a batch"
   ]
  },
  {
   "cell_type": "code",
   "execution_count": 25,
   "id": "b8e8b316",
   "metadata": {},
   "outputs": [],
   "source": [
    "# Group data by uid\n",
    "\n",
    "grouped_data = df[['uid', 'combined_t', 'combined_xy']].groupby('uid')\n",
    "grouped_data = [group for _, group in df.groupby('uid')]"
   ]
  },
  {
   "cell_type": "code",
   "execution_count": 26,
   "id": "9773265d",
   "metadata": {},
   "outputs": [
    {
     "data": {
      "text/plain": [
       "[<matplotlib.lines.Line2D at 0x30f06d210>]"
      ]
     },
     "execution_count": 26,
     "metadata": {},
     "output_type": "execute_result"
    },
    {
     "data": {
      "image/png": "[encoded data removed]",
      "text/plain": [
       "<Figure size 640x480 with 1 Axes>"
      ]
     },
     "metadata": {},
     "output_type": "display_data"
    }
   ],
   "source": [
    "x = grouped_data[1]['combined_xy']\n",
    "y = grouped_data[1]['combined_t']\n",
    "\n",
    "plt.plot(x, y)"
   ]
  },
  {
   "cell_type": "code",
   "execution_count": 27,
   "id": "8aa15331",
   "metadata": {},
   "outputs": [],
   "source": [
    "class TrajectoryDataset(Dataset):\n",
    "    # def __init__(self, grouped_data, window_size):\n",
    "    def __init__(self, grouped_data):\n",
    "        self.data = grouped_data\n",
    "        # self.window_size = window_size\n",
    "\n",
    "    def __len__(self):\n",
    "        return len(self.data)\n",
    "\n",
    "    def __getitem__(self, idx):\n",
    "        data_for_uid = self.data[idx]\n",
    "        inputs, labels, positions, label_positions = generate_sequences(\n",
    "                                                         data_for_uid['combined_xy'].values.tolist(),\n",
    "                                                         data_for_uid['combined_t'].values.tolist())\n",
    "        return inputs, labels, positions, label_positions\n",
    "                                                         # self.window_size)\n",
    "        # TODO: Only first 500 trajectories for all users are extracted for now\n",
    "        # To fix this I think the whole dataset needs to be restructured\n",
    "        # ,regardless of the uid, i.e. just pay attention to the movement of any arbitrary user\n",
    "        # like the first 500 movement of an arbitray user would be in the same mid (movement id)\n",
    "        # but what is the point of using positional embedding if this is the case\n",
    "        # because basically, you are focus only on the movement of the user\n",
    "        # so...should LSTM work better in terms of its speed and simplicity\n",
    "        # and having a similar purpose as the Transformer?\n",
    "        # return torch.tensor(inputs[0]), torch.tensor(labels[0]), \\\n",
    "                # torch.tensor(positions[0]), torch.tensor(label_positions[0])\n",
    "\n",
    "test_dataset = TrajectoryDataset(grouped_data) # WINDOW_SIZE"
   ]
  },
  {
   "cell_type": "code",
   "execution_count": 28,
   "id": "90a14dc9",
   "metadata": {
    "scrolled": true
   },
   "outputs": [
    {
     "data": {
      "text/plain": [
       "(tensor([16871, 16265, 15662, 14668, 14868, 14864, 15067, 14668, 14670, 14470]),\n",
       " tensor(14470),\n",
       " tensor([14, 15, 19, 20, 21, 22, 23, 24, 25, 26]),\n",
       " tensor(27))"
      ]
     },
     "execution_count": 28,
     "metadata": {},
     "output_type": "execute_result"
    }
   ],
   "source": [
    "# Example\n",
    "test_dataset.__getitem__(0) # uid=23, inputs, labels, positions, label_positions"
   ]
  },
  {
   "cell_type": "code",
   "execution_count": 29,
   "id": "2b99bfd3",
   "metadata": {},
   "outputs": [],
   "source": [
    "def collate_fn(batch):\n",
    "    \"\"\"\n",
    "    batch: Dataset\n",
    "    \"\"\"\n",
    "    # Unzip all batch\n",
    "    inputs_batch, labels_batch, positions_batch, label_positions_batch = zip(*batch)\n",
    "    \n",
    "    # Pad the sequence with less length in a batch\n",
    "    inputs_padded = torch.nn.utils.rnn.pad_sequence(inputs_batch, padding_value=0.0, batch_first=True)\n",
    "    labels_padded = torch.tensor(np.array(labels_batch))\n",
    "    positions_padded = torch.nn.utils.rnn.pad_sequence(positions_batch, padding_value=0, batch_first=True)\n",
    "    label_positions_padded = torch.tensor(np.array(label_positions_batch))\n",
    "    \n",
    "    return inputs_padded, labels_padded, positions_padded, label_positions_padded"
   ]
  },
  {
   "cell_type": "code",
   "execution_count": 30,
   "id": "d96aedf1",
   "metadata": {},
   "outputs": [],
   "source": [
    "test_dataloader = DataLoader(test_dataset, batch_size=BATCH_SIZE, shuffle=True, collate_fn=collate_fn)"
   ]
  },
  {
   "cell_type": "code",
   "execution_count": 31,
   "id": "7cc4456f",
   "metadata": {},
   "outputs": [
    {
     "name": "stdout",
     "output_type": "stream",
     "text": [
      "Shape of inputs: torch.Size([30, 10])\n",
      "Shape of labels: torch.Size([30])\n",
      "Shape of positions: torch.Size([30, 10])\n",
      "Shape of positions: torch.Size([30])\n"
     ]
    }
   ],
   "source": [
    "# Example\n",
    "\n",
    "data_iter = iter(test_dataloader)\n",
    "inputs, labels, positions, label_positions = next(data_iter)\n",
    "\n",
    "print(\"Shape of inputs:\", inputs.shape) # Shape: [batch_size, seq_len]\n",
    "print(\"Shape of labels:\", labels.shape) # Shape: [batch_size]\n",
    "print(\"Shape of positions:\", positions.shape) # Shape: [batch_size, seq_len]\n",
    "print(\"Shape of positions:\", label_positions.shape) # Shape: [batch_size]"
   ]
  },
  {
   "cell_type": "markdown",
   "id": "d93c5203",
   "metadata": {},
   "source": [
    "## Input Embedding and Positional Encoding\n",
    "\n",
    "https://pytorch.org/tutorials/beginner/transformer_tutorial.html#load-and-batch-data"
   ]
  },
  {
   "cell_type": "code",
   "execution_count": 32,
   "id": "c3e98c32",
   "metadata": {},
   "outputs": [],
   "source": [
    "EMBED_DIM = 64"
   ]
  },
  {
   "cell_type": "code",
   "execution_count": null,
   "id": "bd73fefc",
   "metadata": {},
   "outputs": [],
   "source": [
    "# Space - Input Embedding\n",
    "\n",
    "# 40000 combinations = 200 x-axis location * 200 y-axis location\n",
    "\n",
    "# class InputEmbedding(nn.Module):\n",
    "#     def __init__(self, num_embeddings, embedding_dim):\n",
    "#         \"\"\"\n",
    "#         num_embedding: int: \n",
    "#         embedding_dim: int: \n",
    "#         \"\"\"\n",
    "#         super(InputEmbedding, self).__init__()\n",
    "#         self.embedding = nn.Embedding(num_embeddings, embedding_dim)\n",
    "\n",
    "#     def forward(self, x):\n",
    "#         return self.embedding(x) # Shape: [batch_size, seq_len, embed_dim]"
   ]
  },
  {
   "cell_type": "code",
   "execution_count": 33,
   "id": "f93959c1",
   "metadata": {},
   "outputs": [],
   "source": [
    "# Time - Positional Encoding = Time Embedding + Sequential Encoding\n",
    "\n",
    "# max_len is the maximum expected data length\n",
    "\n",
    "class PositionalEncoding(nn.Module):\n",
    "    def __init__(self, max_len, embedding_dim):\n",
    "        \"\"\"\n",
    "        max_len: int:\n",
    "        embedding_dim: int: \n",
    "        \"\"\"\n",
    "        super(PositionalEncoding, self).__init__()\n",
    "        self.embedding_dim = embedding_dim\n",
    "\n",
    "        position = torch.arange(max_len).unsqueeze(1)\n",
    "        div_term = torch.exp(torch.arange(0, embedding_dim, 2) * (-np.log(10000.0) / embedding_dim))\n",
    "        pe = torch.zeros(max_len, 1, embedding_dim)\n",
    "        pe[:, 0, 0::2] = torch.sin(position.float() * div_term)\n",
    "        pe[:, 0, 1::2] = torch.cos(position.float() * div_term)\n",
    "        self.register_buffer('pe', pe)\n",
    "\n",
    "    def forward(self, x):\n",
    "        \"\"\"\n",
    "        x: output of the embedding layer\n",
    "        \"\"\"\n",
    "        x = x + self.pe[:x.size(0)] # Shape [batch_size, seq_len, embed_dim]\n",
    "        return x # self.dropout(x)"
   ]
  },
  {
   "cell_type": "code",
   "execution_count": 34,
   "id": "73e23499",
   "metadata": {
    "scrolled": true
   },
   "outputs": [
    {
     "name": "stdout",
     "output_type": "stream",
     "text": [
      "Input Embedding: torch.Size([30, 10, 64])\n",
      "Positional Encoding: torch.Size([30, 10, 64])\n"
     ]
    }
   ],
   "source": [
    "# Example\n",
    "\n",
    "input_embedding_layer = nn.Embedding(40000, EMBED_DIM) # InputEmbedding(max_len, embedding_dim)\n",
    "position_embedding_layer = nn.Embedding(3600, EMBED_DIM) # max_len, embedding_dim\n",
    "positional_encoding = PositionalEncoding(3600, EMBED_DIM) # max_len, embedding_dim, dropout=0.1\n",
    "\n",
    "space_time = torch.tensor([])\n",
    "\n",
    "for inputs, labels, positions, label_positions in test_dataloader:\n",
    "    # Input Embedding\n",
    "    space = input_embedding_layer(inputs)\n",
    "    \n",
    "    # Positional Encoding\n",
    "    positions = position_embedding_layer(positions)\n",
    "    time = positional_encoding(positions)\n",
    "    \n",
    "    # Display shapes\n",
    "    print(\"Input Embedding:\", space.shape)\n",
    "    print(\"Positional Encoding:\", time.shape)\n",
    "    \n",
    "    # Addition\n",
    "    space_time = space + time\n",
    "\n",
    "    break"
   ]
  },
  {
   "cell_type": "markdown",
   "id": "f54962ea",
   "metadata": {},
   "source": [
    "## Self-Attention"
   ]
  },
  {
   "cell_type": "code",
   "execution_count": 35,
   "id": "e133b7fb",
   "metadata": {},
   "outputs": [],
   "source": [
    "NUM_HEADS = 8"
   ]
  },
  {
   "cell_type": "code",
   "execution_count": 36,
   "id": "f3f8a987",
   "metadata": {},
   "outputs": [],
   "source": [
    "class MultiHeadAttentionModule(nn.Module):\n",
    "    def __init__(self, embed_dim, num_heads):\n",
    "        super(MultiHeadAttentionModule, self).__init__()\n",
    "        self.multihead_attn = nn.MultiheadAttention(embed_dim, num_heads)\n",
    "\n",
    "    def forward(self, query, key, value, key_padding_mask=None, need_weights=True):\n",
    "        # Transpose from [batch size, seq length, embed dim] to [seq length, batch size, embed dim]\n",
    "        query = query.transpose(0, 1)\n",
    "        key = key.transpose(0, 1)\n",
    "        value = value.transpose(0, 1)\n",
    "        \n",
    "        # Apply multihead attention\n",
    "        attn_output, attn_output_weights = self.multihead_attn(query, key, value)\n",
    "        return attn_output.transpose(0, 1)"
   ]
  },
  {
   "cell_type": "code",
   "execution_count": 37,
   "id": "96cc994d",
   "metadata": {},
   "outputs": [
    {
     "name": "stdout",
     "output_type": "stream",
     "text": [
      "Self Attention: torch.Size([30, 10, 64])\n"
     ]
    }
   ],
   "source": [
    "# Example\n",
    "\n",
    "multihead_attention = MultiHeadAttentionModule(EMBED_DIM, NUM_HEADS)\n",
    "attn_output = multihead_attention(space_time, space_time, space_time)\n",
    "\n",
    "print(\"Self Attention:\", attn_output.shape) # Shape: [batch_size, seq_len, embed_dim]"
   ]
  },
  {
   "cell_type": "markdown",
   "id": "479f1973",
   "metadata": {},
   "source": [
    "## Transformer Block"
   ]
  },
  {
   "cell_type": "code",
   "execution_count": 38,
   "id": "cd610aac",
   "metadata": {},
   "outputs": [],
   "source": [
    "class TransformerBlock(nn.Module):\n",
    "    def __init__(self, embed_dim, num_heads, forward_expansion):\n",
    "        super(TransformerBlock, self).__init__()\n",
    "        \n",
    "        # Attention Layer\n",
    "        self.attention = MultiHeadAttentionModule(embed_dim, num_heads)\n",
    "        \n",
    "        # Normalization 1 \n",
    "        self.norm1 = nn.LayerNorm(embed_dim)\n",
    "        \n",
    "        # Feed-Forward\n",
    "        self.feed_forward = nn.Sequential(\n",
    "            nn.Linear(embed_dim, forward_expansion * embed_dim), \n",
    "            nn.ReLU(),\n",
    "            nn.Linear(forward_expansion * embed_dim, embed_dim)\n",
    "        )\n",
    "        \n",
    "        # Normalization 2\n",
    "        self.norm2 = nn.LayerNorm(embed_dim)\n",
    "        \n",
    "        # Dropout\n",
    "        # self.dropout = nn.Dropout(dropout)\n",
    "        \n",
    "    def forward(self, query, key, value):\n",
    "        attn_output = self.attention(query, key, value)\n",
    "        x = self.norm1(attn_output + query)\n",
    "        forward = self.feed_forward(x)\n",
    "        out = self.norm2(forward + x)\n",
    "        return out"
   ]
  },
  {
   "cell_type": "markdown",
   "id": "5caaebd7",
   "metadata": {},
   "source": [
    "# Encoder"
   ]
  },
  {
   "cell_type": "code",
   "execution_count": 39,
   "id": "b60906f0",
   "metadata": {},
   "outputs": [],
   "source": [
    "class Encoder(nn.Module):\n",
    "    def __init__(self, \n",
    "                 loc_size, \n",
    "                 time_size, \n",
    "                 embed_dim, \n",
    "                 num_layers, \n",
    "                 num_heads, \n",
    "                 device, \n",
    "                 forward_expansion):\n",
    "        super(Encoder, self).__init__()\n",
    "        self.embed_dim = embed_dim\n",
    "        self.device = device\n",
    "        \n",
    "        self.input_embedding = nn.Embedding(loc_size, embed_dim).to(device) # InputEmbedding\n",
    "        self.position_embedding = nn.Embedding(time_size, embed_dim).to(device)\n",
    "        self.positional_encoding = PositionalEncoding(time_size, embed_dim).to(device)\n",
    "        \n",
    "        self.layers = nn.ModuleList([\n",
    "            TransformerBlock(\n",
    "                embed_dim,\n",
    "                num_heads,\n",
    "                forward_expansion=forward_expansion\n",
    "            ) for _ in range(num_layers)\n",
    "        ])\n",
    "        \n",
    "    def forward(self, inputs, positions):\n",
    "        # Input Embedding\n",
    "        space = self.input_embedding(inputs)\n",
    "\n",
    "        # Positional Encoding\n",
    "        positions = self.position_embedding(positions) \n",
    "        time = self.positional_encoding(positions)\n",
    "\n",
    "        # Concatenation\n",
    "        # out = torch.cat((space, time), dim=2)\n",
    "        \n",
    "        # Addition\n",
    "        out = space + time\n",
    "\n",
    "        # Transformer Block = Multi-Head Attention + Norm + Feed Forward + Norm\n",
    "        for layer in self.layers:\n",
    "            out = layer(out, out, out)\n",
    "        return out"
   ]
  },
  {
   "cell_type": "markdown",
   "id": "07894ebf",
   "metadata": {},
   "source": [
    "# Decoder"
   ]
  },
  {
   "cell_type": "markdown",
   "id": "9373217c",
   "metadata": {},
   "source": [
    "**Input** to the Decoder:\n",
    "\n",
    "**During Training**: The decoder receives the correct labels as input. This is usually shifted right (i.e., the input begins with a start token and all elements are the target sequence excluding the last token), encouraging the model to predict the next token in the sequence.\n",
    "\n",
    "**During Inference**: The decoder starts with a start token and generates each subsequent token based on the previously generated tokens.\n",
    "\n",
    "The decoder uses the outputs from the encoder to help guide the generation of the output sequence.\n",
    "\n",
    "The decoder should output logits for each token in the sequence, which can be converted into probabilities using softmax for each possible token in the label space."
   ]
  },
  {
   "cell_type": "code",
   "execution_count": 40,
   "id": "1d304045",
   "metadata": {},
   "outputs": [],
   "source": [
    "class DecoderBlock(nn.Module):\n",
    "    def __init__(self, embed_dim, num_heads, forward_expansion, device): \n",
    "        super(DecoderBlock, self).__init__()\n",
    "        self.attention = MultiHeadAttentionModule(embed_dim, num_heads)\n",
    "        self.norm = nn.LayerNorm(embed_dim)\n",
    "        self.transformer_block = TransformerBlock(embed_dim, num_heads, forward_expansion)\n",
    "        \n",
    "    def forward(self, x, key, value):\n",
    "        attention = self.attention(x,key,value) \n",
    "        query = self.norm(attention + x)\n",
    "        out = self.transformer_block(query, key, value)\n",
    "        \n",
    "        return out"
   ]
  },
  {
   "cell_type": "code",
   "execution_count": 47,
   "id": "d340e4e8",
   "metadata": {},
   "outputs": [],
   "source": [
    "class Decoder(nn.Module):\n",
    "    def __init__(self, \n",
    "                 loc_size, \n",
    "                 time_size, \n",
    "                 embed_dim, \n",
    "                 num_layers, \n",
    "                 num_heads, \n",
    "                 device, \n",
    "                 forward_expansion):\n",
    "        \n",
    "        super(Decoder, self).__init__()\n",
    "        self.embed_dim = embed_dim\n",
    "        self.device = device\n",
    "        \n",
    "        self.input_embedding = nn.Embedding(loc_size, embed_dim).to(device)\n",
    "        self.position_embedding = nn.Embedding(time_size, embed_dim).to(device)\n",
    "        self.positional_encoding = PositionalEncoding(time_size, embed_dim).to(device)\n",
    "        \n",
    "        self.layers = nn.ModuleList([\n",
    "            DecoderBlock(\n",
    "                embed_dim,\n",
    "                num_heads,\n",
    "                forward_expansion=forward_expansion,\n",
    "                device=device\n",
    "            ) for _ in range(num_layers)\n",
    "        ])\n",
    "        \n",
    "        self.fc_out = nn.Linear(embed_dim, loc_size)\n",
    "        \n",
    "    def forward(self, output, output_position, enc_out):\n",
    "        space = self.input_embedding(output.unsqueeze(1))\n",
    "        positions = self.position_embedding(output_position.unsqueeze(1))\n",
    "        time = self.positional_encoding(positions)\n",
    "        \n",
    "        # Addition\n",
    "        out = space + time\n",
    "\n",
    "        for layer in self.layers:\n",
    "            ### out = layer(enc_out, enc_out, out) # query, key, value\n",
    "            out = layer(out, enc_out, enc_out)\n",
    "\n",
    "        out = self.fc_out(out)\n",
    "        \n",
    "        return out"
   ]
  },
  {
   "cell_type": "code",
   "execution_count": 48,
   "id": "59541731",
   "metadata": {},
   "outputs": [
    {
     "name": "stdout",
     "output_type": "stream",
     "text": [
      "Input Embedding: torch.Size([30, 1, 64])\n",
      "Positional Encoding: torch.Size([30, 1, 64])\n"
     ]
    }
   ],
   "source": [
    "input_embedding_layer = nn.Embedding(40000, EMBED_DIM) # InputEmbedding(max_len, embedding_dim)\n",
    "position_embedding_layer = nn.Embedding(3600, EMBED_DIM) # max_len, embedding_dim\n",
    "positional_encoding = PositionalEncoding(3600, EMBED_DIM) # max_len, embedding_dim\n",
    "\n",
    "space_time = torch.tensor([])\n",
    "\n",
    "for inputs, labels, positions, label_positions in test_dataloader:\n",
    "    # Input Embedding\n",
    "    space = input_embedding_layer(labels.unsqueeze(1)) # Shape: [batch_size, seq_len, embed_dim]\n",
    "    \n",
    "    # Positional Encoding\n",
    "    positions = position_embedding_layer(label_positions.unsqueeze(1))\n",
    "    time = positional_encoding(positions) # Shape: [batch_size, seq_len, embed_dim]\n",
    "    \n",
    "    # Display shapes\n",
    "    print(\"Input Embedding:\", space.shape)\n",
    "    print(\"Positional Encoding:\", time.shape)\n",
    "    \n",
    "    # Addition\n",
    "    space_time = space + time\n",
    "\n",
    "    break"
   ]
  },
  {
   "cell_type": "markdown",
   "id": "4efac42b",
   "metadata": {},
   "source": [
    "# Transformer Training Block"
   ]
  },
  {
   "cell_type": "code",
   "execution_count": 49,
   "id": "bfeb774e",
   "metadata": {},
   "outputs": [],
   "source": [
    "class Transformer(nn.Module):\n",
    "    def __init__(self, loc_size, time_size, embed_dim, num_layers, num_heads, device, forward_expansion):\n",
    "        super(Transformer, self).__init__()\n",
    "        \n",
    "        self.encoder = Encoder(loc_size, time_size, embed_dim, num_layers, num_heads, device, forward_expansion)\n",
    "        self.decoder = Decoder(loc_size, time_size, embed_dim, num_layers, num_heads, device, forward_expansion)\n",
    "        self.device = device\n",
    "    \n",
    "    def forward(self, src_seq, src_pos, trg_seq, trg_pos):\n",
    "        # Encode Source\n",
    "        enc_out = self.encoder(src_seq, src_pos)\n",
    "        \n",
    "        # Decode target\n",
    "        dec_out = self.decoder(trg_seq, trg_pos, enc_out)\n",
    "        return dec_out"
   ]
  },
  {
   "cell_type": "markdown",
   "id": "30859926",
   "metadata": {},
   "source": [
    "# Training"
   ]
  },
  {
   "cell_type": "code",
   "execution_count": 50,
   "id": "4307bf29",
   "metadata": {},
   "outputs": [],
   "source": [
    "# Parameters\n",
    "\n",
    "# BATCH_SIZE = 50\n",
    "# EMBED_DIM = 64\n",
    "# NUM_HEADS = 8\n",
    "# NUM_LAYERS = 8\n",
    "# FORWARD_EXPANSION = 4\n",
    "# LOC_SIZE = 200*200\n",
    "# TIME_SIZE = 3600\n",
    "# device = torch.device(\"cuda\" if torch.cuda.is_available() else \"cpu\")"
   ]
  },
  {
   "cell_type": "code",
   "execution_count": 65,
   "id": "848200e3",
   "metadata": {},
   "outputs": [],
   "source": [
    "# One Epoch\n",
    "\n",
    "def train(model, dataloader, device, learning_rate=0.001):\n",
    "    model.train()\n",
    "    \n",
    "    # loss function and optimizer\n",
    "    criterion = nn.CrossEntropyLoss()\n",
    "    optimizer = Adam(model.parameters(), lr=learning_rate)\n",
    "    \n",
    "    total_loss = 0.0\n",
    "    \n",
    "    for inputs, labels, positions, label_positions in dataloader:\n",
    "        inputs = inputs.to(device)\n",
    "        labels = labels.to(device)\n",
    "        positions = positions.to(device)\n",
    "        label_positions = label_positions.to(device)\n",
    "        \n",
    "        # Reset gradients\n",
    "        optimizer.zero_grad()\n",
    "        \n",
    "        # Forward pass\n",
    "        outputs = model(inputs, positions, labels, label_positions)\n",
    "        \n",
    "        # Calculate loss\n",
    "        loss = criterion(outputs.view(-1, outputs.size(-1)), labels.view(-1))\n",
    "        total_loss += loss.item()\n",
    "        \n",
    "        # Backward pass and optimize\n",
    "        loss.backward()\n",
    "        optimizer.step()\n",
    "        \n",
    "        # print(\"Logits: \", outputs.detach().cpu().numpy())\n",
    "\n",
    "    # Average loss\n",
    "    avg_loss = total_loss / len(dataloader)\n",
    "    return avg_loss"
   ]
  },
  {
   "cell_type": "code",
   "execution_count": 66,
   "id": "e11df38f",
   "metadata": {},
   "outputs": [],
   "source": [
    "def train_model(model, dataloader, device, epochs=10, learning_rate=0.001):\n",
    "    for epoch in range(epochs):\n",
    "        avg_loss = train(model, dataloader, device, learning_rate)\n",
    "        print(f\"Epoch {epoch+1}/{epochs}, Average Loss: {avg_loss}\")"
   ]
  },
  {
   "cell_type": "code",
   "execution_count": 69,
   "id": "c4124da9",
   "metadata": {
    "scrolled": true
   },
   "outputs": [
    {
     "name": "stdout",
     "output_type": "stream",
     "text": [
      "Epoch 1/100, Average Loss: 10.642184257507324\n",
      "Epoch 2/100, Average Loss: 9.714962005615234\n",
      "Epoch 3/100, Average Loss: 9.266398429870605\n",
      "Epoch 4/100, Average Loss: 8.956976890563965\n",
      "Epoch 5/100, Average Loss: 8.415141105651855\n",
      "Epoch 6/100, Average Loss: 8.360947608947754\n",
      "Epoch 7/100, Average Loss: 8.199822425842285\n",
      "Epoch 8/100, Average Loss: 7.615126609802246\n",
      "Epoch 9/100, Average Loss: 7.538592338562012\n",
      "Epoch 10/100, Average Loss: 7.3889946937561035\n",
      "Epoch 11/100, Average Loss: 7.2493181228637695\n",
      "Epoch 12/100, Average Loss: 7.091714382171631\n",
      "Epoch 13/100, Average Loss: 7.130124568939209\n",
      "Epoch 14/100, Average Loss: 7.050802707672119\n",
      "Epoch 15/100, Average Loss: 6.709635257720947\n",
      "Epoch 16/100, Average Loss: 6.491262435913086\n",
      "Epoch 17/100, Average Loss: 6.546658039093018\n",
      "Epoch 18/100, Average Loss: 6.3252081871032715\n",
      "Epoch 19/100, Average Loss: 6.084760665893555\n",
      "Epoch 20/100, Average Loss: 6.204970359802246\n",
      "Epoch 21/100, Average Loss: 5.790538311004639\n",
      "Epoch 22/100, Average Loss: 5.711833477020264\n",
      "Epoch 23/100, Average Loss: 5.642367839813232\n",
      "Epoch 24/100, Average Loss: 5.512273788452148\n",
      "Epoch 25/100, Average Loss: 5.345747470855713\n",
      "Epoch 26/100, Average Loss: 5.321869850158691\n",
      "Epoch 27/100, Average Loss: 5.236379146575928\n",
      "Epoch 28/100, Average Loss: 5.187811374664307\n",
      "Epoch 29/100, Average Loss: 5.0218000411987305\n",
      "Epoch 30/100, Average Loss: 4.89178466796875\n",
      "Epoch 31/100, Average Loss: 4.841090202331543\n",
      "Epoch 32/100, Average Loss: 4.797124862670898\n",
      "Epoch 33/100, Average Loss: 4.702847003936768\n",
      "Epoch 34/100, Average Loss: 4.440431594848633\n",
      "Epoch 35/100, Average Loss: 4.3475823402404785\n",
      "Epoch 36/100, Average Loss: 4.220337867736816\n",
      "Epoch 37/100, Average Loss: 4.198574542999268\n",
      "Epoch 38/100, Average Loss: 4.011317253112793\n",
      "Epoch 39/100, Average Loss: 4.244705677032471\n",
      "Epoch 40/100, Average Loss: 3.8393731117248535\n",
      "Epoch 41/100, Average Loss: 3.8127245903015137\n",
      "Epoch 42/100, Average Loss: 3.613149404525757\n",
      "Epoch 43/100, Average Loss: 3.834622859954834\n",
      "Epoch 44/100, Average Loss: 3.4599227905273438\n",
      "Epoch 45/100, Average Loss: 3.386165142059326\n",
      "Epoch 46/100, Average Loss: 3.2510879039764404\n",
      "Epoch 47/100, Average Loss: 3.2960288524627686\n",
      "Epoch 48/100, Average Loss: 3.043189287185669\n",
      "Epoch 49/100, Average Loss: 3.0172743797302246\n",
      "Epoch 50/100, Average Loss: 2.8248343467712402\n",
      "Epoch 51/100, Average Loss: 2.8219187259674072\n",
      "Epoch 52/100, Average Loss: 2.707752227783203\n",
      "Epoch 53/100, Average Loss: 2.6567749977111816\n",
      "Epoch 54/100, Average Loss: 2.4970576763153076\n",
      "Epoch 55/100, Average Loss: 2.4142332077026367\n",
      "Epoch 56/100, Average Loss: 2.241302728652954\n",
      "Epoch 57/100, Average Loss: 2.24887752532959\n",
      "Epoch 58/100, Average Loss: 2.1562538146972656\n",
      "Epoch 59/100, Average Loss: 2.036261558532715\n",
      "Epoch 60/100, Average Loss: 1.9881927967071533\n",
      "Epoch 61/100, Average Loss: 1.8106900453567505\n",
      "Epoch 62/100, Average Loss: 1.7292613983154297\n",
      "Epoch 63/100, Average Loss: 1.627068281173706\n",
      "Epoch 64/100, Average Loss: 1.5397629737854004\n",
      "Epoch 65/100, Average Loss: 1.4746896028518677\n",
      "Epoch 66/100, Average Loss: 1.4236011505126953\n",
      "Epoch 67/100, Average Loss: 1.2909064292907715\n",
      "Epoch 68/100, Average Loss: 1.2317112684249878\n",
      "Epoch 69/100, Average Loss: 1.1736831665039062\n",
      "Epoch 70/100, Average Loss: 1.0669251680374146\n",
      "Epoch 71/100, Average Loss: 1.0303504467010498\n",
      "Epoch 72/100, Average Loss: 0.9460451006889343\n",
      "Epoch 73/100, Average Loss: 0.875947892665863\n",
      "Epoch 74/100, Average Loss: 0.8149703741073608\n",
      "Epoch 75/100, Average Loss: 0.7347015142440796\n",
      "Epoch 76/100, Average Loss: 0.6712352633476257\n",
      "Epoch 77/100, Average Loss: 0.6320282816886902\n",
      "Epoch 78/100, Average Loss: 0.588619589805603\n",
      "Epoch 79/100, Average Loss: 0.5208515524864197\n",
      "Epoch 80/100, Average Loss: 0.5111832022666931\n",
      "Epoch 81/100, Average Loss: 0.4321594536304474\n",
      "Epoch 82/100, Average Loss: 0.40223491191864014\n",
      "Epoch 83/100, Average Loss: 0.36801329255104065\n",
      "Epoch 84/100, Average Loss: 0.33356693387031555\n",
      "Epoch 85/100, Average Loss: 0.30947059392929077\n",
      "Epoch 86/100, Average Loss: 0.2788611054420471\n",
      "Epoch 87/100, Average Loss: 0.24917720258235931\n",
      "Epoch 88/100, Average Loss: 0.2383938580751419\n",
      "Epoch 89/100, Average Loss: 0.20807772874832153\n",
      "Epoch 90/100, Average Loss: 0.18996141850948334\n",
      "Epoch 91/100, Average Loss: 0.17542551457881927\n",
      "Epoch 92/100, Average Loss: 0.15469026565551758\n",
      "Epoch 93/100, Average Loss: 0.13798891007900238\n",
      "Epoch 94/100, Average Loss: 0.12579123675823212\n",
      "Epoch 95/100, Average Loss: 0.12279137223958969\n",
      "Epoch 96/100, Average Loss: 0.10159344226121902\n",
      "Epoch 97/100, Average Loss: 0.09241393953561783\n",
      "Epoch 98/100, Average Loss: 0.08557762950658798\n",
      "Epoch 99/100, Average Loss: 0.07527652382850647\n",
      "Epoch 100/100, Average Loss: 0.06917648017406464\n"
     ]
    }
   ],
   "source": [
    "# Example\n",
    "\n",
    "device = torch.device(\"cuda\" if torch.cuda.is_available() else \"cpu\")\n",
    "\n",
    "transformer = Transformer(loc_size=40000, \n",
    "                          time_size=3600, \n",
    "                          embed_dim=64, \n",
    "                          num_layers=6, \n",
    "                          num_heads=8, \n",
    "                          device=device, \n",
    "                          forward_expansion=4)\n",
    "transformer.to(device)\n",
    "train_model(transformer, test_dataloader, device, epochs=100)"
   ]
  },
  {
   "cell_type": "code",
   "execution_count": null,
   "id": "314c5cac",
   "metadata": {},
   "outputs": [],
   "source": []
  }
 ],
 "metadata": {
  "kernelspec": {
   "display_name": "Python 3 (ipykernel)",
   "language": "python",
   "name": "python3"
  },
  "language_info": {
   "codemirror_mode": {
    "name": "ipython",
    "version": 3
   },
   "file_extension": ".py",
   "mimetype": "text/x-python",
   "name": "python",
   "nbconvert_exporter": "python",
   "pygments_lexer": "ipython3",
   "version": "3.11.4"
  }
 },
 "nbformat": 4,
 "nbformat_minor": 5
}
