{
 "cells": [
  {
   "cell_type": "markdown",
   "id": "0051dc88",
   "metadata": {},
   "source": [
    "**Dataset**: https://www.nature.com/articles/s41597-024-03237-9\n",
    "\n",
    "**Encoder and Decoder Reference**: https://www.youtube.com/watch?v=U0s0f995w14\n",
    "\n",
    "**user ID** is the unique identifier of the mobile phone user (type: integer)\n",
    "\n",
    "**day** is the masked date of the observation. It may take a value between 0 and 74 for both Dataset 1 and Dataset 2 (type: integer).\n",
    "\n",
    "The location pings are discretized into 500 meters × 500 meters grid cells and the timestamps are rounded up into 30-minute bins. The actual date of the observations is not available either (i.e., timeslot t of day d) to protect privacy. In the second Dataset, the 75 day period is composed of 60 days of business-as-usual and 15 days during an emergency with unusual behavior.\n",
    "\n",
    "**timeslot** is the timestamp of the observation discretized into 30 minute intervals. \n",
    "It may take a value between 0 and 47, where 0 indicates between 0AM and 0:30AM, \n",
    "and 13 would indicate the timeslot between 6:30AM and 7:00AM.\n",
    "\n",
    "**x,y** are the coordinates of the observed location mapped onto the 500 meter discretized grid cell. It may take a value between (1, 1) and (200, 200). Details are shown in Fig. 2."
   ]
  },
  {
   "cell_type": "markdown",
   "id": "74aad1bf",
   "metadata": {},
   "source": [
    "# Import Libraries"
   ]
  },
  {
   "cell_type": "code",
   "execution_count": 99,
   "id": "d158f4ba",
   "metadata": {},
   "outputs": [],
   "source": [
    "import gzip\n",
    "import pandas as pd\n",
    "import numpy as np\n",
    "import matplotlib.pyplot as plt\n",
    "from sklearn.model_selection import train_test_split\n",
    "import torch\n",
    "import torch.nn as nn\n",
    "import torch.optim as optim\n",
    "from torch.utils.data import Dataset, DataLoader"
   ]
  },
  {
   "cell_type": "markdown",
   "id": "a5fe1e83",
   "metadata": {},
   "source": [
    "## Input Data Processing + Tokenization"
   ]
  },
  {
   "cell_type": "code",
   "execution_count": 1,
   "id": "f611dc61",
   "metadata": {},
   "outputs": [],
   "source": [
    "# yjmob1 = 'yjmob100k-dataset1.csv.gz'\n",
    "# yjmob2 = 'yjmob100k-dataset2.csv.gz'\n",
    "# yjmob_df = pd.concat([pd.read_csv(yjmob1, compression='gzip'),\n",
    "#                       pd.read_csv(yjmob2, compression='gzip')]).sort_values(by=['uid','d','t'],\n",
    "#                                                                             ignore_index=True)"
   ]
  },
  {
   "cell_type": "code",
   "execution_count": 2,
   "id": "64854975",
   "metadata": {},
   "outputs": [],
   "source": [
    "yjmob1 = 'yjmob100k-dataset1.csv.gz' # dataset under normal scenes\n",
    "yjmob_df = pd.read_csv(yjmob1, compression='gzip').sort_values(by=['uid', 'd', 't'], ignore_index=True)"
   ]
  },
  {
   "cell_type": "markdown",
   "id": "e56910c3",
   "metadata": {},
   "source": [
    "### Train-Val-Test Split"
   ]
  },
  {
   "cell_type": "code",
   "execution_count": 3,
   "id": "f862e132",
   "metadata": {},
   "outputs": [],
   "source": [
    "# Retrieve all ids\n",
    "\n",
    "uids = yjmob_df['uid'].unique()"
   ]
  },
  {
   "cell_type": "code",
   "execution_count": 4,
   "id": "fe34b45f",
   "metadata": {},
   "outputs": [],
   "source": [
    "# 70 : 15 : 15 split\n",
    "\n",
    "# test-train split\n",
    "train_val_uids, test_uids = train_test_split(uids, test_size=0.15, random_state=42)\n",
    "\n",
    "# validation-test split\n",
    "train_uids, val_uids = train_test_split(train_val_uids, test_size=0.176, random_state=42) # 0.176≈15/85"
   ]
  },
  {
   "cell_type": "markdown",
   "id": "b6cc2e8b",
   "metadata": {},
   "source": [
    "### Load Test Data"
   ]
  },
  {
   "cell_type": "code",
   "execution_count": 5,
   "id": "813c0925",
   "metadata": {},
   "outputs": [],
   "source": [
    "df = yjmob_df[yjmob_df['uid'].isin(test_uids)]"
   ]
  },
  {
   "cell_type": "code",
   "execution_count": 6,
   "id": "1e477c11",
   "metadata": {},
   "outputs": [
    {
     "data": {
      "text/html": [
       "<div>\n",
       "<style scoped>\n",
       "    .dataframe tbody tr th:only-of-type {\n",
       "        vertical-align: middle;\n",
       "    }\n",
       "\n",
       "    .dataframe tbody tr th {\n",
       "        vertical-align: top;\n",
       "    }\n",
       "\n",
       "    .dataframe thead th {\n",
       "        text-align: right;\n",
       "    }\n",
       "</style>\n",
       "<table border=\"1\" class=\"dataframe\">\n",
       "  <thead>\n",
       "    <tr style=\"text-align: right;\">\n",
       "      <th></th>\n",
       "      <th>uid</th>\n",
       "      <th>d</th>\n",
       "      <th>t</th>\n",
       "      <th>x</th>\n",
       "      <th>y</th>\n",
       "    </tr>\n",
       "  </thead>\n",
       "  <tbody>\n",
       "    <tr>\n",
       "      <th>35039</th>\n",
       "      <td>23</td>\n",
       "      <td>0</td>\n",
       "      <td>24</td>\n",
       "      <td>47</td>\n",
       "      <td>183</td>\n",
       "    </tr>\n",
       "    <tr>\n",
       "      <th>35040</th>\n",
       "      <td>23</td>\n",
       "      <td>0</td>\n",
       "      <td>25</td>\n",
       "      <td>55</td>\n",
       "      <td>188</td>\n",
       "    </tr>\n",
       "    <tr>\n",
       "      <th>35041</th>\n",
       "      <td>23</td>\n",
       "      <td>0</td>\n",
       "      <td>26</td>\n",
       "      <td>55</td>\n",
       "      <td>188</td>\n",
       "    </tr>\n",
       "    <tr>\n",
       "      <th>35042</th>\n",
       "      <td>23</td>\n",
       "      <td>0</td>\n",
       "      <td>29</td>\n",
       "      <td>50</td>\n",
       "      <td>187</td>\n",
       "    </tr>\n",
       "    <tr>\n",
       "      <th>35043</th>\n",
       "      <td>23</td>\n",
       "      <td>0</td>\n",
       "      <td>30</td>\n",
       "      <td>47</td>\n",
       "      <td>182</td>\n",
       "    </tr>\n",
       "  </tbody>\n",
       "</table>\n",
       "</div>"
      ],
      "text/plain": [
       "       uid  d   t   x    y\n",
       "35039   23  0  24  47  183\n",
       "35040   23  0  25  55  188\n",
       "35041   23  0  26  55  188\n",
       "35042   23  0  29  50  187\n",
       "35043   23  0  30  47  182"
      ]
     },
     "execution_count": 6,
     "metadata": {},
     "output_type": "execute_result"
    }
   ],
   "source": [
    "df.head(5)"
   ]
  },
  {
   "cell_type": "markdown",
   "id": "e6e01014",
   "metadata": {},
   "source": [
    "### Tokenize Time Data"
   ]
  },
  {
   "cell_type": "code",
   "execution_count": 7,
   "id": "f41c366f",
   "metadata": {},
   "outputs": [],
   "source": [
    "# df[['t']].min(), df[['t']].max() # [0, 47]\n",
    "# df[['d']].min(), df[['d']].max() # [0, 74]"
   ]
  },
  {
   "cell_type": "code",
   "execution_count": 8,
   "id": "be6c5f17",
   "metadata": {},
   "outputs": [
    {
     "name": "stderr",
     "output_type": "stream",
     "text": [
      "/var/folders/hx/xp23lpqx4ndfxcvp3qj_bdgr0000gn/T/ipykernel_65242/4212691307.py:1: SettingWithCopyWarning: \n",
      "A value is trying to be set on a copy of a slice from a DataFrame.\n",
      "Try using .loc[row_indexer,col_indexer] = value instead\n",
      "\n",
      "See the caveats in the documentation: https://pandas.pydata.org/pandas-docs/stable/user_guide/indexing.html#returning-a-view-versus-a-copy\n",
      "  df['combined_t'] = df['d']*47+df['t']\n"
     ]
    }
   ],
   "source": [
    "df['combined_t'] = df['d']*47+df['t']\n",
    "\n",
    "## Ignore the SettingWithCopyWarning"
   ]
  },
  {
   "cell_type": "code",
   "execution_count": 9,
   "id": "84536801",
   "metadata": {},
   "outputs": [
    {
     "data": {
      "text/html": [
       "<div>\n",
       "<style scoped>\n",
       "    .dataframe tbody tr th:only-of-type {\n",
       "        vertical-align: middle;\n",
       "    }\n",
       "\n",
       "    .dataframe tbody tr th {\n",
       "        vertical-align: top;\n",
       "    }\n",
       "\n",
       "    .dataframe thead th {\n",
       "        text-align: right;\n",
       "    }\n",
       "</style>\n",
       "<table border=\"1\" class=\"dataframe\">\n",
       "  <thead>\n",
       "    <tr style=\"text-align: right;\">\n",
       "      <th></th>\n",
       "      <th>uid</th>\n",
       "      <th>d</th>\n",
       "      <th>t</th>\n",
       "      <th>x</th>\n",
       "      <th>y</th>\n",
       "      <th>combined_t</th>\n",
       "    </tr>\n",
       "  </thead>\n",
       "  <tbody>\n",
       "    <tr>\n",
       "      <th>35039</th>\n",
       "      <td>23</td>\n",
       "      <td>0</td>\n",
       "      <td>24</td>\n",
       "      <td>47</td>\n",
       "      <td>183</td>\n",
       "      <td>24</td>\n",
       "    </tr>\n",
       "    <tr>\n",
       "      <th>35040</th>\n",
       "      <td>23</td>\n",
       "      <td>0</td>\n",
       "      <td>25</td>\n",
       "      <td>55</td>\n",
       "      <td>188</td>\n",
       "      <td>25</td>\n",
       "    </tr>\n",
       "    <tr>\n",
       "      <th>35041</th>\n",
       "      <td>23</td>\n",
       "      <td>0</td>\n",
       "      <td>26</td>\n",
       "      <td>55</td>\n",
       "      <td>188</td>\n",
       "      <td>26</td>\n",
       "    </tr>\n",
       "    <tr>\n",
       "      <th>35042</th>\n",
       "      <td>23</td>\n",
       "      <td>0</td>\n",
       "      <td>29</td>\n",
       "      <td>50</td>\n",
       "      <td>187</td>\n",
       "      <td>29</td>\n",
       "    </tr>\n",
       "    <tr>\n",
       "      <th>35043</th>\n",
       "      <td>23</td>\n",
       "      <td>0</td>\n",
       "      <td>30</td>\n",
       "      <td>47</td>\n",
       "      <td>182</td>\n",
       "      <td>30</td>\n",
       "    </tr>\n",
       "  </tbody>\n",
       "</table>\n",
       "</div>"
      ],
      "text/plain": [
       "       uid  d   t   x    y  combined_t\n",
       "35039   23  0  24  47  183          24\n",
       "35040   23  0  25  55  188          25\n",
       "35041   23  0  26  55  188          26\n",
       "35042   23  0  29  50  187          29\n",
       "35043   23  0  30  47  182          30"
      ]
     },
     "execution_count": 9,
     "metadata": {},
     "output_type": "execute_result"
    }
   ],
   "source": [
    "df.head(5)"
   ]
  },
  {
   "cell_type": "markdown",
   "id": "fd1c80c6",
   "metadata": {},
   "source": [
    "### Tokenize Spatial Data"
   ]
  },
  {
   "cell_type": "code",
   "execution_count": 10,
   "id": "9c4036e9",
   "metadata": {},
   "outputs": [],
   "source": [
    "# linearization of the 2-dimensional grid, i.e., the original x,y coordinate system\n",
    "def spatial_token(x, y):\n",
    "    # x,y are the coordinate location\n",
    "    # x determines the column order while\n",
    "    # y determines the row order\n",
    "    # (x-1) calculates the starting grid-column position\n",
    "    # (y-1)*200 calculates the start index of the grid-row\n",
    "    return (x-1)+(y-1)*200"
   ]
  },
  {
   "cell_type": "code",
   "execution_count": 11,
   "id": "323f5683",
   "metadata": {},
   "outputs": [
    {
     "name": "stderr",
     "output_type": "stream",
     "text": [
      "/var/folders/hx/xp23lpqx4ndfxcvp3qj_bdgr0000gn/T/ipykernel_65242/424670490.py:1: SettingWithCopyWarning: \n",
      "A value is trying to be set on a copy of a slice from a DataFrame.\n",
      "Try using .loc[row_indexer,col_indexer] = value instead\n",
      "\n",
      "See the caveats in the documentation: https://pandas.pydata.org/pandas-docs/stable/user_guide/indexing.html#returning-a-view-versus-a-copy\n",
      "  df['combined_xy'] = df.apply(lambda row: spatial_token(row['x'], row['y']), axis=1)\n"
     ]
    }
   ],
   "source": [
    "df['combined_xy'] = df.apply(lambda row: spatial_token(row['x'], row['y']), axis=1)\n",
    "\n",
    "## Ignore the SettingWithCopyWarning"
   ]
  },
  {
   "cell_type": "code",
   "execution_count": 12,
   "id": "289325a8",
   "metadata": {},
   "outputs": [
    {
     "data": {
      "text/html": [
       "<div>\n",
       "<style scoped>\n",
       "    .dataframe tbody tr th:only-of-type {\n",
       "        vertical-align: middle;\n",
       "    }\n",
       "\n",
       "    .dataframe tbody tr th {\n",
       "        vertical-align: top;\n",
       "    }\n",
       "\n",
       "    .dataframe thead th {\n",
       "        text-align: right;\n",
       "    }\n",
       "</style>\n",
       "<table border=\"1\" class=\"dataframe\">\n",
       "  <thead>\n",
       "    <tr style=\"text-align: right;\">\n",
       "      <th></th>\n",
       "      <th>uid</th>\n",
       "      <th>d</th>\n",
       "      <th>t</th>\n",
       "      <th>x</th>\n",
       "      <th>y</th>\n",
       "      <th>combined_t</th>\n",
       "      <th>combined_xy</th>\n",
       "    </tr>\n",
       "  </thead>\n",
       "  <tbody>\n",
       "    <tr>\n",
       "      <th>35039</th>\n",
       "      <td>23</td>\n",
       "      <td>0</td>\n",
       "      <td>24</td>\n",
       "      <td>47</td>\n",
       "      <td>183</td>\n",
       "      <td>24</td>\n",
       "      <td>36446</td>\n",
       "    </tr>\n",
       "    <tr>\n",
       "      <th>35040</th>\n",
       "      <td>23</td>\n",
       "      <td>0</td>\n",
       "      <td>25</td>\n",
       "      <td>55</td>\n",
       "      <td>188</td>\n",
       "      <td>25</td>\n",
       "      <td>37454</td>\n",
       "    </tr>\n",
       "    <tr>\n",
       "      <th>35041</th>\n",
       "      <td>23</td>\n",
       "      <td>0</td>\n",
       "      <td>26</td>\n",
       "      <td>55</td>\n",
       "      <td>188</td>\n",
       "      <td>26</td>\n",
       "      <td>37454</td>\n",
       "    </tr>\n",
       "    <tr>\n",
       "      <th>35042</th>\n",
       "      <td>23</td>\n",
       "      <td>0</td>\n",
       "      <td>29</td>\n",
       "      <td>50</td>\n",
       "      <td>187</td>\n",
       "      <td>29</td>\n",
       "      <td>37249</td>\n",
       "    </tr>\n",
       "    <tr>\n",
       "      <th>35043</th>\n",
       "      <td>23</td>\n",
       "      <td>0</td>\n",
       "      <td>30</td>\n",
       "      <td>47</td>\n",
       "      <td>182</td>\n",
       "      <td>30</td>\n",
       "      <td>36246</td>\n",
       "    </tr>\n",
       "  </tbody>\n",
       "</table>\n",
       "</div>"
      ],
      "text/plain": [
       "       uid  d   t   x    y  combined_t  combined_xy\n",
       "35039   23  0  24  47  183          24        36446\n",
       "35040   23  0  25  55  188          25        37454\n",
       "35041   23  0  26  55  188          26        37454\n",
       "35042   23  0  29  50  187          29        37249\n",
       "35043   23  0  30  47  182          30        36246"
      ]
     },
     "execution_count": 12,
     "metadata": {},
     "output_type": "execute_result"
    }
   ],
   "source": [
    "df.head(5)"
   ]
  },
  {
   "cell_type": "code",
   "execution_count": 13,
   "id": "d489aba2",
   "metadata": {},
   "outputs": [],
   "source": [
    "# original data\n",
    "\n",
    "# df['combined_t'].min(), df['combined_t'].max() # (0, 3525)\n",
    "# df['combined_xy'].min(), df['combined_xy'].max() # (0, 39999)\n",
    "\n",
    "df = df.sort_values(by=['uid', 'combined_t'])"
   ]
  },
  {
   "cell_type": "code",
   "execution_count": 14,
   "id": "275bf4d6",
   "metadata": {},
   "outputs": [
    {
     "data": {
      "text/html": [
       "<div>\n",
       "<style scoped>\n",
       "    .dataframe tbody tr th:only-of-type {\n",
       "        vertical-align: middle;\n",
       "    }\n",
       "\n",
       "    .dataframe tbody tr th {\n",
       "        vertical-align: top;\n",
       "    }\n",
       "\n",
       "    .dataframe thead th {\n",
       "        text-align: right;\n",
       "    }\n",
       "</style>\n",
       "<table border=\"1\" class=\"dataframe\">\n",
       "  <thead>\n",
       "    <tr style=\"text-align: right;\">\n",
       "      <th></th>\n",
       "      <th>uid</th>\n",
       "      <th>d</th>\n",
       "      <th>t</th>\n",
       "      <th>x</th>\n",
       "      <th>y</th>\n",
       "      <th>combined_t</th>\n",
       "      <th>combined_xy</th>\n",
       "    </tr>\n",
       "  </thead>\n",
       "  <tbody>\n",
       "    <tr>\n",
       "      <th>35039</th>\n",
       "      <td>23</td>\n",
       "      <td>0</td>\n",
       "      <td>24</td>\n",
       "      <td>47</td>\n",
       "      <td>183</td>\n",
       "      <td>24</td>\n",
       "      <td>36446</td>\n",
       "    </tr>\n",
       "    <tr>\n",
       "      <th>35040</th>\n",
       "      <td>23</td>\n",
       "      <td>0</td>\n",
       "      <td>25</td>\n",
       "      <td>55</td>\n",
       "      <td>188</td>\n",
       "      <td>25</td>\n",
       "      <td>37454</td>\n",
       "    </tr>\n",
       "    <tr>\n",
       "      <th>35041</th>\n",
       "      <td>23</td>\n",
       "      <td>0</td>\n",
       "      <td>26</td>\n",
       "      <td>55</td>\n",
       "      <td>188</td>\n",
       "      <td>26</td>\n",
       "      <td>37454</td>\n",
       "    </tr>\n",
       "    <tr>\n",
       "      <th>35042</th>\n",
       "      <td>23</td>\n",
       "      <td>0</td>\n",
       "      <td>29</td>\n",
       "      <td>50</td>\n",
       "      <td>187</td>\n",
       "      <td>29</td>\n",
       "      <td>37249</td>\n",
       "    </tr>\n",
       "    <tr>\n",
       "      <th>35043</th>\n",
       "      <td>23</td>\n",
       "      <td>0</td>\n",
       "      <td>30</td>\n",
       "      <td>47</td>\n",
       "      <td>182</td>\n",
       "      <td>30</td>\n",
       "      <td>36246</td>\n",
       "    </tr>\n",
       "  </tbody>\n",
       "</table>\n",
       "</div>"
      ],
      "text/plain": [
       "       uid  d   t   x    y  combined_t  combined_xy\n",
       "35039   23  0  24  47  183          24        36446\n",
       "35040   23  0  25  55  188          25        37454\n",
       "35041   23  0  26  55  188          26        37454\n",
       "35042   23  0  29  50  187          29        37249\n",
       "35043   23  0  30  47  182          30        36246"
      ]
     },
     "execution_count": 14,
     "metadata": {},
     "output_type": "execute_result"
    }
   ],
   "source": [
    "df.head(5)"
   ]
  },
  {
   "cell_type": "markdown",
   "id": "1fdfd0c9",
   "metadata": {},
   "source": [
    "## Batching"
   ]
  },
  {
   "cell_type": "code",
   "execution_count": 138,
   "id": "7983925d",
   "metadata": {},
   "outputs": [],
   "source": [
    "def generate_sequences(data, data_t, window_size):\n",
    "    inputs = []\n",
    "    labels = []\n",
    "    positions = []\n",
    "    label_positions = []\n",
    "    for i in range(len(data) - window_size):\n",
    "        sequence = data[i:i + window_size]\n",
    "        label = data[i + window_size]\n",
    "        time_sequence = data_t[i:i + window_size]\n",
    "        label_time = data_t[i + window_size]\n",
    "\n",
    "        inputs.append(sequence)\n",
    "        labels.append(label)\n",
    "        positions.append(time_sequence)\n",
    "        label_positions.append(label_time)\n",
    "        \n",
    "    return inputs, labels, positions, label_positions"
   ]
  },
  {
   "cell_type": "code",
   "execution_count": 139,
   "id": "534e616b",
   "metadata": {},
   "outputs": [],
   "source": [
    "WINDOW_SIZE = 500\n",
    "BATCH_SIZE = 50"
   ]
  },
  {
   "cell_type": "code",
   "execution_count": 140,
   "id": "b8e8b316",
   "metadata": {},
   "outputs": [],
   "source": [
    "# Group data by uid\n",
    "\n",
    "grouped_data = df[['uid', 'combined_t', 'combined_xy']].groupby('uid')\n",
    "grouped_data = [group for _, group in df.groupby('uid')]"
   ]
  },
  {
   "cell_type": "code",
   "execution_count": 19,
   "id": "9773265d",
   "metadata": {
    "collapsed": true
   },
   "outputs": [
    {
     "data": {
      "text/plain": [
       "[<matplotlib.lines.Line2D at 0x14d94bc10>]"
      ]
     },
     "execution_count": 19,
     "metadata": {},
     "output_type": "execute_result"
    },
    {
     "data": {
      "image/png": "[encoded data removed]",
      "text/plain": [
       "<Figure size 640x480 with 1 Axes>"
      ]
     },
     "metadata": {},
     "output_type": "display_data"
    }
   ],
   "source": [
    "x = grouped_data[1]['combined_xy']\n",
    "y = grouped_data[1]['combined_t']\n",
    "\n",
    "plt.plot(x, y)"
   ]
  },
  {
   "cell_type": "code",
   "execution_count": 143,
   "id": "8aa15331",
   "metadata": {},
   "outputs": [],
   "source": [
    "class TrajectoryDataset(Dataset):\n",
    "    def __init__(self, grouped_data, window_size):\n",
    "        self.data = grouped_data\n",
    "        self.window_size = window_size\n",
    "\n",
    "    def __len__(self):\n",
    "        return len(self.data)\n",
    "\n",
    "    def __getitem__(self, idx):\n",
    "        data_for_uid = self.data[idx]\n",
    "        inputs, labels, positions, label_positions = generate_sequences(\n",
    "                                                         data_for_uid['combined_xy'].values.tolist(),\n",
    "                                                         data_for_uid['combined_t'].values.tolist(),\n",
    "                                                         self.window_size)\n",
    "        # TODO: Only first 500 trajectories for all users are extracted for now\n",
    "        # To fix this I think the whole dataset needs to be restructured\n",
    "        # ,regardless of the uid, i.e. just pay attention to the movement of any arbitrary user\n",
    "        # like the first 500 movement of an arbitray user would be in the same mid (movement id)\n",
    "        # but what is the point of using positional embedding if this is the case\n",
    "        # because basically, you are focus only on the movement of the user\n",
    "        # so...should LSTM work better in terms of its speed and simplicity\n",
    "        # and having a similar purpose as the Transformer?\n",
    "        return torch.tensor(inputs[0]), torch.tensor(labels[0]), \\\n",
    "                torch.tensor(positions[0]), torch.tensor(label_positions[0])\n",
    "\n",
    "test_dataset = TrajectoryDataset(grouped_data, WINDOW_SIZE)"
   ]
  },
  {
   "cell_type": "code",
   "execution_count": 144,
   "id": "90a14dc9",
   "metadata": {
    "collapsed": true
   },
   "outputs": [
    {
     "data": {
      "text/plain": [
       "(tensor([36446, 37454, 37454, 37249, 36246, 36246, 36246, 36649, 36246, 36848,\n",
       "         36246, 36246, 36446, 36246, 36246, 36247, 36246, 37048, 37453, 36649,\n",
       "         36049, 35849, 35648, 35450, 35650, 36246, 36446, 36246, 36246, 37454,\n",
       "         37452, 36246, 36246, 36246, 36449, 35454, 36251, 36246, 36249, 36446,\n",
       "         36246, 36246, 36246, 36246, 36247, 36246, 37457, 36246, 36246, 36247,\n",
       "         36648, 37454, 37249, 36251, 36051, 36251, 36248, 36246, 36247, 36246,\n",
       "         37251, 36446, 36247, 36247, 36447, 36246, 37454, 36246, 33456, 36246,\n",
       "         36246, 36246, 36246, 36246, 36246, 35448, 33652, 36852, 37455, 36848,\n",
       "         36246, 36246, 36247, 36247, 36440, 36639, 36246, 36246, 37849, 39854,\n",
       "         36246, 36246, 36247, 36246, 36246, 37452, 37454, 36246, 36246, 36246,\n",
       "         36246, 36246, 36246, 36246, 36247, 36246, 36247, 36246, 36246, 36246,\n",
       "         36648, 36848, 37454, 36246, 36246, 36246, 36247, 36448, 36247, 36246,\n",
       "         36246, 36246, 36247, 36246, 36246, 36247, 36247, 36246, 37454, 36851,\n",
       "         36246, 36246, 36247, 36247, 36246, 36246, 37855, 36246, 36247, 36046,\n",
       "         36246, 36246, 36246, 37051, 36246, 36246, 36246, 36246, 36246, 36245,\n",
       "         36246, 36247, 36246, 36246, 36246, 36246, 36246, 36246, 36446, 36445,\n",
       "         36446, 36246, 36247, 36246, 36246, 36246, 36247, 36246, 36247, 36246,\n",
       "         36247, 36246, 36246, 36247, 36246, 36246, 36246, 36247, 36246, 36247,\n",
       "         36246, 36247, 36246, 36246, 36247, 35653, 35260, 35450, 35650, 36246,\n",
       "         36247, 36246, 36246, 37252, 37252, 37454, 36449, 36051, 36050, 36247,\n",
       "         36247, 36246, 36247, 36246, 36247, 36246, 38478, 36240, 36246, 36247,\n",
       "         36247, 36246, 36247, 37454, 37652, 36848, 36246, 36247, 36639, 36246,\n",
       "         36247, 36246, 37455, 37051, 36851, 37048, 36448, 36448, 36247, 36246,\n",
       "         36246, 36246, 36247, 36246, 34066, 33670, 33670, 33470, 33670, 33470,\n",
       "         33469, 33470, 36454, 36246, 36648, 36852, 36849, 36251, 36251, 36251,\n",
       "         36247, 36447, 36246, 36447, 36246, 36246, 36647, 37454, 36647, 36246,\n",
       "         36447, 36447, 36247, 36646, 36246, 36246, 36247, 36246, 36247, 36246,\n",
       "         36247, 36246, 37452, 36851, 36850, 36246, 36247, 36447, 36438, 36439,\n",
       "         36246, 36246, 36247, 36246, 36246, 36246, 36247, 36247, 36246, 36247,\n",
       "         36246, 36246, 36246, 36246, 36246, 36246, 37455, 34853, 34850, 36246,\n",
       "         36247, 36246, 36246, 36246, 36247, 36246, 36247, 36247, 36247, 36246,\n",
       "         36246, 36246, 36246, 36246, 35847, 35847, 37251, 37454, 37249, 36448,\n",
       "         36448, 36639, 36243, 36247, 36246, 36247, 36246, 36246, 36247, 36246,\n",
       "         36246, 36246, 36246, 36247, 36246, 37250, 37455, 37454, 37054, 36246,\n",
       "         36246, 36446, 36246, 36047, 35648, 36247, 36246, 36047, 34051, 33851,\n",
       "         33852, 36852, 37454, 37455, 36246, 36448, 36450, 35260, 35454, 36051,\n",
       "         36246, 36246, 36245, 36246, 37454, 37249, 36848, 36246, 39068, 39471,\n",
       "         39471, 39471, 39471, 37864, 37459, 36852, 36448, 36247, 36247, 36447,\n",
       "         36247, 36246, 36246, 36247, 36247, 36247, 36247, 36247, 36247, 36246,\n",
       "         36246, 36247, 36246, 36246, 36246, 36247, 36247, 36246, 36247, 36247,\n",
       "         36247, 36247, 36247, 36247, 36246, 36246, 36247, 36246, 36246, 36247,\n",
       "         36246, 36247, 36246, 36246, 36247, 36247, 36246, 36247, 36246, 36246,\n",
       "         36246, 36247, 36247, 36247, 36246, 36247, 36247, 36247, 36247, 36246,\n",
       "         36247, 36246, 36246, 36246, 36247, 36247, 36247, 36246, 36247, 36247,\n",
       "         36246, 36247, 36247, 36246, 36247, 36247, 36246, 36246, 36247, 36246,\n",
       "         36247, 36247, 36246, 36246, 36446, 37454, 37455, 37455, 37455, 37249,\n",
       "         36246, 36246, 36246, 36246, 36246, 36047, 36046, 36639, 36639, 36439,\n",
       "         36044, 36247, 36246, 36246, 36247, 36247, 36247, 36247, 36246, 36247,\n",
       "         36247, 36246, 36246, 36247, 36246, 36247, 36246, 36247, 36246, 36246,\n",
       "         36247, 36246, 36246, 36247, 36247, 36247, 36246, 36247, 36247, 36246]),\n",
       " tensor(36247),\n",
       " tensor([  24,   25,   26,   29,   30,   33,   34,   35,   37,   39,   41,   42,\n",
       "           48,   50,   58,   59,   67,   68,   69,   73,   74,   75,   77,   78,\n",
       "           79,   81,   93,   99,  107,  116,  119,  120,  123,  126,  127,  131,\n",
       "          132,  133,  134,  138,  139,  140,  141,  141,  144,  145,  147,  151,\n",
       "          154,  160,  162,  164,  169,  170,  171,  172,  174,  176,  177,  178,\n",
       "          180,  185,  194,  200,  204,  205,  208,  214,  219,  224,  225,  227,\n",
       "          229,  237,  243,  251,  252,  255,  258,  260,  261,  264,  266,  267,\n",
       "          268,  270,  275,  282,  283,  285,  286,  295,  296,  297,  301,  304,\n",
       "          305,  310,  311,  320,  328,  329,  329,  331,  336,  337,  340,  341,\n",
       "          342,  344,  350,  351,  353,  356,  362,  363,  365,  367,  368,  369,\n",
       "          377,  378,  380,  389,  391,  395,  396,  398,  400,  404,  406,  407,\n",
       "          412,  413,  414,  415,  421,  422,  442,  445,  446,  447,  450,  453,\n",
       "          454,  455,  456,  457,  459,  467,  469,  470,  470,  473,  474,  475,\n",
       "          479,  480,  481,  482,  483,  484,  486,  488,  490,  492,  503,  504,\n",
       "          505,  506,  507,  511,  512,  513,  514,  518,  526,  528,  530,  532,\n",
       "          533,  541,  542,  545,  546,  547,  550,  554,  555,  556,  576,  577,\n",
       "          583,  584,  585,  586,  591,  592,  597,  599,  601,  602,  608,  609,\n",
       "          611,  613,  614,  615,  616,  626,  627,  628,  631,  632,  636,  637,\n",
       "          638,  643,  645,  649,  674,  675,  680,  684,  685,  686,  688,  689,\n",
       "          691,  695,  698,  708,  717,  718,  719,  725,  726,  728,  730,  731,\n",
       "          734,  735,  736,  738,  773,  780,  781,  782,  784,  785,  786,  809,\n",
       "          810,  812,  813,  818,  820,  821,  826,  827,  828,  830,  831,  832,\n",
       "          833,  836,  841,  843,  850,  856,  859,  860,  868,  871,  874,  876,\n",
       "          878,  879,  882,  884,  885,  886,  887,  888,  889,  890,  892,  895,\n",
       "          901,  902,  903,  905,  906,  907,  911,  913,  916,  919,  922,  923,\n",
       "          925,  926,  927,  930,  931,  933,  934,  935,  936,  937,  940,  943,\n",
       "          952,  953,  961,  962,  963,  964,  967,  971,  972,  976,  977,  978,\n",
       "          979,  980,  983,  996,  997,  998, 1002, 1003, 1004, 1006, 1007, 1009,\n",
       "         1011, 1012, 1013, 1014, 1016, 1020, 1021, 1022, 1024, 1026, 1050, 1051,\n",
       "         1052, 1053, 1055, 1056, 1057, 1060, 1061, 1066, 1067, 1068, 1071, 1073,\n",
       "         1077, 1078, 1101, 1102, 1103, 1108, 1109, 1110, 1144, 1150, 1152, 1155,\n",
       "         1157, 1158, 1159, 1160, 1161, 1163, 1164, 1165, 1166, 1167, 1168, 1169,\n",
       "         1170, 1173, 1174, 1175, 1175, 1176, 1177, 1178, 1179, 1180, 1181, 1182,\n",
       "         1183, 1184, 1185, 1186, 1187, 1188, 1189, 1190, 1191, 1192, 1193, 1194,\n",
       "         1196, 1197, 1198, 1199, 1200, 1203, 1204, 1205, 1206, 1207, 1208, 1209,\n",
       "         1210, 1211, 1212, 1213, 1214, 1215, 1216, 1217, 1218, 1219, 1220, 1221,\n",
       "         1222, 1222, 1223, 1224, 1225, 1226, 1227, 1228, 1229, 1230, 1231, 1232,\n",
       "         1233, 1234, 1235, 1236, 1237, 1238, 1239, 1240, 1241, 1242, 1243, 1244,\n",
       "         1245, 1246, 1247, 1248, 1249, 1250, 1251, 1252, 1253, 1254, 1255, 1256,\n",
       "         1257, 1259, 1260, 1261, 1262, 1263, 1264, 1265, 1266, 1267, 1268, 1269,\n",
       "         1269, 1270, 1271, 1272, 1273, 1274, 1275, 1276, 1277, 1278, 1279, 1280,\n",
       "         1281, 1282, 1283, 1284, 1285, 1286, 1287, 1288]),\n",
       " tensor(1289))"
      ]
     },
     "execution_count": 144,
     "metadata": {},
     "output_type": "execute_result"
    }
   ],
   "source": [
    "# Example\n",
    "test_dataset.__getitem__(0) # uid=23, inputs, labels, positions, label_positions"
   ]
  },
  {
   "cell_type": "code",
   "execution_count": 155,
   "id": "2b99bfd3",
   "metadata": {},
   "outputs": [],
   "source": [
    "def collate_fn(batch):\n",
    "    \"\"\"\n",
    "    batch: Dataset\n",
    "    \"\"\"\n",
    "    # Unzip all batch\n",
    "    inputs_batch, labels_batch, positions_batch, label_positions_batch = zip(*batch)\n",
    "    \n",
    "    # Pad the sequence with less length in a batch\n",
    "    inputs_padded = torch.nn.utils.rnn.pad_sequence(inputs_batch, padding_value=0.0)\n",
    "    # labels_padded = torch.nn.utils.rnn.pad_sequence(labels_batch, padding_value=0.0)\n",
    "    labels_padded = torch.tensor(np.array(labels_batch))\n",
    "    positions_padded = torch.nn.utils.rnn.pad_sequence(positions_batch, padding_value=0)\n",
    "    label_positions_padded = torch.tensor(np.array(label_positions_batch))\n",
    "    \n",
    "    return inputs_padded, labels_padded, positions_padded, label_positions_padded"
   ]
  },
  {
   "cell_type": "code",
   "execution_count": 156,
   "id": "d96aedf1",
   "metadata": {},
   "outputs": [],
   "source": [
    "test_dataloader = DataLoader(test_dataset, batch_size=BATCH_SIZE, shuffle=True, collate_fn=collate_fn)"
   ]
  },
  {
   "cell_type": "code",
   "execution_count": 157,
   "id": "7cc4456f",
   "metadata": {},
   "outputs": [
    {
     "name": "stdout",
     "output_type": "stream",
     "text": [
      "Shape of inputs: torch.Size([500, 50])\n",
      "Shape of labels: torch.Size([50])\n",
      "Shape of positions: torch.Size([500, 50])\n",
      "Shape of positions: torch.Size([50])\n"
     ]
    }
   ],
   "source": [
    "# Example\n",
    "\n",
    "data_iter = iter(test_dataloader)\n",
    "inputs, labels, positions, label_positions = next(data_iter)\n",
    "\n",
    "print(\"Shape of inputs:\", inputs.shape) # [sqe_len, batch_size]\n",
    "print(\"Shape of labels:\", labels.shape)\n",
    "print(\"Shape of positions:\", positions.shape)\n",
    "print(\"Shape of positions:\", label_positions.shape)"
   ]
  },
  {
   "cell_type": "markdown",
   "id": "d93c5203",
   "metadata": {},
   "source": [
    "## Input Embedding and Positional Encoding\n",
    "\n",
    "https://pytorch.org/tutorials/beginner/transformer_tutorial.html#load-and-batch-data"
   ]
  },
  {
   "cell_type": "code",
   "execution_count": 66,
   "id": "c3e98c32",
   "metadata": {},
   "outputs": [],
   "source": [
    "EMBED_DIM = 64"
   ]
  },
  {
   "cell_type": "code",
   "execution_count": 89,
   "id": "bd73fefc",
   "metadata": {},
   "outputs": [],
   "source": [
    "# Space - Input Embedding\n",
    "\n",
    "# 40000 = 200 * 200\n",
    "\n",
    "class InputEmbedding(nn.Module):\n",
    "    def __init__(self, num_embeddings, embedding_dim):\n",
    "        super(InputEmbedding, self).__init__()\n",
    "        self.embedding = nn.Embedding(num_embeddings, embedding_dim)\n",
    "\n",
    "    def forward(self, x):\n",
    "        \"\"\"\n",
    "        x: Tensor, shape ``[seq_len, batch_size, embedding_dim]``\n",
    "        \"\"\"\n",
    "        return self.embedding(x)"
   ]
  },
  {
   "cell_type": "code",
   "execution_count": 90,
   "id": "f93959c1",
   "metadata": {},
   "outputs": [],
   "source": [
    "# Time - Positional Encoding = Time Embedding + Sequential Encoding\n",
    "\n",
    "# max_len is the maximum expected data length\n",
    "\n",
    "class PositionalEncoding(nn.Module):\n",
    "    def __init__(self, max_len, embedding_dim, dropout):\n",
    "        super(PositionalEncoding, self).__init__()\n",
    "        self.dropout = nn.Dropout(p=dropout) # prevent overfitting\n",
    "        self.embedding_dim = embedding_dim\n",
    "\n",
    "        position = torch.arange(max_len).unsqueeze(1)\n",
    "        div_term = torch.exp(torch.arange(0, embedding_dim, 2) * (-np.log(10000.0) / embedding_dim))\n",
    "        pe = torch.zeros(max_len, 1, embedding_dim)\n",
    "        pe[:, 0, 0::2] = torch.sin(position.float() * div_term)\n",
    "        pe[:, 0, 1::2] = torch.cos(position.float() * div_term)\n",
    "        self.register_buffer('pe', pe)\n",
    "\n",
    "    def forward(self, x):\n",
    "        \"\"\"\n",
    "        x: Tensor, shape ``[seq_len, batch_size, embedding_dim]``\n",
    "        \"\"\"\n",
    "        x = x + self.pe[:x.size(0)]\n",
    "        return self.dropout(x)"
   ]
  },
  {
   "cell_type": "code",
   "execution_count": 158,
   "id": "73e23499",
   "metadata": {
    "scrolled": true
   },
   "outputs": [
    {
     "name": "stdout",
     "output_type": "stream",
     "text": [
      "Input Embedding: torch.Size([500, 50, 64])\n",
      "Positional Encoding: torch.Size([500, 50, 64])\n"
     ]
    }
   ],
   "source": [
    "# Example\n",
    "\n",
    "input_embedding_layer = InputEmbedding(40000, EMBED_DIM) # max_len, embedding_dim\n",
    "position_embedding_layer = nn.Embedding(3600, EMBED_DIM) # max_len, embedding_dim\n",
    "positional_encoding = PositionalEncoding(3600, EMBED_DIM, 0.1) # max_len, embedding_dim, dropout\n",
    "\n",
    "space_time = torch.tensor([])\n",
    "\n",
    "for inputs, labels, positions, label_positions in test_dataloader:\n",
    "    # Input Embedding\n",
    "    space = input_embedding_layer(inputs)\n",
    "    \n",
    "    # Positional Encoding\n",
    "    positions = position_embedding_layer(positions)\n",
    "    time = positional_encoding(positions)\n",
    "    \n",
    "    # Display shapes\n",
    "    print(\"Input Embedding:\", space.shape) # [seq_size, batch_size, embed_dim]\n",
    "    print(\"Positional Encoding:\", time.shape)\n",
    "    \n",
    "    # Concatenation\n",
    "    # space_time = torch.cat((space, time), dim=2)\n",
    "    \n",
    "    # Addition\n",
    "    space_time = space + time\n",
    "\n",
    "    break"
   ]
  },
  {
   "cell_type": "markdown",
   "id": "f54962ea",
   "metadata": {},
   "source": [
    "## Self-Attention"
   ]
  },
  {
   "cell_type": "code",
   "execution_count": 129,
   "id": "e133b7fb",
   "metadata": {},
   "outputs": [],
   "source": [
    "NUM_HEADS = 8"
   ]
  },
  {
   "cell_type": "code",
   "execution_count": 130,
   "id": "f3f8a987",
   "metadata": {},
   "outputs": [],
   "source": [
    "class MultiHeadAttentionModule(nn.Module):\n",
    "    def __init__(self, embed_dim, num_heads):\n",
    "        super(MultiHeadAttentionModule, self).__init__()\n",
    "        self.multihead_attn = nn.MultiheadAttention(embed_dim, num_heads)\n",
    "\n",
    "    def forward(self, query, key, value, key_padding_mask=None, need_weights=True):\n",
    "        attn_output, attn_output_weights = self.multihead_attn(query, key, value, attn_mask=key_padding_mask)\n",
    "        return attn_output, attn_output_weights"
   ]
  },
  {
   "cell_type": "code",
   "execution_count": 131,
   "id": "96cc994d",
   "metadata": {
    "collapsed": true
   },
   "outputs": [
    {
     "name": "stdout",
     "output_type": "stream",
     "text": [
      "Self Attention: torch.Size([500, 50, 64])\n",
      "tensor([[[-0.1103, -0.2069,  0.1531,  ..., -0.0426,  0.0318, -0.1362],\n",
      "         [-0.2952, -0.2202,  0.7420,  ..., -0.1268,  0.1803, -0.1732],\n",
      "         [ 0.0980, -0.3474,  0.2576,  ...,  0.1212,  0.1180, -0.1179],\n",
      "         ...,\n",
      "         [-0.0422, -0.2879,  0.4252,  ...,  0.0434,  0.3268, -0.0590],\n",
      "         [-0.2901, -0.1478,  0.1555,  ...,  0.1551, -0.0478,  0.0103],\n",
      "         [ 0.1312, -0.1490,  0.1305,  ...,  0.2758,  0.2974, -0.1895]],\n",
      "\n",
      "        [[-0.1274, -0.2267,  0.2636,  ...,  0.1456, -0.1611, -0.0985],\n",
      "         [-0.1904, -0.1369,  0.2503,  ..., -0.0821,  0.0794,  0.0371],\n",
      "         [ 0.2912, -0.3146,  0.0513,  ...,  0.1500,  0.2346,  0.1337],\n",
      "         ...,\n",
      "         [-0.3879, -0.1773,  0.0855,  ...,  0.0501,  0.0173,  0.1373],\n",
      "         [-0.3205, -0.1173,  0.3983,  ...,  0.2287,  0.1844, -0.0054],\n",
      "         [ 0.1665,  0.0259,  0.1635,  ...,  0.1820,  0.2353, -0.0859]],\n",
      "\n",
      "        [[-0.0828, -0.2452,  0.3119,  ..., -0.0498, -0.0105, -0.0601],\n",
      "         [-0.1656,  0.0478,  0.1745,  ..., -0.0100,  0.0626,  0.0375],\n",
      "         [ 0.1819, -0.0088,  0.2405,  ...,  0.1736,  0.1024,  0.0591],\n",
      "         ...,\n",
      "         [ 0.0191, -0.0919,  0.1824,  ..., -0.1829,  0.0725, -0.1444],\n",
      "         [-0.3163, -0.1733,  0.2737,  ...,  0.3859,  0.0665,  0.3186],\n",
      "         [-0.0912,  0.0170,  0.1040,  ..., -0.0756,  0.2801, -0.1111]],\n",
      "\n",
      "        ...,\n",
      "\n",
      "        [[-0.2278,  0.0261,  0.1874,  ..., -0.0892,  0.1484, -0.0510],\n",
      "         [-0.2553, -0.2401,  0.3205,  ..., -0.1557, -0.0663,  0.0256],\n",
      "         [ 0.5290, -0.4177, -0.0810,  ...,  0.1604,  0.0187,  0.2761],\n",
      "         ...,\n",
      "         [-0.0630,  0.0365,  0.3237,  ..., -0.2839,  0.3431, -0.1904],\n",
      "         [-0.4101,  0.0251,  0.0758,  ...,  0.0421, -0.0546,  0.0504],\n",
      "         [-0.0110,  0.0856,  0.1178,  ...,  0.2742,  0.4013, -0.1981]],\n",
      "\n",
      "        [[-0.0550, -0.1901,  0.1395,  ...,  0.0359,  0.1848,  0.0651],\n",
      "         [ 0.0284,  0.0223,  0.1863,  ..., -0.0485, -0.0536, -0.0814],\n",
      "         [-0.0835, -0.0163,  0.2488,  ..., -0.0079,  0.2121,  0.0307],\n",
      "         ...,\n",
      "         [-0.0665, -0.2491,  0.2082,  ...,  0.0518,  0.1695, -0.1341],\n",
      "         [-0.3097, -0.2213,  0.4043,  ..., -0.0817,  0.1876,  0.2946],\n",
      "         [ 0.0502,  0.0545,  0.1801,  ...,  0.1144,  0.3005, -0.1983]],\n",
      "\n",
      "        [[-0.1406, -0.0541,  0.2994,  ...,  0.0719,  0.2473, -0.1145],\n",
      "         [-0.2285, -0.1410,  0.2427,  ...,  0.1760,  0.0016, -0.0553],\n",
      "         [-0.0544, -0.0253,  0.1041,  ...,  0.0328,  0.3022, -0.0390],\n",
      "         ...,\n",
      "         [-0.0774,  0.0023,  0.2654,  ..., -0.1173,  0.2684, -0.2245],\n",
      "         [-0.2389, -0.1749,  0.3174,  ..., -0.0873,  0.0908,  0.1823],\n",
      "         [ 0.1012,  0.1813,  0.0523,  ...,  0.2799,  0.2723, -0.2843]]],\n",
      "       grad_fn=<ViewBackward0>)\n"
     ]
    }
   ],
   "source": [
    "# Example\n",
    "\n",
    "multihead_attention = MultiHeadAttentionModule(EMBED_DIM, NUM_HEADS) # EMBED_DIM*2 if using concatenation\n",
    "attn_output, attn_weights = multihead_attention(space_time, space_time, space_time)\n",
    "\n",
    "print(\"Self Attention:\", attn_output.shape) # [seq_size, batch_size, (space embed_dim + time embed_dim)]\n",
    "print(attn_output)"
   ]
  },
  {
   "cell_type": "markdown",
   "id": "479f1973",
   "metadata": {},
   "source": [
    "## Transformer Block"
   ]
  },
  {
   "cell_type": "code",
   "execution_count": 114,
   "id": "cd610aac",
   "metadata": {},
   "outputs": [],
   "source": [
    "class TransformerBlock(nn.Module):\n",
    "    def __init__(self, embed_dim, num_heads, dropout, forward_expansion):\n",
    "        super(TransformerBlock, self).__init__()\n",
    "        \n",
    "        # Attention Layer\n",
    "        self.attention = MultiHeadAttentionModule(embed_dim, num_heads)\n",
    "        \n",
    "        # Normalization\n",
    "        self.norm1 = nn.LayerNorm(embed_dim)\n",
    "        \n",
    "        # Feed-Forward\n",
    "        self.feed_forward = nn.Sequential(\n",
    "            nn.Linear(embed_dim, forward_expansion * embed_dim), \n",
    "            nn.ReLU(),\n",
    "            nn.Linear(forward_expansion * embed_dim, embed_dim)\n",
    "        )\n",
    "        \n",
    "        # Normalization\n",
    "        self.norm2 = nn.LayerNorm(embed_dim)\n",
    "        \n",
    "        self.dropout = nn.Dropout(dropout)\n",
    "        \n",
    "    def forward(self, query, key, value):\n",
    "        attn_output, attn_weights = self.attention(query, key, value)\n",
    "        x = self.dropout(self.norm1(attn_output + query))\n",
    "        forward = self.feed_forward(x)\n",
    "        out = self.dropout(self.norm2(forward + x))\n",
    "        \n",
    "        return out"
   ]
  },
  {
   "cell_type": "markdown",
   "id": "5caaebd7",
   "metadata": {},
   "source": [
    "# Encoder"
   ]
  },
  {
   "cell_type": "code",
   "execution_count": 115,
   "id": "b60906f0",
   "metadata": {},
   "outputs": [],
   "source": [
    "class Encoder(nn.Module):\n",
    "    def __init__(self, \n",
    "                 loc_size, \n",
    "                 time_size, \n",
    "                 embed_dim, \n",
    "                 num_layers, \n",
    "                 num_heads, \n",
    "                 device, \n",
    "                 forward_expansion, \n",
    "                 dropout):\n",
    "        \n",
    "        super(Encoder, self).__init__()\n",
    "        self.embed_dim = embed_dim\n",
    "        self.device = device\n",
    "        \n",
    "        self.input_embedding = InputEmbedding(loc_size, embed_dim).to(device)\n",
    "        self.position_embedding = nn.Embedding(time_size, embed_dim).to(device)\n",
    "        self.positional_encoding = PositionalEncoding(time_size, embed_dim, dropout).to(device)\n",
    "        \n",
    "        self.layers = nn.ModuleList([\n",
    "            TransformerBlock(\n",
    "                embed_dim,\n",
    "                num_heads,\n",
    "                dropout=dropout,\n",
    "                forward_expansion=forward_expansion\n",
    "            ) for _ in range(num_layers)\n",
    "        ])\n",
    "        \n",
    "        self.dropout = nn.Dropout(dropout)\n",
    "        \n",
    "    def forward(self, inputs, positions):\n",
    "        # Input Embedding\n",
    "        space = self.input_embedding(inputs) # Shape [seq_len, batch_size, embed_dim]\n",
    "\n",
    "        # Positional Encoding\n",
    "        positions = self.position_embedding(positions) \n",
    "        time = self.positional_encoding(positions) # Shape [seq_len, batch_size, embed_dim]\n",
    "\n",
    "        # Concatenation\n",
    "        # out = torch.cat((space, time), dim=2)\n",
    "        \n",
    "        # Addition\n",
    "        out = space + time\n",
    "\n",
    "        # Transformer Block = Multi-Head Attention + Norm + Feed Forward + Norm\n",
    "        for layer in self.layers:\n",
    "            out = layer(out, out, out)\n",
    "\n",
    "        return out"
   ]
  },
  {
   "cell_type": "markdown",
   "id": "07894ebf",
   "metadata": {},
   "source": [
    "# Decoder (Debugging)"
   ]
  },
  {
   "cell_type": "markdown",
   "id": "9373217c",
   "metadata": {},
   "source": [
    "**Input** to the Decoder:\n",
    "\n",
    "**During Training**: The decoder receives the correct labels as input. This is usually shifted right (i.e., the input begins with a start token and all elements are the target sequence excluding the last token), encouraging the model to predict the next token in the sequence.\n",
    "\n",
    "**During Inference**: The decoder starts with a start token and generates each subsequent token based on the previously generated tokens.\n",
    "\n",
    "The decoder uses the outputs from the encoder to help guide the generation of the output sequence.\n",
    "\n",
    "The decoder should output logits for each token in the sequence, which can be converted into probabilities using softmax for each possible token in the label space."
   ]
  },
  {
   "cell_type": "code",
   "execution_count": 163,
   "id": "0201e0c6",
   "metadata": {},
   "outputs": [
    {
     "name": "stdout",
     "output_type": "stream",
     "text": [
      "Input Embedding: torch.Size([50, 64])\n",
      "Positional Encoding: torch.Size([50, 50, 64])\n",
      "Added Shape: torch.Size([50, 50, 64])\n"
     ]
    }
   ],
   "source": [
    "input_embedding_layer = InputEmbedding(40000, EMBED_DIM) # max_len, embedding_dim\n",
    "position_embedding_layer = nn.Embedding(3600, EMBED_DIM) # max_len, embedding_dim\n",
    "positional_encoding = PositionalEncoding(3600, EMBED_DIM, 0.1) # max_len, embedding_dim, dropout\n",
    "\n",
    "space_time = torch.tensor([])\n",
    "\n",
    "for inputs, labels, positions, label_positions in test_dataloader:\n",
    "    # Input Embedding\n",
    "    space = input_embedding_layer(labels)\n",
    "    \n",
    "    # Positional Encoding\n",
    "    positions = position_embedding_layer(label_positions)\n",
    "    time = positional_encoding(positions)\n",
    "    \n",
    "    # Display shapes\n",
    "    print(\"Input Embedding:\", space.shape) # [seq_size, batch_size, embed_dim]\n",
    "    print(\"Positional Encoding:\", time.shape)\n",
    "    \n",
    "    # Concatenation\n",
    "    # space_time = torch.cat((space, time), dim=2)\n",
    "    \n",
    "    # Addition\n",
    "    space_time = space + time\n",
    "    print(\"Added Shape:\", space_time.shape)\n",
    "\n",
    "    break"
   ]
  },
  {
   "cell_type": "code",
   "execution_count": 127,
   "id": "1d304045",
   "metadata": {},
   "outputs": [],
   "source": [
    "class DecoderBlock(nn.Module):\n",
    "    def __init__(self, embed_dim, num_heads, dropout, forward_expansion, device):\n",
    "        super(DecoderBlock, self).__init__()\n",
    "        self.attention = MultiHeadAttentionModule(embed_dim, num_heads)\n",
    "        self.norm = nn.LayerNorm(embed_dim)\n",
    "        self.transformer_block = TransformerBlock(embed_dim, num_heads, dropout, forward_expansion)\n",
    "        self.dropout = nn.Dropout(dropout)\n",
    "        \n",
    "    def forward(self, x, value, key):\n",
    "        attention = self.attention(x,x,x)\n",
    "        query = self.dropout(self.norm(attention+x))\n",
    "        out = self.transformer_block(query, key, value)\n",
    "        \n",
    "        return out"
   ]
  },
  {
   "cell_type": "code",
   "execution_count": 133,
   "id": "d340e4e8",
   "metadata": {},
   "outputs": [],
   "source": [
    "class Decoder(nn.Module):\n",
    "    def __init__(self, \n",
    "                 loc_size, \n",
    "                 time_size, \n",
    "                 embed_dim, \n",
    "                 num_layers, \n",
    "                 num_heads, \n",
    "                 device, \n",
    "                 forward_expansion, \n",
    "                 dropout):\n",
    "        \n",
    "        super(Decoder, self).__init__()\n",
    "        self.embed_dim = embed_dim\n",
    "        self.device = device\n",
    "        \n",
    "        self.input_embedding = InputEmbedding(loc_size, embed_dim).to(device)\n",
    "        self.position_embedding = nn.Embedding(time_size, embed_dim).to(device)\n",
    "        self.positional_encoding = PositionalEncoding(time_size, embed_dim, dropout).to(device)\n",
    "        \n",
    "        self.layers = nn.ModuleList([\n",
    "            DecoderBlock(\n",
    "                embed_dim,\n",
    "                num_heads,\n",
    "                dropout=dropout,\n",
    "                forward_expansion=forward_expansion,\n",
    "                device=device\n",
    "            ) for _ in range(num_layers)\n",
    "        ])\n",
    "        \n",
    "        self.fc_out = nn.Linear(embed_dim, loc_size)\n",
    "        self.dropout = nn.Dropout(dropout)\n",
    "        \n",
    "    def forward(self, output, output_position, enc_out):\n",
    "        space = self.input_embedding(output)\n",
    "        positions = self.position_embedding(output_position)\n",
    "        time = self.positional_encoding(positions)\n",
    "        \n",
    "        # Concatenation\n",
    "        # out = torch.cat((space, time), dim=2)\n",
    "        \n",
    "        # Addition\n",
    "        out = space + time\n",
    "\n",
    "        for layer in self.layers:\n",
    "            out = layer(enc_out, enc_out, out) # query, key, value\n",
    "\n",
    "        out = self.fc_out(x)\n",
    "        \n",
    "        return out"
   ]
  },
  {
   "cell_type": "markdown",
   "id": "30859926",
   "metadata": {},
   "source": [
    "# Training"
   ]
  },
  {
   "cell_type": "code",
   "execution_count": 121,
   "id": "4307bf29",
   "metadata": {},
   "outputs": [],
   "source": [
    "# Model parameters\n",
    "\n",
    "BATCH_SIZE = 50\n",
    "EMBED_DIM = 64\n",
    "NUM_HEADS = 8\n",
    "NUM_LAYERS = 8\n",
    "LOC_SIZE = 200*200\n",
    "TIME_SIZE = 3600\n",
    "FORWARD_EXPANSION = 4\n",
    "DROPOUT = 0.1\n",
    "\n",
    "device = torch.device(\"cuda\" if torch.cuda.is_available() else \"cpu\")\n",
    "\n",
    "# Initialize the model\n",
    "model = Encoder(loc_size=LOC_SIZE, \n",
    "                time_size=TIME_SIZE, \n",
    "                embed_dim=EMBED_DIM, \n",
    "                num_layers=NUM_LAYERS, \n",
    "                num_heads=NUM_HEADS, \n",
    "                device=device, \n",
    "                forward_expansion=FORWARD_EXPANSION, \n",
    "                dropout=DROPOUT)\n",
    "\n",
    "model = model.to(device)\n",
    "\n",
    "# Loss function\n",
    "# criterion = nn.MSELoss()\n",
    "criterion = nn.CrossEntropyLoss()\n",
    "\n",
    "# Optimizer\n",
    "optimizer = optim.Adam(model.parameters(), lr=0.001)"
   ]
  },
  {
   "cell_type": "markdown",
   "id": "77deb3d3",
   "metadata": {},
   "source": [
    "#### Haven't had a Decoder yet"
   ]
  },
  {
   "cell_type": "code",
   "execution_count": 124,
   "id": "0f1a59fa",
   "metadata": {},
   "outputs": [],
   "source": [
    "def train(model, dataloader, criterion, optimizer, num_epochs):\n",
    "    model.train()\n",
    "    for epoch in range(num_epochs):\n",
    "        total_loss = 0\n",
    "        for inputs, labels, positions in dataloader:\n",
    "            inputs, labels, positions = inputs.to(device), labels.to(device), positions.to(device)\n",
    "\n",
    "            # Forward pass\n",
    "            outputs = model(inputs, positions)  # Shape [seq_len, batch_size, loc_size]\n",
    "            outputs = outputs.view(-1, LOC_SIZE)  # Reshape for loss calculation\n",
    "            labels = labels.view(-1)  # Adjust labels shape to fit loss function requirements\n",
    "\n",
    "            loss = criterion(outputs, labels)\n",
    "\n",
    "            # Backward pass and optimization\n",
    "            optimizer.zero_grad()f\n",
    "            loss.backward()\n",
    "            optimizer.step()\n",
    "\n",
    "            total_loss += loss.item()\n",
    "\n",
    "        print(f'Epoch {epoch+1}, Loss: {total_loss / len(dataloader)}')\n",
    "\n",
    "train(model, test_dataloader, criterion, optimizer, num_epochs=3)"
   ]
  }
 ],
 "metadata": {
  "kernelspec": {
   "display_name": "Python 3 (ipykernel)",
   "language": "python",
   "name": "python3"
  },
  "language_info": {
   "codemirror_mode": {
    "name": "ipython",
    "version": 3
   },
   "file_extension": ".py",
   "mimetype": "text/x-python",
   "name": "python",
   "nbconvert_exporter": "python",
   "pygments_lexer": "ipython3",
   "version": "3.11.4"
  }
 },
 "nbformat": 4,
 "nbformat_minor": 5
}
