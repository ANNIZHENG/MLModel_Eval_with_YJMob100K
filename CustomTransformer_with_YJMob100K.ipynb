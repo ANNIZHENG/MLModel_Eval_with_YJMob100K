{
 "cells": [
  {
   "cell_type": "markdown",
   "id": "0051dc88",
   "metadata": {},
   "source": [
    "**Dataset**: https://www.nature.com/articles/s41597-024-03237-9\n",
    "\n",
    "**Encoder and Decoder Reference**: https://www.youtube.com/watch?v=U0s0f995w14"
   ]
  },
  {
   "cell_type": "markdown",
   "id": "74aad1bf",
   "metadata": {},
   "source": [
    "# Import Libraries"
   ]
  },
  {
   "cell_type": "code",
   "execution_count": 1,
   "id": "d158f4ba",
   "metadata": {},
   "outputs": [],
   "source": [
    "import pandas as pd\n",
    "import numpy as np\n",
    "import matplotlib.pyplot as plt\n",
    "import torch\n",
    "import torch.nn as nn\n",
    "from torch.optim import Adam\n",
    "from torch.utils.data import Dataset, DataLoader"
   ]
  },
  {
   "cell_type": "markdown",
   "id": "ce5cd55f",
   "metadata": {},
   "source": [
    "# Import Data"
   ]
  },
  {
   "cell_type": "code",
   "execution_count": 2,
   "id": "a24ce079",
   "metadata": {},
   "outputs": [],
   "source": [
    "# 1k\n",
    "df_train = pd.read_csv('df_train_1k.csv')\n",
    "df_test = pd.read_csv('df_test_1k.csv')\n",
    "\n",
    "# 10k\n",
    "# df_train = pd.read_csv('df_train.csv')\n",
    "# df_test = pd.read_csv('df_test.csv')"
   ]
  },
  {
   "cell_type": "markdown",
   "id": "1fdfd0c9",
   "metadata": {},
   "source": [
    "## Batching"
   ]
  },
  {
   "cell_type": "code",
   "execution_count": 3,
   "id": "b8e8b316",
   "metadata": {},
   "outputs": [],
   "source": [
    "# Group data by uid\n",
    "grouped_data_train = [group for _, group in df_train.groupby('uid')]\n",
    "grouped_data_test = [group for _, group in df_test.groupby('uid')]"
   ]
  },
  {
   "cell_type": "code",
   "execution_count": 4,
   "id": "7983925d",
   "metadata": {},
   "outputs": [],
   "source": [
    "STEP_SIZE = 12\n",
    "WINDOW_SIZE = 10\n",
    "\n",
    "# Sliding window by 1 STEP\n",
    "class TrajectoryDataset(Dataset):\n",
    "    def __init__(self, grouped_data):\n",
    "        self.data = []\n",
    "        for group in grouped_data:\n",
    "            if len(group) >= STEP_SIZE:\n",
    "                # get the first STEP_SIZE location and time data\n",
    "                xy = group['combined_xy'].values.tolist()[:STEP_SIZE]\n",
    "                t = group['t'].values.tolist()[:STEP_SIZE]\n",
    "                # slice the data into several sessions using moving window approach\n",
    "                self.data.extend([(xy[i:i+WINDOW_SIZE], t[i:i+WINDOW_SIZE]) \n",
    "                                  for i in range(STEP_SIZE-WINDOW_SIZE+1)])\n",
    "    \n",
    "    def __len__(self):\n",
    "        return len(self.data)\n",
    "    def __getitem__(self, idx):\n",
    "        xy_window, t_window = self.data[idx]\n",
    "        inputs = torch.tensor(xy_window[:-1]) # input sequence of locations\n",
    "        labels = torch.tensor(xy_window[-1]) # desired predicted location\n",
    "        positions = torch.tensor(t_window[:-1]) # corresponding input locations' times\n",
    "        label_positions = torch.tensor(t_window[-1]) # corresponding predicted location's time\n",
    "        return inputs, labels, positions, label_positions"
   ]
  },
  {
   "cell_type": "code",
   "execution_count": 5,
   "id": "b402cb00",
   "metadata": {},
   "outputs": [],
   "source": [
    "STEP_SIZE = 20\n",
    "WINDOW_SIZE = 10\n",
    "\n",
    "# Sliding window by STEP_SIZE\n",
    "class TrajectoryDatasetTEST(Dataset):\n",
    "    def __init__(self, grouped_data):\n",
    "        self.data = []\n",
    "        for group in grouped_data:\n",
    "            if len(group) >= STEP_SIZE:\n",
    "                # get the first STEP_SIZE location and time data\n",
    "                xy = group['combined_xy'].values.tolist()[:STEP_SIZE]\n",
    "                t = group['t'].values.tolist()[:STEP_SIZE]\n",
    "                # slice the data into several sessions using moving window approach\n",
    "                self.data.extend([(xy[i:i+WINDOW_SIZE], t[i:i+WINDOW_SIZE])\n",
    "                                  for i in range(0, STEP_SIZE-WINDOW_SIZE+1, STEP_SIZE)])\n",
    "    def __len__(self):\n",
    "        return len(self.data)\n",
    "    def __getitem__(self, idx):\n",
    "        xy_window, t_window = self.data[idx]\n",
    "        inputs = torch.tensor(xy_window[:-1])        # input sequence of locations\n",
    "        labels = torch.tensor(xy_window[-1])         # desired predicted location\n",
    "        positions = torch.tensor(t_window[:-1])      # corresponding input locations' times\n",
    "        label_positions = torch.tensor(t_window[-1]) # corresponding predicted location's time\n",
    "        return inputs, labels, positions, label_positions"
   ]
  },
  {
   "cell_type": "code",
   "execution_count": 6,
   "id": "5c23696e",
   "metadata": {},
   "outputs": [],
   "source": [
    "train_dataset = TrajectoryDataset(grouped_data_train)\n",
    "test_dataset = TrajectoryDatasetTEST(grouped_data_test)"
   ]
  },
  {
   "cell_type": "code",
   "execution_count": 7,
   "id": "2b99bfd3",
   "metadata": {},
   "outputs": [],
   "source": [
    "def collate_fn(batch):\n",
    "    # Unzip all batch\n",
    "    inputs_batch, labels_batch, positions_batch, label_positions_batch = zip(*batch)\n",
    "    # Pad the sequence with less length in a batch\n",
    "    inputs_padded = torch.nn.utils.rnn.pad_sequence(inputs_batch, padding_value=0.0, batch_first=True) \n",
    "    labels_padded = torch.tensor(np.array(labels_batch))\n",
    "    positions_padded = torch.nn.utils.rnn.pad_sequence(positions_batch, padding_value=0, batch_first=True) \n",
    "    label_positions_padded = torch.tensor(np.array(label_positions_batch))\n",
    "    return inputs_padded, labels_padded, positions_padded, label_positions_padded"
   ]
  },
  {
   "cell_type": "code",
   "execution_count": 8,
   "id": "534e616b",
   "metadata": {},
   "outputs": [],
   "source": [
    "BATCH_SIZE = (len(train_dataset) // len(grouped_data_train)) * 10  # 10 ppl in a batch"
   ]
  },
  {
   "cell_type": "code",
   "execution_count": 9,
   "id": "d96aedf1",
   "metadata": {},
   "outputs": [],
   "source": [
    "train_dataloader = DataLoader(train_dataset, batch_size=BATCH_SIZE, shuffle=True, collate_fn=collate_fn)\n",
    "test_dataloader = DataLoader(test_dataset, batch_size=BATCH_SIZE, shuffle=True, collate_fn=collate_fn)"
   ]
  },
  {
   "cell_type": "markdown",
   "id": "76666eec",
   "metadata": {},
   "source": [
    "# Transformer"
   ]
  },
  {
   "cell_type": "markdown",
   "id": "d93c5203",
   "metadata": {},
   "source": [
    "## Input Embedding and Positional Encoding\n",
    "\n",
    "https://pytorch.org/tutorials/beginner/transformer_tutorial.html#load-and-batch-data"
   ]
  },
  {
   "cell_type": "code",
   "execution_count": 10,
   "id": "f93959c1",
   "metadata": {},
   "outputs": [],
   "source": [
    "# Time - Positional Encoding = Time Embedding + Sequential Encoding\n",
    "\n",
    "class PositionalEncoding(nn.Module):\n",
    "    def __init__(self, max_len, embedding_dim):\n",
    "        super(PositionalEncoding, self).__init__()\n",
    "        self.embedding_dim = embedding_dim\n",
    "        self.dropout = nn.Dropout(p=0.1)\n",
    "        position = torch.arange(max_len).unsqueeze(1)\n",
    "        div_term = torch.exp(torch.arange(0, embedding_dim, 2) * (-np.log(10000.0) / embedding_dim))\n",
    "        pe = torch.zeros(max_len, 1, embedding_dim)\n",
    "        pe[:, 0, 0::2] = torch.sin(position.float() * div_term)\n",
    "        pe[:, 0, 1::2] = torch.cos(position.float() * div_term)\n",
    "        self.register_buffer('pe', pe)\n",
    "    \n",
    "    def forward(self, x):\n",
    "        x = x + self.pe[:x.size(1)].squeeze(1)\n",
    "        return self.dropout(x)"
   ]
  },
  {
   "cell_type": "markdown",
   "id": "f54962ea",
   "metadata": {},
   "source": [
    "## Self-Attention"
   ]
  },
  {
   "cell_type": "code",
   "execution_count": 11,
   "id": "e133b7fb",
   "metadata": {},
   "outputs": [],
   "source": [
    "NUM_HEADS = 8"
   ]
  },
  {
   "cell_type": "code",
   "execution_count": 12,
   "id": "f3f8a987",
   "metadata": {},
   "outputs": [],
   "source": [
    "class MultiHeadAttentionModule(nn.Module):\n",
    "    def __init__(self, embed_dim, num_heads, dropout_rate):\n",
    "        super(MultiHeadAttentionModule, self).__init__()\n",
    "        self.multihead_attn = nn.MultiheadAttention(embed_dim, num_heads)\n",
    "        self.dropout = nn.Dropout(dropout_rate)\n",
    "\n",
    "    def forward(self, query, key, value, attn_mask=None, key_padding_mask=None, need_weights=True):\n",
    "        # Transpose from [batch size, seq length, embed dim] to [seq length, batch size, embed dim]\n",
    "        query = query.transpose(0, 1)\n",
    "        key = key.transpose(0, 1)\n",
    "        value = value.transpose(0, 1)\n",
    "        \n",
    "        # Apply multihead attention\n",
    "        attn_output, attn_output_weights = self.multihead_attn(query, key, value, attn_mask=attn_mask)\n",
    "        attn_output = self.dropout(attn_output)\n",
    "        return attn_output.transpose(0, 1)"
   ]
  },
  {
   "cell_type": "markdown",
   "id": "479f1973",
   "metadata": {},
   "source": [
    "## Transformer Block"
   ]
  },
  {
   "cell_type": "code",
   "execution_count": 13,
   "id": "cd610aac",
   "metadata": {},
   "outputs": [],
   "source": [
    "class TransformerBlock(nn.Module):\n",
    "    def __init__(self, embed_dim, num_heads, forward_expansion, dropout_rate):\n",
    "        super(TransformerBlock, self).__init__()\n",
    "        \n",
    "        # Attention Layer\n",
    "        self.attention = MultiHeadAttentionModule(embed_dim, num_heads, dropout_rate)\n",
    "        \n",
    "        # Normalization 1 \n",
    "        self.norm1 = nn.LayerNorm(embed_dim)\n",
    "        \n",
    "        # Feed-Forward\n",
    "        self.feed_forward = nn.Sequential(\n",
    "            nn.Linear(embed_dim, forward_expansion * embed_dim), \n",
    "            nn.ReLU(),\n",
    "            nn.Linear(forward_expansion * embed_dim, embed_dim)\n",
    "        )\n",
    "        \n",
    "        # Normalization 2\n",
    "        self.norm2 = nn.LayerNorm(embed_dim)\n",
    "        \n",
    "        # Dropout\n",
    "        self.dropout = nn.Dropout(dropout_rate)\n",
    "        \n",
    "    def forward(self, query, key, value):\n",
    "        attn_output = self.attention(query, key, value)\n",
    "        x = self.norm1(attn_output + query)\n",
    "        forward = self.feed_forward(x)\n",
    "        out = self.norm2(self.dropout(forward + x))\n",
    "        return out"
   ]
  },
  {
   "cell_type": "markdown",
   "id": "5caaebd7",
   "metadata": {},
   "source": [
    "# Encoder"
   ]
  },
  {
   "cell_type": "code",
   "execution_count": 14,
   "id": "b60906f0",
   "metadata": {},
   "outputs": [],
   "source": [
    "class Encoder(nn.Module):\n",
    "    def __init__(self, loc_size, time_size, embed_dim, num_layers, num_heads, device, \n",
    "                 forward_expansion, dropout_rate):\n",
    "        super(Encoder, self).__init__()\n",
    "        self.embed_dim = embed_dim\n",
    "        self.device = device\n",
    "        \n",
    "        self.input_embedding = nn.Embedding(loc_size, embed_dim).to(device)\n",
    "        self.position_embedding = nn.Embedding(time_size, embed_dim).to(device)\n",
    "        self.positional_encoding = PositionalEncoding(time_size, embed_dim).to(device)\n",
    "        \n",
    "        self.layers = nn.ModuleList([\n",
    "            TransformerBlock(\n",
    "                embed_dim,\n",
    "                num_heads,\n",
    "                forward_expansion=forward_expansion,\n",
    "                dropout_rate=dropout_rate\n",
    "            ) for _ in range(num_layers)\n",
    "        ])\n",
    "        \n",
    "    def forward(self, inputs, positions):\n",
    "        # Input Embedding\n",
    "        space = self.input_embedding(inputs)\n",
    "\n",
    "        # Positional Encoding\n",
    "        positions = self.position_embedding(positions) \n",
    "        time = self.positional_encoding(positions)\n",
    "        \n",
    "        # Addition\n",
    "        out = space + time\n",
    "\n",
    "        # Transformer Block = Multi-Head Attention + Norm + Feed Forward + Norm\n",
    "        for layer in self.layers:\n",
    "            out = layer(out, out, out)\n",
    "        return out"
   ]
  },
  {
   "cell_type": "markdown",
   "id": "07894ebf",
   "metadata": {},
   "source": [
    "# Decoder"
   ]
  },
  {
   "cell_type": "code",
   "execution_count": 15,
   "id": "1d304045",
   "metadata": {},
   "outputs": [],
   "source": [
    "class DecoderBlock(nn.Module):\n",
    "    def __init__(self, embed_dim, num_heads, forward_expansion, device, dropout_rate): \n",
    "        super(DecoderBlock, self).__init__()\n",
    "        self.attention = MultiHeadAttentionModule(embed_dim, num_heads, dropout_rate)\n",
    "        self.norm = nn.LayerNorm(embed_dim)\n",
    "        self.transformer_block = TransformerBlock(embed_dim, num_heads, forward_expansion, dropout_rate)\n",
    "        \n",
    "    def forward(self, x, key, value, attn_mask=None):\n",
    "        attention = self.attention(x,key,value,attn_mask) \n",
    "        query = self.norm(attention + x)\n",
    "        out = self.transformer_block(query, key, value)\n",
    "        \n",
    "        return out"
   ]
  },
  {
   "cell_type": "code",
   "execution_count": 16,
   "id": "d340e4e8",
   "metadata": {},
   "outputs": [],
   "source": [
    "class Decoder(nn.Module):\n",
    "    def __init__(self, loc_size, time_size, embed_dim, num_layers, num_heads, \n",
    "                 device, forward_expansion, dropout_rate):\n",
    "        super(Decoder, self).__init__()\n",
    "        self.embed_dim = embed_dim\n",
    "        self.device = device\n",
    "        self.input_embedding = nn.Embedding(loc_size, embed_dim).to(device)\n",
    "        self.position_embedding = nn.Embedding(time_size, embed_dim).to(device)\n",
    "        self.positional_encoding = PositionalEncoding(time_size, embed_dim).to(device)\n",
    "        self.layers = nn.ModuleList([\n",
    "            DecoderBlock(\n",
    "                embed_dim,\n",
    "                num_heads,\n",
    "                forward_expansion=forward_expansion,\n",
    "                device=device,\n",
    "                dropout_rate=dropout_rate\n",
    "            ) for _ in range(num_layers)\n",
    "        ])\n",
    "        self.fc_out = nn.Linear(embed_dim, loc_size)\n",
    "        \n",
    "    def forward(self, output, output_position, enc_out):\n",
    "        space = self.input_embedding(output.unsqueeze(1))\n",
    "        positions = self.position_embedding(output_position.unsqueeze(1))\n",
    "        time = self.positional_encoding(positions)\n",
    "        out = space + time\n",
    "        for layer in self.layers:\n",
    "            out = layer(out, enc_out, enc_out, attn_mask=None)\n",
    "        out = self.fc_out(out)\n",
    "        return out"
   ]
  },
  {
   "cell_type": "markdown",
   "id": "4efac42b",
   "metadata": {},
   "source": [
    "# Transformer Training Block"
   ]
  },
  {
   "cell_type": "code",
   "execution_count": 17,
   "id": "bfeb774e",
   "metadata": {},
   "outputs": [],
   "source": [
    "class Transformer(nn.Module):\n",
    "    def __init__(self, loc_size, time_size, embed_dim, num_layers, num_heads, \n",
    "                 device, forward_expansion, dropout_rate):\n",
    "        super(Transformer, self).__init__()\n",
    "        \n",
    "        self.encoder = Encoder(loc_size, time_size, embed_dim, \n",
    "                               num_layers, num_heads, device, forward_expansion, dropout_rate)\n",
    "        self.decoder = Decoder(loc_size, time_size, embed_dim, \n",
    "                               num_layers, num_heads, device, forward_expansion, dropout_rate)\n",
    "        self.device = device\n",
    "    \n",
    "    def forward(self, src_seq, src_pos, trg_seq, trg_pos):\n",
    "        # Encode Source\n",
    "        enc_out = self.encoder(src_seq, src_pos)\n",
    "        # Decode target\n",
    "        dec_out = self.decoder(trg_seq, trg_pos, enc_out)\n",
    "        return dec_out"
   ]
  },
  {
   "cell_type": "markdown",
   "id": "30859926",
   "metadata": {},
   "source": [
    "# Training"
   ]
  },
  {
   "cell_type": "code",
   "execution_count": 18,
   "id": "908a0aa8",
   "metadata": {},
   "outputs": [],
   "source": [
    "def train(model, dataloader, device, learning_rate):\n",
    "    model.train()\n",
    "    criterion = nn.CrossEntropyLoss()\n",
    "    optimizer = Adam(model.parameters(), lr=learning_rate)\n",
    "    \n",
    "    total_loss = 0.0\n",
    "    total_correct = 0\n",
    "    total_samples = 0\n",
    "    \n",
    "    for inputs, labels, positions, label_positions in dataloader:\n",
    "        inputs, labels = inputs.to(device), labels.to(device)\n",
    "        positions, label_positions = positions.to(device), label_positions.to(device)\n",
    "        \n",
    "        optimizer.zero_grad()\n",
    "        outputs = model(inputs, positions, labels, label_positions)\n",
    "        loss = criterion(outputs.view(-1, outputs.size(-1)), labels.view(-1))\n",
    "        total_loss += loss.item()\n",
    "        \n",
    "        loss.backward()\n",
    "        optimizer.step()\n",
    "        \n",
    "        _, predicted = outputs.max(2)  # Get the index of the max log-probability\n",
    "        total_correct += (predicted.squeeze() == labels).sum().item()\n",
    "        total_samples += labels.numel()\n",
    "    \n",
    "    avg_loss = total_loss / len(dataloader)\n",
    "    accuracy = total_correct / total_samples\n",
    "    \n",
    "    return avg_loss, accuracy"
   ]
  },
  {
   "cell_type": "code",
   "execution_count": 19,
   "id": "60305430",
   "metadata": {},
   "outputs": [],
   "source": [
    "def train_model(model, dataloader, device, epochs, learning_rate):\n",
    "    for epoch in range(epochs):\n",
    "        avg_loss, accuracy = train(model, dataloader, device, learning_rate)\n",
    "        print(f\"Epoch {epoch}, Average Loss: {avg_loss}, Accuracy: {accuracy}\")"
   ]
  },
  {
   "cell_type": "code",
   "execution_count": 20,
   "id": "b18c3c6b",
   "metadata": {
    "scrolled": true
   },
   "outputs": [
    {
     "name": "stdout",
     "output_type": "stream",
     "text": [
      "Epoch 0, Average Loss: 9.637959599494934, Accuracy: 0.029542602942853883\n",
      "Epoch 1, Average Loss: 6.492372757196426, Accuracy: 0.28709934983460705\n",
      "Epoch 2, Average Loss: 4.158621057868004, Accuracy: 0.560625071290065\n",
      "Epoch 3, Average Loss: 2.796042537689209, Accuracy: 0.7118740732291547\n",
      "Epoch 4, Average Loss: 2.0145944237709044, Accuracy: 0.7999315615375842\n"
     ]
    }
   ],
   "source": [
    "device = torch.device(\"cuda\" if torch.cuda.is_available() else \"cpu\")\n",
    "EPOCH_NUM = 5\n",
    "transformer = Transformer(loc_size=40000, \n",
    "                          time_size=48,\n",
    "                          embed_dim=256,\n",
    "                          num_layers=1,\n",
    "                          num_heads=8,\n",
    "                          device=device,\n",
    "                          forward_expansion=4,\n",
    "                          dropout_rate=0.1)\n",
    "transformer.to(device)\n",
    "train_model(transformer, train_dataloader, device, epochs=EPOCH_NUM, learning_rate=0.0013)"
   ]
  },
  {
   "cell_type": "markdown",
   "id": "17721bdf",
   "metadata": {},
   "source": [
    "```\n",
    "# 10k, 2 epochs, top 5\n",
    "Epoch 0, Average Loss: 1.5751103802556257, Accuracy: 0.863751992964745\n",
    "Epoch 1, Average Loss: 0.08293261576167783, Accuracy: 0.993369415230183\n",
    "\n",
    "# 10k, 5 epochs, top 1\n",
    "Epoch 0, Average Loss: 1.573257562640197, Accuracy: 0.8637477031751593\n",
    "Epoch 1, Average Loss: 0.101435334328668, Accuracy: 0.9920367205988546\n",
    "Epoch 2, Average Loss: 0.05888075280164929, Accuracy: 0.9946735112642725\n",
    "Epoch 3, Average Loss: 0.07398579044541391, Accuracy: 0.9936196529560225\n",
    "Epoch 4, Average Loss: 0.12035591126947484, Accuracy: 0.9897931606454703\n",
    "\n",
    "# 1k, 2 epochs, top 1\n",
    "Epoch 0, Average Loss: 7.268777912855148, Accuracy: 0.27751044438622857\n",
    "Epoch 1, Average Loss: 2.5327855929732324, Accuracy: 0.7864657300039986\n",
    "```"
   ]
  },
  {
   "cell_type": "markdown",
   "id": "ed00718a",
   "metadata": {},
   "source": [
    "# Inference"
   ]
  },
  {
   "cell_type": "code",
   "execution_count": 21,
   "id": "3ba173ea",
   "metadata": {},
   "outputs": [],
   "source": [
    "import torch.nn.functional as F"
   ]
  },
  {
   "cell_type": "code",
   "execution_count": 22,
   "id": "4e810604",
   "metadata": {},
   "outputs": [],
   "source": [
    "def evaluate_model_with_top_k(model, dataloader, device, k):\n",
    "    model.eval()\n",
    "    total_correct = 0\n",
    "    total_examples = 0\n",
    "    \n",
    "    with torch.no_grad():\n",
    "        for inputs, labels, positions, label_positions in dataloader:\n",
    "            inputs = inputs.to(device)\n",
    "            labels = labels.to(device)\n",
    "            positions = positions.to(device)\n",
    "            label_positions = label_positions.to(device)\n",
    "            \n",
    "            logits = model(inputs, positions, labels, label_positions)\n",
    "            \n",
    "            if (BATCH_SIZE > 1):\n",
    "                for logit_i in range(len(logits)):\n",
    "                    tolerated_acc = int(labels[logit_i] in torch.topk(logits[logit_i], k)[1])\n",
    "                    total_correct += tolerated_acc\n",
    "            else:\n",
    "                tolerated_acc = int(labels in torch.topk(logits, k)[1])\n",
    "                total_correct += tolerated_acc\n",
    "            \n",
    "            total_examples += labels.numel()\n",
    "    \n",
    "    print(f\"Batch Size: {BATCH_SIZE} Top {k} Accuracy: {total_correct/total_examples}, Num Correct: {total_correct}, Num Sample: {total_examples}\")\n",
    "    \n",
    "    return total_correct/total_examples"
   ]
  },
  {
   "cell_type": "code",
   "execution_count": 23,
   "id": "81c34d7e",
   "metadata": {},
   "outputs": [
    {
     "name": "stdout",
     "output_type": "stream",
     "text": [
      "Batch Size: 110 Top 1 Accuracy: 0.25, Num Correct: 50, Num Sample: 200\n"
     ]
    }
   ],
   "source": [
    "transformer_accuracy = evaluate_model_with_top_k(transformer, test_dataloader, device, 1)"
   ]
  },
  {
   "cell_type": "markdown",
   "id": "ed5e2f24",
   "metadata": {},
   "source": [
    "```\n",
    "# 1k, 5 epochs, top 1\n",
    "Batch Size: 110 Top 1 Accuracy: 0.25, Num Correct: 50, Num Sample: 200\n",
    "\n",
    "# 10k, 2 epochs, top 5\n",
    "Batch Size: 910 Top 5 Accuracy: 0.9818553539483772, Num Correct: 176732, Num Sample: 179998\n",
    "\n",
    "# 10k, 5 epochs, top 1\n",
    "Batch Size: 910 Top 1 Accuracy: 0.99, Num Correct: 178200, Num Sample: 179998\n",
    "```"
   ]
  },
  {
   "cell_type": "markdown",
   "id": "294a7205",
   "metadata": {},
   "source": [
    "# Visualization"
   ]
  },
  {
   "cell_type": "code",
   "execution_count": 27,
   "id": "1555b94e",
   "metadata": {},
   "outputs": [],
   "source": [
    "frequent_locations = [(152, 95), (152, 95), (152, 95), (152, 95), (152, 95), (152, 95), (152, 95), (152, 95), (178, 34), (125, 137), (158, 64), (125, 137), (152, 95), (130, 63), (129, 81), (135, 77), (135, 77), (135, 77), (135, 77), (135, 77), (135, 77), (135, 77), (135, 77), (135, 77), (135, 77), (135, 77), (135, 77), (135, 77), (135, 77), (135, 77), (135, 77), (135, 77), (135, 77), (135, 77), (135, 77), (135, 77), (135, 77), (135, 77), (135, 77), (135, 77), (135, 77), (135, 77), (135, 77), (135, 77), (135, 77), (152, 95), (152, 95), (152, 95)]"
   ]
  },
  {
   "cell_type": "code",
   "execution_count": 40,
   "id": "f383d165",
   "metadata": {},
   "outputs": [],
   "source": [
    "# extract correct or incorrect prediction for visualization\n",
    "def extract_prediction(model, dataloader, device, k, extract_correct):\n",
    "    model.eval()\n",
    "    with torch.no_grad():\n",
    "        for inputs, labels, positions, label_positions in dataloader:\n",
    "            inputs = inputs.to(device)\n",
    "            labels = labels.to(device)\n",
    "            positions = positions.to(device)\n",
    "            label_positions = label_positions.to(device)\n",
    "            \n",
    "            logits = model(inputs, positions, labels, label_positions)\n",
    "            \n",
    "            for logit_i in range(len(logits)):\n",
    "                if (extract_correct):\n",
    "                    if (int(labels[logit_i] in torch.topk(logits[logit_i], k)[1])):\n",
    "                        return inputs[logit_i].tolist(), \\\n",
    "                                labels[logit_i].item(), \\\n",
    "                                positions[logit_i].tolist(), \\\n",
    "                                label_positions[logit_i].item(), \\\n",
    "                                torch.topk(logits[logit_i], k)[1].item()\n",
    "                else:\n",
    "                    print(\"reach\")\n",
    "                    if (int(labels[logit_i] not in torch.topk(logits[logit_i], k)[1])):\n",
    "                        return inputs[logit_i].tolist(), \\\n",
    "                                labels[logit_i].item(), \\\n",
    "                                positions[logit_i].tolist(), \\\n",
    "                                label_positions[logit_i].item(), \\\n",
    "                                torch.topk(logits[logit_i], k)[1].item()"
   ]
  },
  {
   "cell_type": "code",
   "execution_count": 41,
   "id": "ff059d8b",
   "metadata": {},
   "outputs": [],
   "source": [
    "def plot_trajectory(inputs, labels, positions, label_positions, prediction, display_frequent): \n",
    "    \"\"\"\n",
    "    inputs: List<int>: trajctory of a user; a list of location-id a user has stepped through\n",
    "    labels: int: the desired location-id or the label of the model prediction\n",
    "    positions: List<int>: corresponding time recorded in each of the trajectory data above\n",
    "    label_positions: int: corresponding time of the recorded label location-id\n",
    "    prediction: int: the predicted location-id made by the model\n",
    "    display_frequent: boolean: whether or not to display the most frequently visited location\n",
    "    \"\"\"\n",
    "    \n",
    "    # Determine if the prediction is correct\n",
    "    false_prediction = True\n",
    "    if (prediction == labels): \n",
    "        false_prediction = False\n",
    "        \n",
    "    fig, ax = plt.subplots(figsize=(5,5))\n",
    "    \n",
    "    # Plot the trajectory (blue line)\n",
    "    inputs = df_train[df_train['combined_xy'].isin(inputs)] # def\n",
    "    ys = list(inputs['y'])\n",
    "    xs = list(inputs['x'])\n",
    "    ax.plot(xs, ys, label='Trajectory', linewidth=0.5)\n",
    "    ax.scatter(xs, ys)\n",
    "    \n",
    "    # # Trajectory Time Annotation\n",
    "    # for i in range(len(positions)):\n",
    "        # ax.annotate(str(positions[i]), (inputs.iloc[i]['x'], inputs.iloc[i]['y']), \n",
    "        # textcoords=\"offset points\", xytext=(0,10), ha='center')\n",
    "    \n",
    "    # Plot label (green dot)\n",
    "    df_train_labels = df_train[df_train['combined_xy']==labels].iloc[0] # def\n",
    "    labels = (df_train_labels['x'], df_train_labels['y'])\n",
    "    ax.plot(*labels,'go', label='Actual Location') \n",
    "    \n",
    "    # # Label Time Annotation\n",
    "    # ax.annotate(str(label_positions), labels, textcoords=\"offset points\", \n",
    "    # xytext=(0,10), ha='center')\n",
    "\n",
    "    # If false prediction: plot predicted location (red dot)\n",
    "    if false_prediction:\n",
    "        df_train_prediction = df_train[df_train['combined_xy']==prediction].iloc[0] # def\n",
    "        prediction = (df_train_prediction['x'], df_train_prediction['y'])\n",
    "        ax.plot(*prediction, 'ro', label='Predicted Location')\n",
    "    \n",
    "    # If request display_requent: plot frequently visited location (purple dot)\n",
    "    if display_frequent:\n",
    "        frequent = frequent_locations[label_positions]\n",
    "        ax.plot(*frequent, 'mo', label='Frequent Location')\n",
    "    \n",
    "    # # Setting up the legend and labels\n",
    "    # ax.set_xlim(0, 200)\n",
    "    # ax.set_ylim(0, 200)\n",
    "    # ax.set_xticks(range(0, 201, 1))\n",
    "    # ax.set_yticks(range(0, 201, 1))\n",
    "    ax.grid(True)\n",
    "    ax.set_xlabel('X-Coordinate')\n",
    "    ax.set_ylabel('Y-Coordinate')\n",
    "    ax.legend(loc='upper left', bbox_to_anchor=(1, 1))"
   ]
  },
  {
   "cell_type": "code",
   "execution_count": 43,
   "id": "0bd61a95",
   "metadata": {},
   "outputs": [
    {
     "name": "stdout",
     "output_type": "stream",
     "text": [
      "reach\n"
     ]
    },
    {
     "data": {
      "image/png": "[encoded data removed]",
      "text/plain": [
       "<Figure size 500x500 with 1 Axes>"
      ]
     },
     "metadata": {},
     "output_type": "display_data"
    }
   ],
   "source": [
    "inputs,labels,positions,label_positions,prediction = \\\n",
    "                extract_prediction(transformer,test_dataloader,device,1,False)\n",
    "plot_trajectory(inputs,labels,positions,label_positions,prediction,True)"
   ]
  },
  {
   "cell_type": "markdown",
   "id": "77c648c1",
   "metadata": {},
   "source": [
    "# Interesting Findings"
   ]
  },
  {
   "cell_type": "markdown",
   "id": "43cd2226",
   "metadata": {},
   "source": [
    "**At what time is the true location more scattered?**\n",
    "\n",
    "Equally scattered - so frequency doesn't really work for this dataset"
   ]
  },
  {
   "cell_type": "code",
   "execution_count": 183,
   "id": "647c7ce8",
   "metadata": {},
   "outputs": [],
   "source": [
    "grouped_time_data_train = [group for _,group in df_train.groupby('t')]\n",
    "\n",
    "loc_var_by_time = []\n",
    "\n",
    "for time_group in grouped_time_data_train:\n",
    "    loc_var_by_time.append(np.var(time_group['combined_xy']))\n",
    "\n",
    "loc_var_by_time = np.array(loc_var_by_time)\n",
    "loc_var_by_time = loc_var_by_time/sum(loc_var_by_time) # normalization"
   ]
  },
  {
   "cell_type": "code",
   "execution_count": 186,
   "id": "22ac44e2",
   "metadata": {},
   "outputs": [
    {
     "data": {
      "text/plain": [
       "<BarContainer object of 48 artists>"
      ]
     },
     "execution_count": 186,
     "metadata": {},
     "output_type": "execute_result"
    },
    {
     "data": {
      "image/png": "[encoded data removed]",
      "text/plain": [
       "<Figure size 640x480 with 1 Axes>"
      ]
     },
     "metadata": {},
     "output_type": "display_data"
    }
   ],
   "source": [
    "plt.bar([int(i) for i in range(len(loc_var_by_time))], loc_var_by_time)"
   ]
  },
  {
   "cell_type": "markdown",
   "id": "80e48e63",
   "metadata": {},
   "source": [
    "**At what time is the prediction most accurates?**\n",
    "\n",
    "22, so it is 11AM"
   ]
  },
  {
   "cell_type": "code",
   "execution_count": 192,
   "id": "a7b61c7a",
   "metadata": {},
   "outputs": [
    {
     "data": {
      "text/plain": [
       "<BarContainer object of 48 artists>"
      ]
     },
     "execution_count": 192,
     "metadata": {},
     "output_type": "execute_result"
    },
    {
     "data": {
      "image/png": "[encoded data removed]",
      "text/plain": [
       "<Figure size 640x480 with 1 Axes>"
      ]
     },
     "metadata": {},
     "output_type": "display_data"
    }
   ],
   "source": [
    "all_times = [0 for _ in range(48)] # get all time\n",
    "\n",
    "def evaluate_model_for_time_analysis(model, dataloader, device, k):\n",
    "    model.eval()\n",
    "    \n",
    "    with torch.no_grad():\n",
    "        for inputs, labels, positions, label_positions in dataloader:\n",
    "            inputs = inputs.to(device)\n",
    "            labels = labels.to(device)\n",
    "            positions = positions.to(device)\n",
    "            label_positions = label_positions.to(device)\n",
    "            \n",
    "            logits = model(inputs, positions, labels, label_positions)\n",
    "            \n",
    "            if (BATCH_SIZE > 1):\n",
    "                for logit_i in range(len(logits)):\n",
    "                    tolerated_acc = int(labels[logit_i] in torch.topk(logits[logit_i], k)[1])\n",
    "                    if (tolerated_acc): all_times[label_positions[logit_i].item()] += 1 ##\n",
    "            else:\n",
    "                tolerated_acc = int(labels in torch.topk(logits, k)[1])\n",
    "                if (tolerated_acc): all_times[label_positions[logit_i].item()] += 1 ##\n",
    "                    \n",
    "evaluate_model_for_time_analysis(transformer, test_dataloader, device, 1)\n",
    "\n",
    "plt.bar([int(i) for i in range(48)], all_times)\n",
    "# Top 5 accuracy\n",
    "# What time works best\n",
    "# What user attributes works best"
   ]
  },
  {
   "cell_type": "markdown",
   "id": "c50c9e38",
   "metadata": {},
   "source": [
    "# Hyperparameter-Tuning"
   ]
  },
  {
   "cell_type": "code",
   "execution_count": null,
   "id": "6c17d024",
   "metadata": {},
   "outputs": [],
   "source": [
    "import optuna"
   ]
  },
  {
   "cell_type": "code",
   "execution_count": null,
   "id": "4cd7c56e",
   "metadata": {},
   "outputs": [],
   "source": [
    "batch_sizes = [int(i) for i in range(5,101,5)]\n",
    "batch_sizes.append(1)\n",
    "batch_sizes = sorted(batch_sizes)"
   ]
  },
  {
   "cell_type": "code",
   "execution_count": null,
   "id": "eb1b5c57",
   "metadata": {},
   "outputs": [],
   "source": [
    "def objective(trial):\n",
    "    \n",
    "    # Set up dataloader\n",
    "    batch_size = trial.suggest_categorical('batch_size', batch_sizes)  ##\n",
    "    train_dataloader = DataLoader(train_dataset, batch_size=batch_size, shuffle=True, collate_fn=collate_fn)\n",
    "    \n",
    "    # Model Parameter\n",
    "    loc_size = 40000\n",
    "    time_size = 600\n",
    "    embed_dim = 256\n",
    "    # embed_dim = trial.suggest_categorical('embed_dim', [64, 128, 256, 512])\n",
    "    # num_layers = 1\n",
    "    num_layers = trial.suggest_int('num_layers', 1, 6)  ##\n",
    "    num_heads = 8\n",
    "    # num_heads = trial.suggest_categorical('num_heads', [2, 4, 8])\n",
    "    device = torch.device(\"cuda\" if torch.cuda.is_available() else \"cpu\")\n",
    "    forward_expansion = 4\n",
    "    # forward_expansion = trial.suggest_categorical('forward_expansion', [1, 2, 4])\n",
    "    dropout_rate = 0.1\n",
    "    \n",
    "    # Model\n",
    "    transformer = Transformer(loc_size=loc_size,\n",
    "                              time_size=time_size,\n",
    "                              embed_dim=embed_dim,\n",
    "                              num_layers=num_layers,\n",
    "                              num_heads=num_heads,\n",
    "                              device=device,\n",
    "                              forward_expansion=forward_expansion,\n",
    "                              dropout_rate=dropout_rate)\n",
    "    transformer.to(device)\n",
    "    \n",
    "    # Train the model\n",
    "    learning_rate = trial.suggest_loguniform('learning_rate', 1e-5, 1e-1) \n",
    "    \n",
    "    # Training loop\n",
    "    total_loss = 0\n",
    "    for epoch in range(5):\n",
    "        avg_loss, accuracy = train(transformer, train_dataloader, device, learning_rate)\n",
    "        total_loss += avg_loss\n",
    "    final_avg_loss = total_loss/10\n",
    "    \n",
    "    return final_avg_loss"
   ]
  },
  {
   "cell_type": "code",
   "execution_count": null,
   "id": "e85ac2cc",
   "metadata": {
    "scrolled": true
   },
   "outputs": [],
   "source": [
    "# Hyperparameter tuning\n",
    "\n",
    "# Create a study object and optimize the objective function\n",
    "study = optuna.create_study()\n",
    "study.optimize(objective, n_trials=50)\n",
    "\n",
    "# Result\n",
    "print('Best parameters:', study.best_params)\n",
    "print('Best loss:', study.best_value)"
   ]
  }
 ],
 "metadata": {
  "kernelspec": {
   "display_name": "Python 3 (ipykernel)",
   "language": "python",
   "name": "python3"
  },
  "language_info": {
   "codemirror_mode": {
    "name": "ipython",
    "version": 3
   },
   "file_extension": ".py",
   "mimetype": "text/x-python",
   "name": "python",
   "nbconvert_exporter": "python",
   "pygments_lexer": "ipython3",
   "version": "3.11.4"
  }
 },
 "nbformat": 4,
 "nbformat_minor": 5
}
