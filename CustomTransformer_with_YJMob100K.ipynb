{
 "cells": [
  {
   "cell_type": "markdown",
   "id": "0051dc88",
   "metadata": {},
   "source": [
    "**Dataset**: https://www.nature.com/articles/s41597-024-03237-9\n",
    "\n",
    "**Encoder and Decoder Reference**: https://www.youtube.com/watch?v=U0s0f995w14\n",
    "\n",
    "**user ID** is the unique identifier of the mobile phone user (type: integer)\n",
    "\n",
    "**day** is the masked date of the observation. It may take a value between 0 and 74 for both Dataset 1 and Dataset 2 (type: integer).\n",
    "\n",
    "The location pings are discretized into 500 meters × 500 meters grid cells and the timestamps are rounded up into 30-minute bins. The actual date of the observations is not available either (i.e., timeslot t of day d) to protect privacy. In the second Dataset, the 75 day period is composed of 60 days of business-as-usual and 15 days during an emergency with unusual behavior.\n",
    "\n",
    "**timeslot** is the timestamp of the observation discretized into 30 minute intervals. \n",
    "It may take a value between 0 and 47, where 0 indicates between 0AM and 0:30AM, \n",
    "and 13 would indicate the timeslot between 6:30AM and 7:00AM.\n",
    "\n",
    "**x,y** are the coordinates of the observed location mapped onto the 500 meter discretized grid cell. It may take a value between (1, 1) and (200, 200). Details are shown in Fig. 2."
   ]
  },
  {
   "cell_type": "markdown",
   "id": "74aad1bf",
   "metadata": {},
   "source": [
    "# Import Libraries"
   ]
  },
  {
   "cell_type": "code",
   "execution_count": 20,
   "id": "d158f4ba",
   "metadata": {},
   "outputs": [],
   "source": [
    "import gzip\n",
    "import pandas as pd\n",
    "import numpy as np\n",
    "import matplotlib.pyplot as plt\n",
    "from sklearn.model_selection import train_test_split\n",
    "import torch\n",
    "import torch.nn as nn\n",
    "from torch.optim import Adam\n",
    "from torch.utils.data import Dataset, DataLoader\n",
    "import random"
   ]
  },
  {
   "cell_type": "markdown",
   "id": "a5fe1e83",
   "metadata": {},
   "source": [
    "# Load Data"
   ]
  },
  {
   "cell_type": "code",
   "execution_count": 2,
   "id": "f611dc61",
   "metadata": {},
   "outputs": [],
   "source": [
    "# yjmob1 = 'yjmob100k-dataset1.csv.gz'\n",
    "# yjmob2 = 'yjmob100k-dataset2.csv.gz'\n",
    "# yjmob_df = pd.concat([pd.read_csv(yjmob1, compression='gzip'),\n",
    "#                       pd.read_csv(yjmob2, compression='gzip')]).sort_values(by=['uid','d','t'],\n",
    "#                                                                             ignore_index=True)"
   ]
  },
  {
   "cell_type": "code",
   "execution_count": 21,
   "id": "64854975",
   "metadata": {},
   "outputs": [],
   "source": [
    "yjmob1 = 'yjmob100k-dataset1.csv.gz' # dataset under normal scenes\n",
    "yjmob_df = pd.read_csv(yjmob1, compression='gzip').sort_values(by=['uid', 'd', 't'], ignore_index=True)"
   ]
  },
  {
   "cell_type": "code",
   "execution_count": 22,
   "id": "f862e132",
   "metadata": {},
   "outputs": [],
   "source": [
    "# Retrieve all ids\n",
    "\n",
    "uids = yjmob_df['uid'].unique()"
   ]
  },
  {
   "cell_type": "code",
   "execution_count": 23,
   "id": "fd5386e4",
   "metadata": {},
   "outputs": [],
   "source": [
    "# Just to reduce memory space\n",
    "rand_indicies = [random.randint(0, len(uids)) for _ in range(200)] # only 200 data would be used\n",
    "selected_uids = [uid for uid in uids[rand_indicies]] # selected_uids = uids[:200]\n",
    "# selected_uids = uids[:200]"
   ]
  },
  {
   "cell_type": "code",
   "execution_count": 24,
   "id": "813c0925",
   "metadata": {},
   "outputs": [],
   "source": [
    "df = yjmob_df[yjmob_df['uid'].isin(selected_uids)] "
   ]
  },
  {
   "cell_type": "markdown",
   "id": "e6e01014",
   "metadata": {},
   "source": [
    "# Tokenization"
   ]
  },
  {
   "cell_type": "code",
   "execution_count": 47,
   "id": "be6c5f17",
   "metadata": {},
   "outputs": [],
   "source": [
    "# Time\n",
    "# df['combined_t'] = df['d']*47+df['t']"
   ]
  },
  {
   "cell_type": "code",
   "execution_count": 25,
   "id": "9c4036e9",
   "metadata": {},
   "outputs": [],
   "source": [
    "# linearization of the 2-dimensional grid, i.e., the original x,y coordinate system\n",
    "def spatial_token(x, y):\n",
    "    # x,y are the coordinate location\n",
    "    # x determines the column order while\n",
    "    # y determines the row order\n",
    "    # (x-1) calculates the starting grid-column position\n",
    "    # (y-1)*200 calculates the start index of the grid-row\n",
    "    return (x-1)+(y-1)*200"
   ]
  },
  {
   "cell_type": "code",
   "execution_count": 26,
   "id": "323f5683",
   "metadata": {},
   "outputs": [
    {
     "name": "stderr",
     "output_type": "stream",
     "text": [
      "/var/folders/hx/xp23lpqx4ndfxcvp3qj_bdgr0000gn/T/ipykernel_15596/3489134120.py:2: SettingWithCopyWarning: \n",
      "A value is trying to be set on a copy of a slice from a DataFrame.\n",
      "Try using .loc[row_indexer,col_indexer] = value instead\n",
      "\n",
      "See the caveats in the documentation: https://pandas.pydata.org/pandas-docs/stable/user_guide/indexing.html#returning-a-view-versus-a-copy\n",
      "  df['combined_xy'] = df.apply(lambda row: spatial_token(row['x'], row['y']), axis=1)\n"
     ]
    }
   ],
   "source": [
    "# Location\n",
    "df['combined_xy'] = df.apply(lambda row: spatial_token(row['x'], row['y']), axis=1)"
   ]
  },
  {
   "cell_type": "code",
   "execution_count": 27,
   "id": "d489aba2",
   "metadata": {},
   "outputs": [],
   "source": [
    "df = df.sort_values(by=['uid', 't']) # df.sort_values(by=['uid', 'combined_t'])"
   ]
  },
  {
   "cell_type": "markdown",
   "id": "996ff03d",
   "metadata": {},
   "source": [
    "# Train-Test Split"
   ]
  },
  {
   "cell_type": "code",
   "execution_count": 28,
   "id": "49d9a84e",
   "metadata": {},
   "outputs": [],
   "source": [
    "# 7:3 split\n",
    "\n",
    "train_uids, test_uids = train_test_split(selected_uids, test_size=0.30, random_state=42)\n",
    "\n",
    "# 70 : (15:15) split\n",
    "\n",
    "# test-train split\n",
    "# train_val_uids, test_uids = train_test_split(selected_uids, test_size=0.15, random_state=42)\n",
    "\n",
    "# validation-test split\n",
    "# train_uids, val_uids = train_test_split(train_val_uids, test_size=0.176, random_state=42) # 0.176≈15/85\n",
    "\n",
    "df_train = df[df['uid'].isin(train_uids)]\n",
    "df_test = df[df['uid'].isin(test_uids)]"
   ]
  },
  {
   "cell_type": "markdown",
   "id": "1fdfd0c9",
   "metadata": {},
   "source": [
    "## Batching"
   ]
  },
  {
   "cell_type": "code",
   "execution_count": 82,
   "id": "534e616b",
   "metadata": {},
   "outputs": [],
   "source": [
    "BATCH_SIZE = 25"
   ]
  },
  {
   "cell_type": "code",
   "execution_count": 83,
   "id": "cab04f4f",
   "metadata": {},
   "outputs": [],
   "source": [
    "STEP_SIZE = 600"
   ]
  },
  {
   "cell_type": "code",
   "execution_count": 84,
   "id": "7983925d",
   "metadata": {},
   "outputs": [],
   "source": [
    "# Output input location sequence (trajectory), desired output location\n",
    "# along with the time when that user reaches a location\n",
    "\n",
    "def generate_sequences(data, data_t):\n",
    "    return torch.tensor(data[:STEP_SIZE]),torch.tensor(data[STEP_SIZE]),\\\n",
    "                torch.tensor(data_t[:STEP_SIZE]),torch.tensor(data_t[STEP_SIZE])"
   ]
  },
  {
   "cell_type": "code",
   "execution_count": 85,
   "id": "b8e8b316",
   "metadata": {},
   "outputs": [],
   "source": [
    "# Group data by uid\n",
    "\n",
    "grouped_data_train = df_train[['uid', 't', 'combined_xy']].groupby('uid')\n",
    "grouped_data_train = [group for _, group in df_train.groupby('uid')]\n",
    "\n",
    "grouped_data_test = df_test[['uid', 't', 'combined_xy']].groupby('uid')\n",
    "grouped_data_test = [group for _, group in df_test.groupby('uid')]"
   ]
  },
  {
   "cell_type": "code",
   "execution_count": 86,
   "id": "9773265d",
   "metadata": {},
   "outputs": [
    {
     "data": {
      "text/plain": [
       "[<matplotlib.lines.Line2D at 0x32fbe2790>]"
      ]
     },
     "execution_count": 86,
     "metadata": {},
     "output_type": "execute_result"
    },
    {
     "data": {
      "image/png": "[encoded data removed]",
      "text/plain": [
       "<Figure size 640x480 with 1 Axes>"
      ]
     },
     "metadata": {},
     "output_type": "display_data"
    }
   ],
   "source": [
    "x = grouped_data_train[0]['combined_xy']\n",
    "y = grouped_data_train[0]['t']\n",
    "\n",
    "plt.plot(x[:STEP_SIZE], y[:STEP_SIZE])"
   ]
  },
  {
   "cell_type": "code",
   "execution_count": 87,
   "id": "8aa15331",
   "metadata": {},
   "outputs": [],
   "source": [
    "class TrajectoryDataset(Dataset):\n",
    "    def __init__(self, grouped_data):\n",
    "        self.data = grouped_data\n",
    "\n",
    "    def __len__(self):\n",
    "        return len(self.data)\n",
    "\n",
    "    def __getitem__(self, idx):\n",
    "        data_for_uid = self.data[idx]\n",
    "        inputs, labels, positions, label_positions = generate_sequences(\n",
    "                                                         data_for_uid['combined_xy'].values.tolist(),\n",
    "                                                         data_for_uid['t'].values.tolist())\n",
    "        return inputs, labels, positions, label_positions\n",
    "\n",
    "train_dataset = TrajectoryDataset(grouped_data_train) # train_dataset.__getitem__(0)\n",
    "test_dataset = TrajectoryDataset(grouped_data_test)"
   ]
  },
  {
   "cell_type": "code",
   "execution_count": 88,
   "id": "2b99bfd3",
   "metadata": {},
   "outputs": [],
   "source": [
    "def collate_fn(batch):\n",
    "    # Unzip all batch\n",
    "    inputs_batch, labels_batch, positions_batch, label_positions_batch = zip(*batch)\n",
    "    \n",
    "    # Pad the sequence with less length in a batch\n",
    "    inputs_padded = torch.nn.utils.rnn.pad_sequence(inputs_batch, padding_value=0.0, batch_first=True)\n",
    "    labels_padded = torch.tensor(np.array(labels_batch))\n",
    "    positions_padded = torch.nn.utils.rnn.pad_sequence(positions_batch, padding_value=0, batch_first=True)\n",
    "    label_positions_padded = torch.tensor(np.array(label_positions_batch))\n",
    "    \n",
    "    return inputs_padded, labels_padded, positions_padded, label_positions_padded"
   ]
  },
  {
   "cell_type": "code",
   "execution_count": 89,
   "id": "d96aedf1",
   "metadata": {},
   "outputs": [],
   "source": [
    "train_dataloader = DataLoader(train_dataset, batch_size=BATCH_SIZE, shuffle=True, collate_fn=collate_fn)\n",
    "test_dataloader = DataLoader(test_dataset, batch_size=BATCH_SIZE, shuffle=True, collate_fn=collate_fn)"
   ]
  },
  {
   "cell_type": "code",
   "execution_count": 20,
   "id": "7cc4456f",
   "metadata": {},
   "outputs": [],
   "source": [
    "# # Example\n",
    "\n",
    "# data_iter = iter(train_dataloader)\n",
    "# inputs, labels, positions, label_positions = next(data_iter)\n",
    "# print(\"Shape of inputs:\", inputs.shape) # Shape: [batch_size, seq_len]\n",
    "# print(\"Shape of labels:\", labels.shape) # Shape: [batch_size]\n",
    "# print(\"Shape of positions:\", positions.shape) # Shape: [batch_size, seq_len]\n",
    "# print(\"Shape of positions:\", label_positions.shape) # Shape: [batch_size]"
   ]
  },
  {
   "cell_type": "markdown",
   "id": "76666eec",
   "metadata": {},
   "source": [
    "# Transformer"
   ]
  },
  {
   "cell_type": "markdown",
   "id": "d93c5203",
   "metadata": {},
   "source": [
    "## Input Embedding and Positional Encoding\n",
    "\n",
    "https://pytorch.org/tutorials/beginner/transformer_tutorial.html#load-and-batch-data"
   ]
  },
  {
   "cell_type": "code",
   "execution_count": 90,
   "id": "c3e98c32",
   "metadata": {},
   "outputs": [],
   "source": [
    "EMBED_DIM = 64"
   ]
  },
  {
   "cell_type": "code",
   "execution_count": 91,
   "id": "f93959c1",
   "metadata": {},
   "outputs": [],
   "source": [
    "# Time - Positional Encoding = Time Embedding + Sequential Encoding\n",
    "# max_len is the maximum expected data length\n",
    "\n",
    "class PositionalEncoding(nn.Module):\n",
    "    def __init__(self, max_len, embedding_dim):\n",
    "        super(PositionalEncoding, self).__init__()\n",
    "        self.embedding_dim = embedding_dim\n",
    "        position = torch.arange(max_len).unsqueeze(1)\n",
    "        div_term = torch.exp(torch.arange(0, embedding_dim, 2) * (-np.log(10000.0) / embedding_dim))\n",
    "        pe = torch.zeros(max_len, 1, embedding_dim)\n",
    "        pe[:, 0, 0::2] = torch.sin(position.float() * div_term)\n",
    "        pe[:, 0, 1::2] = torch.cos(position.float() * div_term)\n",
    "        self.register_buffer('pe', pe)\n",
    "    def forward(self, x):\n",
    "        x = x + self.pe[:x.size(0)]\n",
    "        return x # self.dropout(x)"
   ]
  },
  {
   "cell_type": "code",
   "execution_count": 92,
   "id": "73e23499",
   "metadata": {
    "scrolled": true
   },
   "outputs": [
    {
     "name": "stdout",
     "output_type": "stream",
     "text": [
      "Input Embedding: torch.Size([25, 600, 64])\n",
      "Positional Encoding: torch.Size([25, 600, 64])\n",
      "\n",
      "Labels: torch.Size([25])\n",
      "Label_positions: torch.Size([25])\n"
     ]
    }
   ],
   "source": [
    "# Example\n",
    "\n",
    "input_embedding_layer = nn.Embedding(40000, EMBED_DIM) # InputEmbedding(max_len, embedding_dim)\n",
    "position_embedding_layer = nn.Embedding(STEP_SIZE, EMBED_DIM) # max_len, embedding_dim\n",
    "positional_encoding = PositionalEncoding(STEP_SIZE, EMBED_DIM) # max_len, embedding_dim, dropout=0.1\n",
    "\n",
    "space_time = torch.tensor([])\n",
    "\n",
    "for inputs, labels, positions, label_positions in train_dataloader:\n",
    "    # Input Embedding\n",
    "    space = input_embedding_layer(inputs)\n",
    "    \n",
    "    # Positional Encoding\n",
    "    positions = position_embedding_layer(positions)\n",
    "    time = positional_encoding(positions)\n",
    "    \n",
    "    # Display shapes\n",
    "    print(\"Input Embedding:\", space.shape)\n",
    "    print(\"Positional Encoding:\", time.shape)\n",
    "    print()\n",
    "    print(\"Labels:\", labels.shape)\n",
    "    print(\"Label_positions:\", label_positions.shape)\n",
    "    \n",
    "    # Addition\n",
    "    space_time = space + time\n",
    "\n",
    "    break"
   ]
  },
  {
   "cell_type": "markdown",
   "id": "f54962ea",
   "metadata": {},
   "source": [
    "## Self-Attention"
   ]
  },
  {
   "cell_type": "code",
   "execution_count": 93,
   "id": "e133b7fb",
   "metadata": {},
   "outputs": [],
   "source": [
    "NUM_HEADS = 8"
   ]
  },
  {
   "cell_type": "code",
   "execution_count": 94,
   "id": "f3f8a987",
   "metadata": {},
   "outputs": [],
   "source": [
    "class MultiHeadAttentionModule(nn.Module):\n",
    "    def __init__(self, embed_dim, num_heads, dropout_rate):\n",
    "        super(MultiHeadAttentionModule, self).__init__()\n",
    "        self.multihead_attn = nn.MultiheadAttention(embed_dim, num_heads)\n",
    "        self.dropout = nn.Dropout(dropout_rate)\n",
    "\n",
    "    def forward(self, query, key, value, attn_mask=None, key_padding_mask=None, need_weights=True):\n",
    "        # Transpose from [batch size, seq length, embed dim] to [seq length, batch size, embed dim]\n",
    "        query = query.transpose(0, 1)\n",
    "        key = key.transpose(0, 1)\n",
    "        value = value.transpose(0, 1)\n",
    "        \n",
    "        # Apply multihead attention\n",
    "        attn_output, attn_output_weights = self.multihead_attn(query, key, value, attn_mask=attn_mask)\n",
    "        attn_output = self.dropout(attn_output)\n",
    "        return attn_output.transpose(0, 1)"
   ]
  },
  {
   "cell_type": "code",
   "execution_count": 95,
   "id": "96cc994d",
   "metadata": {},
   "outputs": [],
   "source": [
    "# # Example\n",
    "\n",
    "# multihead_attention = MultiHeadAttentionModule(EMBED_DIM, NUM_HEADS)\n",
    "# attn_output = multihead_attention(space_time, space_time, space_time)\n",
    "\n",
    "# print(\"Self Attention:\", attn_output.shape)"
   ]
  },
  {
   "cell_type": "markdown",
   "id": "479f1973",
   "metadata": {},
   "source": [
    "## Transformer Block"
   ]
  },
  {
   "cell_type": "code",
   "execution_count": 96,
   "id": "cd610aac",
   "metadata": {},
   "outputs": [],
   "source": [
    "class TransformerBlock(nn.Module):\n",
    "    def __init__(self, embed_dim, num_heads, forward_expansion, dropout_rate):\n",
    "        super(TransformerBlock, self).__init__()\n",
    "        \n",
    "        # Attention Layer\n",
    "        self.attention = MultiHeadAttentionModule(embed_dim, num_heads, dropout_rate)\n",
    "        \n",
    "        # Normalization 1 \n",
    "        self.norm1 = nn.LayerNorm(embed_dim)\n",
    "        \n",
    "        # Feed-Forward\n",
    "        self.feed_forward = nn.Sequential(\n",
    "            nn.Linear(embed_dim, forward_expansion * embed_dim), \n",
    "            nn.ReLU(),\n",
    "            nn.Linear(forward_expansion * embed_dim, embed_dim)\n",
    "        )\n",
    "        \n",
    "        # Normalization 2\n",
    "        self.norm2 = nn.LayerNorm(embed_dim)\n",
    "        \n",
    "        # Dropout\n",
    "        self.dropout = nn.Dropout(dropout_rate)\n",
    "        \n",
    "    def forward(self, query, key, value):\n",
    "        attn_output = self.attention(query, key, value)\n",
    "        x = self.norm1(attn_output + query)\n",
    "        forward = self.feed_forward(x)\n",
    "        out = self.norm2(self.dropout(forward + x))\n",
    "        return out"
   ]
  },
  {
   "cell_type": "markdown",
   "id": "5caaebd7",
   "metadata": {},
   "source": [
    "# Encoder"
   ]
  },
  {
   "cell_type": "code",
   "execution_count": 97,
   "id": "b60906f0",
   "metadata": {},
   "outputs": [],
   "source": [
    "class Encoder(nn.Module):\n",
    "    def __init__(self, loc_size, time_size, embed_dim, num_layers, num_heads, device, \n",
    "                 forward_expansion, dropout_rate):\n",
    "        super(Encoder, self).__init__()\n",
    "        self.embed_dim = embed_dim\n",
    "        self.device = device\n",
    "        \n",
    "        self.input_embedding = nn.Embedding(loc_size, embed_dim).to(device)\n",
    "        self.position_embedding = nn.Embedding(time_size, embed_dim).to(device)\n",
    "        self.positional_encoding = PositionalEncoding(time_size, embed_dim).to(device)\n",
    "        \n",
    "        self.layers = nn.ModuleList([\n",
    "            TransformerBlock(\n",
    "                embed_dim,\n",
    "                num_heads,\n",
    "                forward_expansion=forward_expansion,\n",
    "                dropout_rate=dropout_rate\n",
    "            ) for _ in range(num_layers)\n",
    "        ])\n",
    "        \n",
    "    def forward(self, inputs, positions):\n",
    "        # Input Embedding\n",
    "        space = self.input_embedding(inputs)\n",
    "\n",
    "        # Positional Encoding\n",
    "        positions = self.position_embedding(positions) \n",
    "        time = self.positional_encoding(positions)\n",
    "        \n",
    "        # Addition\n",
    "        out = space + time\n",
    "\n",
    "        # Transformer Block = Multi-Head Attention + Norm + Feed Forward + Norm\n",
    "        for layer in self.layers:\n",
    "            out = layer(out, out, out)\n",
    "        return out"
   ]
  },
  {
   "cell_type": "markdown",
   "id": "07894ebf",
   "metadata": {},
   "source": [
    "# Decoder"
   ]
  },
  {
   "cell_type": "code",
   "execution_count": 98,
   "id": "5f34745b",
   "metadata": {},
   "outputs": [],
   "source": [
    "def create_look_ahead_mask(size):\n",
    "    mask = torch.triu(torch.ones((size, size), device=device), diagonal=1).bool()\n",
    "    return mask"
   ]
  },
  {
   "cell_type": "code",
   "execution_count": 99,
   "id": "1d304045",
   "metadata": {},
   "outputs": [],
   "source": [
    "class DecoderBlock(nn.Module):\n",
    "    def __init__(self, embed_dim, num_heads, forward_expansion, device, dropout_rate): \n",
    "        super(DecoderBlock, self).__init__()\n",
    "        self.attention = MultiHeadAttentionModule(embed_dim, num_heads, dropout_rate)\n",
    "        self.norm = nn.LayerNorm(embed_dim)\n",
    "        self.transformer_block = TransformerBlock(embed_dim, num_heads, forward_expansion, dropout_rate)\n",
    "        \n",
    "    def forward(self, x, key, value, attn_mask=None):\n",
    "        attention = self.attention(x,key,value,attn_mask) \n",
    "        query = self.norm(attention + x)\n",
    "        out = self.transformer_block(query, key, value)\n",
    "        \n",
    "        return out"
   ]
  },
  {
   "cell_type": "code",
   "execution_count": 100,
   "id": "d340e4e8",
   "metadata": {},
   "outputs": [],
   "source": [
    "class Decoder(nn.Module):\n",
    "    def __init__(self, loc_size, time_size, embed_dim, num_layers, num_heads, \n",
    "                 device, forward_expansion, dropout_rate):\n",
    "        super(Decoder, self).__init__()\n",
    "        self.embed_dim = embed_dim\n",
    "        self.device = device\n",
    "        self.input_embedding = nn.Embedding(loc_size, embed_dim).to(device)\n",
    "        self.position_embedding = nn.Embedding(time_size, embed_dim).to(device)\n",
    "        self.positional_encoding = PositionalEncoding(time_size, embed_dim).to(device)\n",
    "        self.layers = nn.ModuleList([\n",
    "            DecoderBlock(\n",
    "                embed_dim,\n",
    "                num_heads,\n",
    "                forward_expansion=forward_expansion,\n",
    "                device=device,\n",
    "                dropout_rate=dropout_rate\n",
    "            ) for _ in range(num_layers)\n",
    "        ])\n",
    "        self.fc_out = nn.Linear(embed_dim, loc_size)\n",
    "        \n",
    "    def forward(self, output, output_position, enc_out):\n",
    "        space = self.input_embedding(output.unsqueeze(1))\n",
    "        positions = self.position_embedding(output_position.unsqueeze(1))\n",
    "        time = self.positional_encoding(positions)\n",
    "        out = space + time\n",
    "        for layer in self.layers:\n",
    "            out = layer(out, enc_out, enc_out, attn_mask=None)\n",
    "        out = self.fc_out(out)\n",
    "        return out"
   ]
  },
  {
   "cell_type": "code",
   "execution_count": 101,
   "id": "59541731",
   "metadata": {},
   "outputs": [],
   "source": [
    "# # Example\n",
    "\n",
    "# input_embedding_layer = nn.Embedding(STEP_SIZE, EMBED_DIM) # InputEmbedding(max_len, embedding_dim)\n",
    "# position_embedding_layer = nn.Embedding(STEP_SIZE, EMBED_DIM) # max_len, embedding_dim\n",
    "# positional_encoding = PositionalEncoding(STEP_SIZE, EMBED_DIM) # max_len, embedding_dim\n",
    "\n",
    "# space_time = torch.tensor([])\n",
    "\n",
    "# for inputs, labels, positions, label_positions in train_dataloader:\n",
    "#     # Input Embedding\n",
    "#     space = input_embedding_layer(labels.unsqueeze(1)) # Shape: [batch_size, seq_len, embed_dim]\n",
    "    \n",
    "#     # Positional Encoding\n",
    "#     positions = position_embedding_layer(label_positions.unsqueeze(1))\n",
    "#     time = positional_encoding(positions) # Shape: [batch_size, seq_len, embed_dim]\n",
    "    \n",
    "#     # Display shapes\n",
    "#     print(\"Input Embedding:\", space.shape)\n",
    "#     print(\"Positional Encoding:\", time.shape)\n",
    "    \n",
    "#     # Addition\n",
    "#     space_time = space + time\n",
    "\n",
    "#     break"
   ]
  },
  {
   "cell_type": "markdown",
   "id": "4efac42b",
   "metadata": {},
   "source": [
    "# Transformer Training Block"
   ]
  },
  {
   "cell_type": "code",
   "execution_count": 102,
   "id": "bfeb774e",
   "metadata": {},
   "outputs": [],
   "source": [
    "class Transformer(nn.Module):\n",
    "    def __init__(self, loc_size, time_size, embed_dim, num_layers, num_heads, \n",
    "                 device, forward_expansion, dropout_rate):\n",
    "        super(Transformer, self).__init__()\n",
    "        \n",
    "        self.encoder = Encoder(loc_size, time_size, embed_dim, num_layers, num_heads, device, forward_expansion, dropout_rate)\n",
    "        self.decoder = Decoder(loc_size, time_size, embed_dim, num_layers, num_heads, device, forward_expansion, dropout_rate)\n",
    "        self.device = device\n",
    "    \n",
    "    def forward(self, src_seq, src_pos, trg_seq, trg_pos):\n",
    "        # Encode Source\n",
    "        enc_out = self.encoder(src_seq, src_pos)\n",
    "        \n",
    "        # Decode target\n",
    "        dec_out = self.decoder(trg_seq, trg_pos, enc_out)\n",
    "        \n",
    "        return dec_out"
   ]
  },
  {
   "cell_type": "markdown",
   "id": "30859926",
   "metadata": {},
   "source": [
    "# Training"
   ]
  },
  {
   "cell_type": "code",
   "execution_count": 103,
   "id": "908a0aa8",
   "metadata": {},
   "outputs": [],
   "source": [
    "def train(model, dataloader, device, learning_rate):\n",
    "    model.train()\n",
    "    criterion = nn.CrossEntropyLoss()\n",
    "    optimizer = Adam(model.parameters(), lr=learning_rate)\n",
    "    \n",
    "    total_loss = 0.0\n",
    "    total_correct = 0\n",
    "    total_samples = 0\n",
    "    \n",
    "    for inputs, labels, positions, label_positions in dataloader:\n",
    "        inputs, labels = inputs.to(device), labels.to(device)\n",
    "        positions, label_positions = positions.to(device), label_positions.to(device)\n",
    "        \n",
    "        optimizer.zero_grad()\n",
    "        outputs = model(inputs, positions, labels, label_positions)\n",
    "        loss = criterion(outputs.view(-1, outputs.size(-1)), labels.view(-1))\n",
    "        total_loss += loss.item()\n",
    "        \n",
    "        loss.backward()\n",
    "        optimizer.step()\n",
    "        \n",
    "        _, predicted = outputs.max(2)  # Get the index of the max log-probability\n",
    "        total_correct += (predicted.squeeze() == labels).sum().item()\n",
    "        total_samples += labels.numel()\n",
    "    \n",
    "    avg_loss = total_loss / len(dataloader)\n",
    "    accuracy = total_correct / total_samples\n",
    "    \n",
    "    return avg_loss, accuracy"
   ]
  },
  {
   "cell_type": "code",
   "execution_count": 109,
   "id": "60305430",
   "metadata": {},
   "outputs": [],
   "source": [
    "def train_model(model, dataloader, device, epochs, learning_rate):\n",
    "    for epoch in range(epochs+1):\n",
    "        avg_loss, accuracy = train(model, dataloader, device, learning_rate)\n",
    "        print(f\"Epoch {epoch}, Average Loss: {avg_loss}, Accuracy: {accuracy}\")"
   ]
  },
  {
   "cell_type": "code",
   "execution_count": 105,
   "id": "2c951409",
   "metadata": {},
   "outputs": [],
   "source": [
    "EPOCH_NUM = 10"
   ]
  },
  {
   "cell_type": "markdown",
   "id": "ae0264a4",
   "metadata": {},
   "source": [
    "First hyperparameter results\n",
    "\n",
    "Best parameters: {'batch_size': 25, 'embed_dim': 512, 'num_layers': 1, 'num_heads': 8, 'forward_expansion': 4, 'learning_rate': 0.001317819375719244}\n",
    "\n",
    "Best loss: 3.077808467818735"
   ]
  },
  {
   "cell_type": "code",
   "execution_count": 110,
   "id": "b18c3c6b",
   "metadata": {
    "scrolled": true
   },
   "outputs": [
    {
     "name": "stdout",
     "output_type": "stream",
     "text": [
      "Epoch 0, Average Loss: 10.736239592234293, Accuracy: 0.0\n",
      "Epoch 1, Average Loss: 8.084031184514364, Accuracy: 0.014285714285714285\n",
      "Epoch 2, Average Loss: 5.6194775104522705, Accuracy: 0.17142857142857143\n",
      "Epoch 3, Average Loss: 3.306307792663574, Accuracy: 0.42142857142857143\n",
      "Epoch 4, Average Loss: 1.8572240471839905, Accuracy: 0.7071428571428572\n",
      "Epoch 5, Average Loss: 0.6226445982853571, Accuracy: 0.9214285714285714\n",
      "Epoch 6, Average Loss: 0.17162059992551804, Accuracy: 0.9928571428571429\n",
      "Epoch 7, Average Loss: 0.04540350909034411, Accuracy: 0.9928571428571429\n",
      "Epoch 8, Average Loss: 0.015683514919752877, Accuracy: 1.0\n",
      "Epoch 9, Average Loss: 0.005593777711813648, Accuracy: 1.0\n",
      "Epoch 10, Average Loss: 0.0014106640495204676, Accuracy: 1.0\n"
     ]
    }
   ],
   "source": [
    "device = torch.device(\"cuda\" if torch.cuda.is_available() else \"cpu\")\n",
    "transformer = Transformer(loc_size=40000, \n",
    "                          time_size=STEP_SIZE,\n",
    "                          embed_dim=512,\n",
    "                          num_layers=1, #?\n",
    "                          num_heads=8,\n",
    "                          device=device,\n",
    "                          forward_expansion=4,\n",
    "                          dropout_rate=0.1)\n",
    "transformer.to(device)\n",
    "train_model(transformer, train_dataloader, device, epochs=EPOCH_NUM, learning_rate=0.0013)"
   ]
  },
  {
   "cell_type": "markdown",
   "id": "c50c9e38",
   "metadata": {},
   "source": [
    "# Hyperparameter-Tuning"
   ]
  },
  {
   "cell_type": "markdown",
   "id": "4b94a501",
   "metadata": {},
   "source": [
    "**Random**: Randomly select combinations of hyperparameters to test.\n",
    "\n",
    "**Bayesian**: Predict the performance of hyperparameter combinations and iteratively refines the guesses based on past results.\n",
    "\n",
    "using Hyperopt and Cross-validation. "
   ]
  },
  {
   "cell_type": "code",
   "execution_count": 53,
   "id": "6c17d024",
   "metadata": {},
   "outputs": [],
   "source": [
    "import optuna"
   ]
  },
  {
   "cell_type": "code",
   "execution_count": 63,
   "id": "4cd7c56e",
   "metadata": {},
   "outputs": [],
   "source": [
    "batch_sizes = [int(i) for i in range(5,101,5)]"
   ]
  },
  {
   "cell_type": "code",
   "execution_count": 80,
   "id": "eb1b5c57",
   "metadata": {},
   "outputs": [],
   "source": [
    "def objective(trial):\n",
    "    \n",
    "    # Set up dataloader\n",
    "    batch_size = trial.suggest_categorical('batch_size', batch_sizes) \n",
    "    train_dataloader = DataLoader(train_dataset, batch_size=batch_size, shuffle=True, collate_fn=collate_fn)\n",
    "    \n",
    "    # Model Parameter\n",
    "    loc_size = 40000\n",
    "    time_size = 600\n",
    "    # embed_dim = 64\n",
    "    embed_dim = trial.suggest_categorical('embed_dim', [64, 128, 256, 512])\n",
    "    # num_layers = 4\n",
    "    num_layers = trial.suggest_int('num_layers', 1, 6)\n",
    "    # num_heads = 8\n",
    "    num_heads = trial.suggest_categorical('num_heads', [2, 4, 8])\n",
    "    device = torch.device(\"cuda\" if torch.cuda.is_available() else \"cpu\")\n",
    "    # forward_expansion = 128\n",
    "    forward_expansion = trial.suggest_categorical('forward_expansion', [1, 2, 4])\n",
    "    dropout_rate = 0.1\n",
    "    \n",
    "    # Model\n",
    "    transformer = Transformer(loc_size=loc_size,\n",
    "                              time_size=time_size,\n",
    "                              embed_dim=embed_dim,\n",
    "                              num_layers=num_layers,\n",
    "                              num_heads=num_heads,\n",
    "                              device=device,\n",
    "                              forward_expansion=forward_expansion,\n",
    "                              dropout_rate=dropout_rate)\n",
    "    transformer.to(device)\n",
    "    \n",
    "    # Train the model\n",
    "    learning_rate = trial.suggest_loguniform('learning_rate', 1e-5, 1e-1) \n",
    "    \n",
    "    # Training loop\n",
    "    total_loss = 0\n",
    "    for epoch in range(10):\n",
    "        avg_loss, accuracy = train(transformer, train_dataloader, device, learning_rate)\n",
    "        total_loss += avg_loss\n",
    "    final_avg_loss = total_loss/10\n",
    "    \n",
    "    return final_avg_loss"
   ]
  },
  {
   "cell_type": "code",
   "execution_count": 81,
   "id": "e85ac2cc",
   "metadata": {
    "scrolled": false
   },
   "outputs": [
    {
     "name": "stderr",
     "output_type": "stream",
     "text": [
      "[I 2024-06-03 11:25:42,320] A new study created in memory with name: no-name-eaa2d3f1-7faf-4a43-a44a-988a30bf37ce\n",
      "/var/folders/hx/xp23lpqx4ndfxcvp3qj_bdgr0000gn/T/ipykernel_15596/2293032465.py:33: FutureWarning: suggest_loguniform has been deprecated in v3.0.0. This feature will be removed in v6.0.0. See https://github.com/optuna/optuna/releases/tag/v3.0.0. Use suggest_float(..., log=True) instead.\n",
      "  learning_rate = trial.suggest_loguniform('learning_rate', 1e-5, 1e-1) ##\n",
      "[I 2024-06-03 11:27:42,618] Trial 0 finished with value: 6.949062967300415 and parameters: {'batch_size': 85, 'embed_dim': 512, 'num_layers': 3, 'num_heads': 4, 'forward_expansion': 2, 'learning_rate': 0.002334897404952929}. Best is trial 0 with value: 6.949062967300415.\n",
      "[I 2024-06-03 11:29:17,305] Trial 1 finished with value: 6.925008416175842 and parameters: {'batch_size': 15, 'embed_dim': 256, 'num_layers': 6, 'num_heads': 2, 'forward_expansion': 2, 'learning_rate': 0.002034805792701858}. Best is trial 1 with value: 6.925008416175842.\n",
      "[I 2024-06-03 11:30:27,247] Trial 2 finished with value: 10.346227486928305 and parameters: {'batch_size': 55, 'embed_dim': 64, 'num_layers': 5, 'num_heads': 8, 'forward_expansion': 4, 'learning_rate': 0.0002080692858652511}. Best is trial 1 with value: 6.925008416175842.\n",
      "[I 2024-06-03 11:30:33,459] Trial 3 finished with value: 9.673934178352356 and parameters: {'batch_size': 15, 'embed_dim': 64, 'num_layers': 1, 'num_heads': 2, 'forward_expansion': 1, 'learning_rate': 0.0005708808952933162}. Best is trial 1 with value: 6.925008416175842.\n",
      "[I 2024-06-03 11:31:23,174] Trial 4 finished with value: 8.959108901023864 and parameters: {'batch_size': 85, 'embed_dim': 128, 'num_layers': 6, 'num_heads': 2, 'forward_expansion': 1, 'learning_rate': 0.0013268096253526687}. Best is trial 1 with value: 6.925008416175842.\n",
      "[I 2024-06-03 11:31:37,841] Trial 5 finished with value: 7.604464324315389 and parameters: {'batch_size': 25, 'embed_dim': 64, 'num_layers': 1, 'num_heads': 8, 'forward_expansion': 4, 'learning_rate': 0.07585329691790979}. Best is trial 1 with value: 6.925008416175842.\n",
      "[I 2024-06-03 11:31:55,117] Trial 6 finished with value: 9.287213897705078 and parameters: {'batch_size': 90, 'embed_dim': 256, 'num_layers': 1, 'num_heads': 2, 'forward_expansion': 4, 'learning_rate': 0.00034245984056797697}. Best is trial 1 with value: 6.925008416175842.\n",
      "[I 2024-06-03 11:32:32,872] Trial 7 finished with value: 10.622669728597007 and parameters: {'batch_size': 55, 'embed_dim': 128, 'num_layers': 4, 'num_heads': 2, 'forward_expansion': 4, 'learning_rate': 3.1951259660152056e-05}. Best is trial 1 with value: 6.925008416175842.\n",
      "[I 2024-06-03 11:33:31,578] Trial 8 finished with value: 8.744151639938355 and parameters: {'batch_size': 75, 'embed_dim': 64, 'num_layers': 4, 'num_heads': 8, 'forward_expansion': 4, 'learning_rate': 0.003317260344027487}. Best is trial 1 with value: 6.925008416175842.\n",
      "[I 2024-06-03 11:35:18,226] Trial 9 finished with value: 10.041557168960571 and parameters: {'batch_size': 95, 'embed_dim': 128, 'num_layers': 5, 'num_heads': 8, 'forward_expansion': 2, 'learning_rate': 0.0002270791751553236}. Best is trial 1 with value: 6.925008416175842.\n",
      "[I 2024-06-03 11:36:52,184] Trial 10 finished with value: 8.066870869909014 and parameters: {'batch_size': 10, 'embed_dim': 256, 'num_layers': 6, 'num_heads': 4, 'forward_expansion': 2, 'learning_rate': 0.02347411465936852}. Best is trial 1 with value: 6.925008416175842.\n",
      "[I 2024-06-03 11:38:32,524] Trial 11 finished with value: 7.381968629360199 and parameters: {'batch_size': 45, 'embed_dim': 512, 'num_layers': 3, 'num_heads': 4, 'forward_expansion': 2, 'learning_rate': 0.005219021278621806}. Best is trial 1 with value: 6.925008416175842.\n",
      "[I 2024-06-03 11:40:19,547] Trial 12 finished with value: 8.414248154844556 and parameters: {'batch_size': 5, 'embed_dim': 512, 'num_layers': 3, 'num_heads': 4, 'forward_expansion': 2, 'learning_rate': 0.00928800523638166}. Best is trial 1 with value: 6.925008416175842.\n",
      "[I 2024-06-03 11:41:26,430] Trial 13 finished with value: 4.819540844857693 and parameters: {'batch_size': 85, 'embed_dim': 512, 'num_layers': 2, 'num_heads': 4, 'forward_expansion': 2, 'learning_rate': 0.0015250680146762451}. Best is trial 13 with value: 4.819540844857693.\n",
      "[I 2024-06-03 11:41:59,827] Trial 14 finished with value: 10.08629150390625 and parameters: {'batch_size': 30, 'embed_dim': 256, 'num_layers': 2, 'num_heads': 2, 'forward_expansion': 2, 'learning_rate': 7.283343153394584e-05}. Best is trial 13 with value: 4.819540844857693.\n",
      "[I 2024-06-03 11:43:14,874] Trial 15 finished with value: 10.451622458866666 and parameters: {'batch_size': 20, 'embed_dim': 512, 'num_layers': 2, 'num_heads': 4, 'forward_expansion': 2, 'learning_rate': 1.0283385671812122e-05}. Best is trial 13 with value: 4.819540844857693.\n",
      "[I 2024-06-03 11:43:51,714] Trial 16 finished with value: 8.305675013860066 and parameters: {'batch_size': 50, 'embed_dim': 256, 'num_layers': 2, 'num_heads': 4, 'forward_expansion': 2, 'learning_rate': 0.016348066584057602}. Best is trial 13 with value: 4.819540844857693.\n",
      "[I 2024-06-03 11:45:05,886] Trial 17 finished with value: 6.985492272377013 and parameters: {'batch_size': 15, 'embed_dim': 256, 'num_layers': 5, 'num_heads': 2, 'forward_expansion': 1, 'learning_rate': 0.000948578909816251}. Best is trial 13 with value: 4.819540844857693.\n",
      "[I 2024-06-03 11:47:50,502] Trial 18 finished with value: 23.911599763234456 and parameters: {'batch_size': 65, 'embed_dim': 512, 'num_layers': 4, 'num_heads': 4, 'forward_expansion': 2, 'learning_rate': 0.06699313964185229}. Best is trial 13 with value: 4.819540844857693.\n",
      "[I 2024-06-03 11:49:27,449] Trial 19 finished with value: 7.1441144943237305 and parameters: {'batch_size': 40, 'embed_dim': 256, 'num_layers': 6, 'num_heads': 2, 'forward_expansion': 2, 'learning_rate': 0.001515075775838529}. Best is trial 13 with value: 4.819540844857693.\n",
      "[I 2024-06-03 11:50:32,641] Trial 20 finished with value: 7.406148211161296 and parameters: {'batch_size': 60, 'embed_dim': 512, 'num_layers': 2, 'num_heads': 4, 'forward_expansion': 1, 'learning_rate': 0.00583523145489309}. Best is trial 13 with value: 4.819540844857693.\n",
      "[I 2024-06-03 11:52:32,248] Trial 21 finished with value: 7.052097511291504 and parameters: {'batch_size': 85, 'embed_dim': 512, 'num_layers': 3, 'num_heads': 4, 'forward_expansion': 2, 'learning_rate': 0.0023416345958853124}. Best is trial 13 with value: 4.819540844857693.\n",
      "[I 2024-06-03 11:54:44,684] Trial 22 finished with value: 6.066124498844147 and parameters: {'batch_size': 100, 'embed_dim': 512, 'num_layers': 3, 'num_heads': 4, 'forward_expansion': 2, 'learning_rate': 0.0006526281405534393}. Best is trial 13 with value: 4.819540844857693.\n",
      "[I 2024-06-03 11:55:54,087] Trial 23 finished with value: 5.595772564411163 and parameters: {'batch_size': 100, 'embed_dim': 512, 'num_layers': 2, 'num_heads': 4, 'forward_expansion': 2, 'learning_rate': 0.0006140313993193643}. Best is trial 13 with value: 4.819540844857693.\n",
      "[I 2024-06-03 11:57:03,782] Trial 24 finished with value: 9.350854396820068 and parameters: {'batch_size': 100, 'embed_dim': 512, 'num_layers': 2, 'num_heads': 4, 'forward_expansion': 2, 'learning_rate': 0.00010409519086835487}. Best is trial 13 with value: 4.819540844857693.\n",
      "[I 2024-06-03 11:58:13,489] Trial 25 finished with value: 5.323633354902268 and parameters: {'batch_size': 100, 'embed_dim': 512, 'num_layers': 2, 'num_heads': 4, 'forward_expansion': 2, 'learning_rate': 0.0007056078493751214}. Best is trial 13 with value: 4.819540844857693.\n",
      "[I 2024-06-03 11:58:48,237] Trial 26 finished with value: 6.6801057159900665 and parameters: {'batch_size': 35, 'embed_dim': 512, 'num_layers': 1, 'num_heads': 4, 'forward_expansion': 2, 'learning_rate': 0.00035372232001109905}. Best is trial 13 with value: 4.819540844857693.\n",
      "[I 2024-06-03 11:59:56,206] Trial 27 finished with value: 9.843719959259033 and parameters: {'batch_size': 70, 'embed_dim': 512, 'num_layers': 2, 'num_heads': 4, 'forward_expansion': 2, 'learning_rate': 6.311924195734671e-05}. Best is trial 13 with value: 4.819540844857693.\n",
      "[I 2024-06-03 12:00:31,925] Trial 28 finished with value: 5.404775083065033 and parameters: {'batch_size': 100, 'embed_dim': 512, 'num_layers': 1, 'num_heads': 4, 'forward_expansion': 1, 'learning_rate': 0.0007986223747398082}. Best is trial 13 with value: 4.819540844857693.\n"
     ]
    },
    {
     "name": "stderr",
     "output_type": "stream",
     "text": [
      "[I 2024-06-03 12:01:09,653] Trial 29 finished with value: 6.029316473007202 and parameters: {'batch_size': 100, 'embed_dim': 512, 'num_layers': 1, 'num_heads': 4, 'forward_expansion': 1, 'learning_rate': 0.003839447945965429}. Best is trial 13 with value: 4.819540844857693.\n",
      "[I 2024-06-03 12:01:43,290] Trial 30 finished with value: 9.589910650253296 and parameters: {'batch_size': 85, 'embed_dim': 512, 'num_layers': 1, 'num_heads': 4, 'forward_expansion': 1, 'learning_rate': 0.00015464569660014616}. Best is trial 13 with value: 4.819540844857693.\n",
      "[I 2024-06-03 12:03:13,169] Trial 31 finished with value: 5.275576144456863 and parameters: {'batch_size': 100, 'embed_dim': 512, 'num_layers': 2, 'num_heads': 4, 'forward_expansion': 1, 'learning_rate': 0.0007426159324964241}. Best is trial 13 with value: 4.819540844857693.\n",
      "[I 2024-06-03 12:04:26,598] Trial 32 finished with value: 4.58477772474289 and parameters: {'batch_size': 80, 'embed_dim': 512, 'num_layers': 2, 'num_heads': 4, 'forward_expansion': 1, 'learning_rate': 0.0012730605646752314}. Best is trial 32 with value: 4.58477772474289.\n",
      "[I 2024-06-03 12:06:35,555] Trial 33 finished with value: 7.1723445653915405 and parameters: {'batch_size': 80, 'embed_dim': 512, 'num_layers': 3, 'num_heads': 4, 'forward_expansion': 1, 'learning_rate': 0.0019481806062500494}. Best is trial 32 with value: 4.58477772474289.\n",
      "[I 2024-06-03 12:07:47,090] Trial 34 finished with value: 7.225779211521148 and parameters: {'batch_size': 80, 'embed_dim': 512, 'num_layers': 2, 'num_heads': 4, 'forward_expansion': 1, 'learning_rate': 0.0004003470833712051}. Best is trial 32 with value: 4.58477772474289.\n",
      "[I 2024-06-03 12:08:39,559] Trial 35 finished with value: 8.881777167320251 and parameters: {'batch_size': 80, 'embed_dim': 128, 'num_layers': 3, 'num_heads': 8, 'forward_expansion': 1, 'learning_rate': 0.001068198328329101}. Best is trial 32 with value: 4.58477772474289.\n",
      "[I 2024-06-03 12:08:57,311] Trial 36 finished with value: 8.780528903007507 and parameters: {'batch_size': 85, 'embed_dim': 64, 'num_layers': 2, 'num_heads': 4, 'forward_expansion': 1, 'learning_rate': 0.0026002173871703615}. Best is trial 32 with value: 4.58477772474289.\n",
      "[I 2024-06-03 12:10:06,914] Trial 37 finished with value: 4.425840359926224 and parameters: {'batch_size': 90, 'embed_dim': 512, 'num_layers': 2, 'num_heads': 4, 'forward_expansion': 1, 'learning_rate': 0.0012241507684812153}. Best is trial 37 with value: 4.425840359926224.\n",
      "[I 2024-06-03 12:10:47,442] Trial 38 finished with value: 4.041928515397013 and parameters: {'batch_size': 90, 'embed_dim': 512, 'num_layers': 1, 'num_heads': 8, 'forward_expansion': 1, 'learning_rate': 0.001341810954550217}. Best is trial 38 with value: 4.041928515397013.\n",
      "[I 2024-06-03 12:11:02,384] Trial 39 finished with value: 5.854645782709122 and parameters: {'batch_size': 90, 'embed_dim': 64, 'num_layers': 1, 'num_heads': 8, 'forward_expansion': 1, 'learning_rate': 0.008933725099230638}. Best is trial 38 with value: 4.041928515397013.\n",
      "[I 2024-06-03 12:11:19,701] Trial 40 finished with value: 8.185666871070861 and parameters: {'batch_size': 90, 'embed_dim': 128, 'num_layers': 1, 'num_heads': 8, 'forward_expansion': 1, 'learning_rate': 0.0017661623483864065}. Best is trial 38 with value: 4.041928515397013.\n",
      "[I 2024-06-03 12:12:42,940] Trial 41 finished with value: 6.862207281589508 and parameters: {'batch_size': 90, 'embed_dim': 512, 'num_layers': 2, 'num_heads': 8, 'forward_expansion': 1, 'learning_rate': 0.000444090915872837}. Best is trial 38 with value: 4.041928515397013.\n",
      "[I 2024-06-03 12:13:26,289] Trial 42 finished with value: 3.1240926962539866 and parameters: {'batch_size': 25, 'embed_dim': 512, 'num_layers': 1, 'num_heads': 8, 'forward_expansion': 1, 'learning_rate': 0.001325930529244353}. Best is trial 42 with value: 3.1240926962539866.\n",
      "[I 2024-06-03 12:14:13,888] Trial 43 finished with value: 3.077808467818735 and parameters: {'batch_size': 25, 'embed_dim': 512, 'num_layers': 1, 'num_heads': 8, 'forward_expansion': 4, 'learning_rate': 0.001317819375719244}. Best is trial 43 with value: 3.077808467818735.\n",
      "[I 2024-06-03 12:15:01,255] Trial 44 finished with value: 6.293422238032024 and parameters: {'batch_size': 25, 'embed_dim': 512, 'num_layers': 1, 'num_heads': 8, 'forward_expansion': 4, 'learning_rate': 0.00025624351270708536}. Best is trial 43 with value: 3.077808467818735.\n",
      "[I 2024-06-03 12:15:48,814] Trial 45 finished with value: 7.3011054515838625 and parameters: {'batch_size': 25, 'embed_dim': 512, 'num_layers': 1, 'num_heads': 8, 'forward_expansion': 4, 'learning_rate': 0.0034184511368913735}. Best is trial 43 with value: 3.077808467818735.\n",
      "[I 2024-06-03 12:16:03,984] Trial 46 finished with value: 8.91899631023407 and parameters: {'batch_size': 25, 'embed_dim': 64, 'num_layers': 1, 'num_heads': 8, 'forward_expansion': 4, 'learning_rate': 0.001191643542126457}. Best is trial 43 with value: 3.077808467818735.\n",
      "[I 2024-06-03 12:16:22,582] Trial 47 finished with value: 5.004035300016403 and parameters: {'batch_size': 95, 'embed_dim': 128, 'num_layers': 1, 'num_heads': 8, 'forward_expansion': 4, 'learning_rate': 0.005154642989183915}. Best is trial 43 with value: 3.077808467818735.\n",
      "[I 2024-06-03 12:16:59,626] Trial 48 finished with value: 4.449930218234658 and parameters: {'batch_size': 75, 'embed_dim': 512, 'num_layers': 1, 'num_heads': 8, 'forward_expansion': 1, 'learning_rate': 0.0012615182345643336}. Best is trial 43 with value: 3.077808467818735.\n",
      "[I 2024-06-03 12:17:42,313] Trial 49 finished with value: 4.677072602510452 and parameters: {'batch_size': 75, 'embed_dim': 512, 'num_layers': 1, 'num_heads': 8, 'forward_expansion': 4, 'learning_rate': 0.0027646960925394102}. Best is trial 43 with value: 3.077808467818735.\n"
     ]
    },
    {
     "name": "stdout",
     "output_type": "stream",
     "text": [
      "Best parameters: {'batch_size': 25, 'embed_dim': 512, 'num_layers': 1, 'num_heads': 8, 'forward_expansion': 4, 'learning_rate': 0.001317819375719244}\n",
      "Best loss: 3.077808467818735\n"
     ]
    }
   ],
   "source": [
    "# Hyperparameter tuning\n",
    "\n",
    "# Create a study object and optimize the objective function\n",
    "study = optuna.create_study()\n",
    "study.optimize(objective, n_trials=50)\n",
    "\n",
    "# Result\n",
    "print('Best parameters:', study.best_params)\n",
    "print('Best loss:', study.best_value)"
   ]
  },
  {
   "cell_type": "markdown",
   "id": "ed00718a",
   "metadata": {},
   "source": [
    "# Inference"
   ]
  },
  {
   "cell_type": "code",
   "execution_count": 189,
   "id": "b5188be6",
   "metadata": {},
   "outputs": [
    {
     "name": "stdout",
     "output_type": "stream",
     "text": [
      "Predicted Locations: tensor([17700, 35263, 17700, 17700, 17700, 17700, 17700, 20876, 35263, 35263,\n",
      "        17700, 17700, 17700, 20876, 35263, 35263, 17700, 17700, 17700, 17700,\n",
      "        17700, 35263, 35263, 17700, 35263, 35263, 35263, 17700, 35263, 20876,\n",
      "        17700, 14732, 17700, 35263, 17700, 35263, 17700, 17700, 35263, 17700,\n",
      "        17700, 17700, 17700, 14732, 35263, 35263, 35263, 35263, 17700, 14732])\n",
      "Actual Locations: tensor([ 6191, 10384, 22484, 17243, 16310,   873, 36849, 11195, 26317, 17982,\n",
      "        14753, 26701, 15137,  2922, 16770, 21685, 18925, 14904, 10767, 12723,\n",
      "         9578, 15534,  8711, 11308, 20267, 15728, 10581, 16547,  9179, 11126,\n",
      "        11761, 21947, 17534, 17520,  5974, 20499, 27488, 11358, 14942, 20542,\n",
      "        17754, 13928, 25929, 10989, 21350, 17340,  5370, 17338, 17352, 25314])\n",
      "\n",
      "Differences:tensor([ 11509,  24879,  -4784,    457,   1390,  16827, -19149,   9681,   8946,\n",
      "         17281,   2947,  -9001,   2563,  17954,  18493,  13578,  -1225,   2796,\n",
      "          6933,   4977,   8122,  19729,  26552,   6392,  14996,  19535,  24682,\n",
      "          1153,  26084,   9750,   5939,  -7215,    166,  17743,  11726,  14764,\n",
      "         -9788,   6342,  20321,  -2842,    -54,   3772,  -8229,   3743,  13913,\n",
      "         17923,  29893,  17925,    348, -10582])\n"
     ]
    }
   ],
   "source": [
    "# If wanting to know the exact predictions\n",
    "\n",
    "import torch.nn.functional as F\n",
    "\n",
    "with torch.no_grad():\n",
    "    for inputs, labels, positions, label_positions in test_dataloader:\n",
    "        inputs, labels = inputs.to(device), labels.to(device)\n",
    "        positions, label_positions = positions.to(device), label_positions.to(device)\n",
    "        \n",
    "        logits = transformer(inputs, positions, labels, label_positions)\n",
    "        logits = logits.squeeze(1)\n",
    "        probabilities = F.softmax(logits, dim=1)\n",
    "        predictions = torch.argmax(probabilities, dim=1)\n",
    "\n",
    "        print(f\"Predicted Locations: {predictions}\")\n",
    "        print(f\"Actual Locations: {labels}\")\n",
    "        print()\n",
    "        print(f\"Differences:{predictions-labels}\")\n",
    "\n",
    "        break"
   ]
  },
  {
   "cell_type": "code",
   "execution_count": 151,
   "id": "ebfa2b03",
   "metadata": {},
   "outputs": [],
   "source": [
    "def inference(model, input_sequence):\n",
    "    model.eval()\n",
    "    with torch.no_grad():\n",
    "        logits = model(input_sequence)\n",
    "        probabilities = F.softmax(logits, dim=-1)\n",
    "        return probabilities"
   ]
  },
  {
   "cell_type": "code",
   "execution_count": 152,
   "id": "4e810604",
   "metadata": {},
   "outputs": [],
   "source": [
    "# Example of testing where we might want to calculate the accuracy\n",
    "def evaluate_model(model, dataloader, device):\n",
    "    model.eval()\n",
    "    total_correct = 0\n",
    "    total_examples = 0\n",
    "    \n",
    "    with torch.no_grad():\n",
    "        for inputs, labels, positions, label_positions in dataloader:\n",
    "            inputs = inputs.to(device)\n",
    "            labels = labels.to(device)\n",
    "            positions = positions.to(device)\n",
    "            label_positions = label_positions.to(device)\n",
    "            \n",
    "            logits = model(inputs, positions, labels, label_positions)\n",
    "            predictions = torch.argmax(logits, dim=-1)\n",
    "            \n",
    "            print(\"Location Difference\")\n",
    "            print(predictions.squeeze() - labels)\n",
    "            print()\n",
    "            \n",
    "            total_correct += (predictions.squeeze() == labels).sum().item()\n",
    "            total_examples += labels.numel()\n",
    "    \n",
    "    accuracy = total_correct / total_examples\n",
    "    return accuracy\n",
    "# test_accuracy = evaluate_model(transformer, test_dataloader, device)\n",
    "# print(f\"Test Accuracy: {test_accuracy}\") "
   ]
  }
 ],
 "metadata": {
  "kernelspec": {
   "display_name": "Python 3 (ipykernel)",
   "language": "python",
   "name": "python3"
  },
  "language_info": {
   "codemirror_mode": {
    "name": "ipython",
    "version": 3
   },
   "file_extension": ".py",
   "mimetype": "text/x-python",
   "name": "python",
   "nbconvert_exporter": "python",
   "pygments_lexer": "ipython3",
   "version": "3.11.4"
  }
 },
 "nbformat": 4,
 "nbformat_minor": 5
}
