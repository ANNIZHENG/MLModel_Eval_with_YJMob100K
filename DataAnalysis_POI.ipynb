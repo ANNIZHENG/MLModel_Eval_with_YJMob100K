{
 "cells": [
  {
   "cell_type": "code",
   "execution_count": 2,
   "id": "8807882f",
   "metadata": {},
   "outputs": [],
   "source": [
    "import gzip\n",
    "import pandas as pd\n",
    "import numpy as np\n",
    "import random\n",
    "import matplotlib.pyplot as plt\n",
    "from scipy import stats"
   ]
  },
  {
   "cell_type": "code",
   "execution_count": 3,
   "id": "de7e9ddd",
   "metadata": {},
   "outputs": [],
   "source": [
    "yjmob1 = 'yjmob100k-dataset1.csv.gz' # normal\n",
    "yjmob1_df = pd.read_csv(yjmob1, compression='gzip')\n",
    "\n",
    "# yjmob2 = 'yjmob100k-dataset2.csv.gz' # normal + disaster\n",
    "# yjmob2_df = pd.read_csv(yjmob2, compression='gzip')"
   ]
  },
  {
   "cell_type": "code",
   "execution_count": 4,
   "id": "1919c800",
   "metadata": {},
   "outputs": [],
   "source": [
    "def spatial_token(x, y):\n",
    "    return (x-1)+(y-1)*200\n",
    "\n",
    "yjmob1_df['combined_xy'] = yjmob1_df.apply(lambda row: spatial_token(row['x'], row['y']), axis=1)"
   ]
  },
  {
   "cell_type": "markdown",
   "id": "e719f7f4",
   "metadata": {},
   "source": [
    "# K-Means (with Elbow Method)"
   ]
  },
  {
   "cell_type": "code",
   "execution_count": 5,
   "id": "ed59be46",
   "metadata": {},
   "outputs": [
    {
     "data": {
      "text/html": [
       "<div>\n",
       "<style scoped>\n",
       "    .dataframe tbody tr th:only-of-type {\n",
       "        vertical-align: middle;\n",
       "    }\n",
       "\n",
       "    .dataframe tbody tr th {\n",
       "        vertical-align: top;\n",
       "    }\n",
       "\n",
       "    .dataframe thead th {\n",
       "        text-align: right;\n",
       "    }\n",
       "</style>\n",
       "<table border=\"1\" class=\"dataframe\">\n",
       "  <thead>\n",
       "    <tr style=\"text-align: right;\">\n",
       "      <th></th>\n",
       "      <th>uid</th>\n",
       "      <th>d</th>\n",
       "      <th>t</th>\n",
       "      <th>x</th>\n",
       "      <th>y</th>\n",
       "      <th>combined_xy</th>\n",
       "    </tr>\n",
       "  </thead>\n",
       "  <tbody>\n",
       "    <tr>\n",
       "      <th>0</th>\n",
       "      <td>0</td>\n",
       "      <td>0</td>\n",
       "      <td>1</td>\n",
       "      <td>79</td>\n",
       "      <td>86</td>\n",
       "      <td>17078</td>\n",
       "    </tr>\n",
       "    <tr>\n",
       "      <th>1</th>\n",
       "      <td>0</td>\n",
       "      <td>0</td>\n",
       "      <td>2</td>\n",
       "      <td>79</td>\n",
       "      <td>86</td>\n",
       "      <td>17078</td>\n",
       "    </tr>\n",
       "    <tr>\n",
       "      <th>2</th>\n",
       "      <td>0</td>\n",
       "      <td>0</td>\n",
       "      <td>8</td>\n",
       "      <td>77</td>\n",
       "      <td>86</td>\n",
       "      <td>17076</td>\n",
       "    </tr>\n",
       "    <tr>\n",
       "      <th>3</th>\n",
       "      <td>0</td>\n",
       "      <td>0</td>\n",
       "      <td>9</td>\n",
       "      <td>77</td>\n",
       "      <td>86</td>\n",
       "      <td>17076</td>\n",
       "    </tr>\n",
       "    <tr>\n",
       "      <th>4</th>\n",
       "      <td>0</td>\n",
       "      <td>0</td>\n",
       "      <td>19</td>\n",
       "      <td>81</td>\n",
       "      <td>89</td>\n",
       "      <td>17680</td>\n",
       "    </tr>\n",
       "  </tbody>\n",
       "</table>\n",
       "</div>"
      ],
      "text/plain": [
       "   uid  d   t   x   y  combined_xy\n",
       "0    0  0   1  79  86        17078\n",
       "1    0  0   2  79  86        17078\n",
       "2    0  0   8  77  86        17076\n",
       "3    0  0   9  77  86        17076\n",
       "4    0  0  19  81  89        17680"
      ]
     },
     "execution_count": 5,
     "metadata": {},
     "output_type": "execute_result"
    }
   ],
   "source": [
    "yjmob1_df.head(5) # display"
   ]
  },
  {
   "cell_type": "markdown",
   "id": "fab69856",
   "metadata": {},
   "source": [
    "Aggregate only the first 100 step for each user for simplicity"
   ]
  },
  {
   "cell_type": "code",
   "execution_count": 6,
   "id": "0dd17806",
   "metadata": {},
   "outputs": [],
   "source": [
    "yjmob1_df_chunked = [group[['uid', 't', 'combined_xy']].head(100) for _, group in yjmob1_df.groupby(by='uid')]"
   ]
  },
  {
   "cell_type": "code",
   "execution_count": 7,
   "id": "6b06ab55",
   "metadata": {},
   "outputs": [],
   "source": [
    "# load (loc, time) tuple data into a matrix\n",
    "yjmob1_loctime = {}\n",
    "for group in yjmob1_df_chunked:\n",
    "    yjmob1_loctime_temp = group.apply(lambda row: (row['combined_xy'], row['t']), axis=1).tolist()\n",
    "    yjmob1_loctime[group['uid'].iloc[0]]= yjmob1_loctime_temp"
   ]
  },
  {
   "cell_type": "markdown",
   "id": "03f172b1",
   "metadata": {},
   "source": [
    "Select points to perform K-Means Clustering"
   ]
  },
  {
   "cell_type": "code",
   "execution_count": 10,
   "id": "779cd9ac-1cfa-4386-b5d5-6ff1eb43e21b",
   "metadata": {
    "scrolled": true
   },
   "outputs": [
    {
     "name": "stdout",
     "output_type": "stream",
     "text": [
      "95446\n"
     ]
    }
   ],
   "source": [
    "# Select only location and time data points from 11AM or around 11AM\n",
    "def select_data_point(data, target_time=22):  # time_range=(20, 25)\n",
    "    # filtered_data = [(loc, time) for loc, time in data if time_range[0] <= time <= time_range[1]]\n",
    "    # for loc, time in filtered_data:\n",
    "    for loc, time in data:\n",
    "        if time == target_time:\n",
    "            return loc, time\n",
    "    # if filtered_data:\n",
    "        # closest_point = min(filtered_data, key=lambda x: abs(x[1] - target_time))\n",
    "        # return closest_point\n",
    "    # return None\n",
    "\n",
    "# Transform the data to include only the selected data point\n",
    "transformed_data = []\n",
    "user_ids = []\n",
    "for user_id, user_data in yjmob1_loctime.items():\n",
    "    selected_point = select_data_point(user_data)\n",
    "    if selected_point:\n",
    "        transformed_data.append(selected_point)\n",
    "        user_ids.append(user_id)\n",
    "\n",
    "# Extract location and time for clustering, transformer type\n",
    "transformed_data = np.array([[loc, time] for loc, time in transformed_data], dtype=float)\n",
    "print(len(transformed_data))"
   ]
  },
  {
   "cell_type": "code",
   "execution_count": 11,
   "id": "bcff7f90-1aa6-43ed-94ce-b500846fff09",
   "metadata": {},
   "outputs": [],
   "source": [
    "from scipy.cluster.vq import kmeans, vq"
   ]
  },
  {
   "cell_type": "code",
   "execution_count": 12,
   "id": "daad45b2-ad37-4bd3-a979-5b5243557b64",
   "metadata": {},
   "outputs": [],
   "source": [
    "# Did several k-means clustering\n",
    "\n",
    "inertia = []\n",
    "for k in range(1, 11):\n",
    "    centroids, distortion = kmeans(transformed_data, k)\n",
    "    inertia.append(distortion)"
   ]
  },
  {
   "cell_type": "markdown",
   "id": "65142eb0",
   "metadata": {},
   "source": [
    "Select 4 as the number of Clusters in the Whole Population"
   ]
  },
  {
   "cell_type": "code",
   "execution_count": 13,
   "id": "ba91469e-b35a-40a2-8757-b3cbeb3363a0",
   "metadata": {},
   "outputs": [
    {
     "data": {
      "image/png": "[encoded data removed]",
      "text/plain": [
       "<Figure size 640x480 with 1 Axes>"
      ]
     },
     "metadata": {},
     "output_type": "display_data"
    }
   ],
   "source": [
    "# Elbow method graph\n",
    "\n",
    "plt.plot(range(1, 11), inertia, marker='o')\n",
    "plt.xlabel('Number of clusters')\n",
    "plt.ylabel('Distortion')\n",
    "plt.title('Elbow Method for Optimal Number of Clusters')\n",
    "plt.show()"
   ]
  },
  {
   "cell_type": "code",
   "execution_count": 14,
   "id": "c8299259-c473-4e11-a96d-a1b736cad613",
   "metadata": {},
   "outputs": [],
   "source": [
    "# Do K-means with the best k\n",
    "centroids, distortion = kmeans(transformed_data, 4)\n",
    "\n",
    "# Assign each user to the nearest cluster\n",
    "cluster_assignments, _ = vq(transformed_data, centroids)\n",
    "\n",
    "# Store clustering result\n",
    "user_cluster_df = pd.DataFrame({'uid': user_ids, 'cluster': cluster_assignments})"
   ]
  },
  {
   "cell_type": "code",
   "execution_count": 15,
   "id": "47bbe529",
   "metadata": {},
   "outputs": [
    {
     "name": "stdout",
     "output_type": "stream",
     "text": [
      "26361 39698 20826 8561\n"
     ]
    }
   ],
   "source": [
    "print(len(user_cluster_df[user_cluster_df['cluster']==0]),\n",
    "      len(user_cluster_df[user_cluster_df['cluster']==1]),\n",
    "      len(user_cluster_df[user_cluster_df['cluster']==2]),\n",
    "      len(user_cluster_df[user_cluster_df['cluster']==3]))"
   ]
  },
  {
   "cell_type": "markdown",
   "id": "b0e5ffdb",
   "metadata": {},
   "source": [
    "Create a custom test and train dataset with randomly selected users from the data"
   ]
  },
  {
   "cell_type": "markdown",
   "id": "a3b87c3e-fecd-4cf3-85bb-ea665cab5f75",
   "metadata": {},
   "source": [
    "With the whole `selected_users` I can do the horizontal train-test split"
   ]
  },
  {
   "cell_type": "code",
   "execution_count": 108,
   "id": "85606791-520d-45aa-a670-22adccf5188c",
   "metadata": {},
   "outputs": [],
   "source": [
    "selected_users = []\n",
    "for i in range(4):\n",
    "    selected_users.append(user_cluster_df[user_cluster_df['cluster'] == i]['uid'].sample(n=250, random_state=123).tolist())"
   ]
  },
  {
   "cell_type": "code",
   "execution_count": 109,
   "id": "fa2a608b-1654-45e5-abe1-a2d3c4d294e6",
   "metadata": {},
   "outputs": [
    {
     "data": {
      "text/plain": [
       "array([23571, 74204, 63696, 55441, 96426, 60824, 94235, 51631, 86909,\n",
       "       42530, 48861, 84743, 35613, 69585, 75261, 23650, 79336, 94821,\n",
       "       12931, 53463, 18040, 31206, 63322,  9171, 95444, 12150,  7366,\n",
       "        3674, 16823, 10621, 63463, 17992, 57551, 80754, 99312, 94594,\n",
       "       36907, 38247,  3951, 66781,  4785, 68770, 98780, 36850, 23834,\n",
       "       47091, 92289, 37022, 88734, 52290, 98371, 30565,  2799, 92971,\n",
       "       29639, 54873, 28204, 65041,  4148, 12363, 88515, 30343, 48408,\n",
       "       94064, 49770,  4355, 98324, 70191, 24881, 51973, 36970,  2723,\n",
       "       55443, 91833, 66652, 11398, 84277, 94400, 58734, 97420, 30074,\n",
       "       53544, 58032, 81236, 92600, 70090, 22397, 13197, 73188, 76449,\n",
       "       17326, 63919, 53835, 61898, 42864, 80041, 33526, 40935, 84723,\n",
       "       52492, 25654,  6322, 96212,  1410, 53976, 13453, 76253, 21478,\n",
       "       46157, 22565, 35585, 39060, 18637, 68772, 80634, 47406, 72532,\n",
       "       63800, 85188, 71122, 37843, 38934, 71111, 42411, 36799, 20926,\n",
       "       50518, 81605, 87442, 13337, 22891, 65142, 20983, 70933, 84940,\n",
       "       54772, 20438, 96943,  9693, 12239, 36298, 77531, 72885, 29329,\n",
       "       92226, 82126,   366, 20947, 36770, 87439, 81363,  2943, 78169,\n",
       "       40668,  9353, 53800, 66429,  5153, 65726, 95222, 45599,  2104,\n",
       "         786, 22207, 61428, 81106, 16144, 48557, 97794, 70924, 26583,\n",
       "       36188, 16539, 71805, 69739, 22327, 54270, 95008, 12282, 79178,\n",
       "       73887, 25187,  2570, 55138, 27607, 56580, 27947, 96485, 79676,\n",
       "       41154, 48378,  6927, 53561, 85458, 67070, 89766, 82161, 17465,\n",
       "       94354, 25831, 91759, 24397, 18474, 68578, 10887,  5559, 91601,\n",
       "       12146, 98554, 76487, 38505, 13263, 66664, 68794, 35131, 16066,\n",
       "       88098, 90457,  9483,    26, 96716, 34517, 39947,  8984, 50580,\n",
       "       66666, 10317, 72419, 18841, 75942, 88755, 67053, 98420, 41977,\n",
       "       30446, 91798, 34713, 87097, 50435, 66393, 91085,   549, 78911,\n",
       "       23321, 82300, 84581, 12014, 83260, 81888, 35420, 62042, 81489,\n",
       "       69793, 82610, 94012,  9754, 45462, 18108, 64864, 90246, 89661,\n",
       "        9840,  5452, 82424, 16583, 34479,  6998, 25223,  4205,  1953,\n",
       "       96034, 90128, 18464, 40334, 94154, 38606, 68424,   886, 14873,\n",
       "       66712, 88907, 39402, 13724,  9733, 60730, 31779, 42597,  1191,\n",
       "       89971, 19002, 45033, 99447, 96719, 88044, 52503, 28307, 55997,\n",
       "       31341, 83085, 37595, 52258, 58971, 73006, 44663, 49027, 15136,\n",
       "       40813, 17883, 38285, 71703, 73943, 51198, 49294, 10980, 58898,\n",
       "       42552, 37794, 79679, 10254, 50981, 14612, 46747, 60081, 86820,\n",
       "       17652, 13181, 85927, 71306, 12502, 61001, 91289, 26986, 60459,\n",
       "       44732, 76143, 54734, 52793, 53556, 64753, 52253, 36972, 11829,\n",
       "       55509, 63563, 91208, 76112, 20349, 65334, 92012, 73443, 24834,\n",
       "       67669, 94049, 58126, 82873, 87885, 34586, 41242, 40840, 41768,\n",
       "       87901, 50497, 79334, 47425, 89671, 97387, 59012, 55582, 35977,\n",
       "       76183, 38945, 33047, 91320, 94345, 17084, 59933, 10114,   790,\n",
       "       39723, 17943, 25996, 46515, 74677, 68918, 93163, 58136, 49523,\n",
       "       85065, 23326, 61118, 28666, 63290, 24394, 28654, 98411,  5520,\n",
       "        7974, 10779, 46048, 68570, 12489, 77763,  2112, 58357, 43369,\n",
       "       73189, 53694, 71105, 71643, 69993, 33026, 79503, 75228, 83759,\n",
       "       56351, 81243, 94007, 21281, 10599, 49144, 85738, 60694, 94789,\n",
       "       94613, 53277, 33420, 31038, 97920, 58205, 13929, 80508, 58462,\n",
       "       83068, 35822, 26094, 56646, 10321, 12169, 60425, 27352, 72552,\n",
       "       31131, 76527,  3823,  8125, 35304, 96735, 69133, 38801, 74579,\n",
       "       41491, 13345, 10704, 29132, 16489, 78885, 99583, 32236, 54667,\n",
       "        5836, 20299, 80838, 75878, 36841, 16279, 98578, 43934, 23777,\n",
       "       68457, 93484, 47145,  3263, 17920, 28992, 62867, 18682, 17749,\n",
       "       99474, 31030, 63839,   947, 41609, 68962, 22328,  9504, 43782,\n",
       "       23468, 19765, 10682,   355, 11306, 52125,  6815, 46208, 60667,\n",
       "       76745, 47419, 32072, 50740, 12616, 97431,  4532, 39331,  8997,\n",
       "        3966, 61388, 10724, 52030,  5462, 45648, 86330, 77449, 73210,\n",
       "       89696, 31693, 89490, 43087, 83970, 81500, 98966, 59411, 29813,\n",
       "        9053,  5359, 15199, 65013, 54651, 24498, 45476, 92667, 85166,\n",
       "        3305, 90635, 52898, 22823, 60352,  6231, 69773, 81014, 53450,\n",
       "       76468, 28073, 30719, 16046, 99456, 85143, 56091, 62220, 49651,\n",
       "       38326, 90881, 94246, 50449, 35200, 27286,  6255, 39387, 68848,\n",
       "        5714, 71159, 74530, 71650, 88486, 66618, 90504, 54672,  8113,\n",
       "       29008, 83820, 40806, 31600, 23346, 10214, 16157, 76735, 57423,\n",
       "       89344, 89752, 74682, 71576, 42854, 62002, 89215, 54800, 67807,\n",
       "       80213, 73219, 89881, 95642, 99631,  1694, 47301, 68159, 12850,\n",
       "       52024, 55558, 21999, 36523, 71885, 60368, 17594, 63891, 51743,\n",
       "       19152, 74202, 97502, 80148, 49066, 37254, 96591, 46875, 35439,\n",
       "       72632, 55199, 72524, 80298, 64881, 73245,  4846, 68683, 64490,\n",
       "       55175, 58495, 41627, 74822, 13776,  3187, 96469, 71166, 89065,\n",
       "       15684, 31898, 29646, 44478, 31989, 49962, 26131, 68257, 54287,\n",
       "       43699, 66299,  3121,  4324, 91656, 37845,  2774, 16691, 66452,\n",
       "       81257, 28564, 68664, 89245, 16456, 91097, 57478, 54316, 98834,\n",
       "       26339, 44202, 56697, 63482, 68677, 34567, 70534, 76221, 63374,\n",
       "       65849, 12603, 88255, 17539, 59122, 26690, 16699, 94068, 53530,\n",
       "       17177, 46216, 70379, 54371, 30801, 93647, 27497,  6886, 94910,\n",
       "       14824, 80554, 16607,  3730, 56205, 51100, 12725, 21306, 92299,\n",
       "       80059, 17937, 94092, 68789, 32611,  7275, 78175,  3783, 37497,\n",
       "       90750, 68311, 41111, 29820, 43778, 39107, 78096, 63403, 21150,\n",
       "       21109, 63402, 54710, 67157, 59254, 63833,  2223, 50770, 15634,\n",
       "       78925, 62025, 33960, 58919, 79635, 99357, 32663, 33959,  2307,\n",
       "       71440, 90176, 36248, 87285, 89793,   751, 78947, 35045,  6981,\n",
       "       60798, 65488, 70094, 65285, 17724,  6548, 84055, 77083, 71183,\n",
       "       29566, 56813,  7234, 77292, 46769, 70072, 34922, 37086,  2515,\n",
       "       93516, 95097, 74142,  4720, 72021, 19080, 13684, 74289, 88272,\n",
       "       79307,  9637, 41308,  3932, 23289, 88806, 48658, 42177, 32352,\n",
       "       15164, 77193, 31957, 82431, 43321,  5676, 72118, 79945, 26909,\n",
       "       14817, 92713, 84229, 40555, 59051, 70146, 43845, 49763, 28842,\n",
       "       49352, 47758, 61302, 82832, 30855, 89461,  3514, 32161, 49888,\n",
       "       67634,  5087, 27883, 31360, 15141, 36853, 14605, 64506, 24093,\n",
       "       54443, 28425,  1761, 63353, 57155, 26481, 95336, 95917, 33480,\n",
       "       45715, 14583, 24116, 24119, 25083, 60603, 73231, 30444, 53943,\n",
       "        9027, 65957, 18959, 32249, 27473, 41534, 61775, 71050, 51844,\n",
       "       37342, 89697, 73833, 92163, 62550,  4197,  2640, 10234, 82866,\n",
       "       16500, 93923,  8812, 47784, 45307, 89227, 33203, 43440, 93003,\n",
       "       46882, 29830, 34544, 52039, 48054, 78745, 99554, 68481, 51692,\n",
       "       65451, 79385, 17857, 80717, 40343, 39173, 68079, 16285, 52969,\n",
       "       41452, 67792,  9177, 60319, 88351, 60100, 86853, 37309, 81247,\n",
       "       47908, 39162, 18221, 50419, 89928, 81495, 95048, 22103, 86606,\n",
       "       83879, 46268, 30093, 86704, 71614,  3768, 18410, 95729, 27999,\n",
       "       17570, 15097, 31528, 98533, 35830, 52222, 52423, 17273, 10770,\n",
       "       42676, 70263,  1810, 43476,  6264, 78362, 68369, 85746, 36869,\n",
       "       48106, 41257,  7278, 18827, 40233, 64771, 41254, 12381, 30412,\n",
       "       44643, 95721, 32772, 84975, 86894, 81657, 37735, 82041, 95339,\n",
       "       50400, 26055, 88359, 37599, 39659, 46262, 93050, 34551, 81524,\n",
       "       53818, 93817, 87646,  2209, 84790, 22510, 28784, 73768, 32308,\n",
       "       91565, 59638, 96607, 55392, 50274, 54256, 64319, 61437, 54324,\n",
       "       97327, 44982, 31678, 23651, 29992, 67694, 11184, 90919, 54705,\n",
       "       67130,  4890, 43361, 25851, 15214, 88822, 89511, 86523, 66683,\n",
       "       99743, 58222, 31229, 59069, 26828, 50335, 56851, 55292, 90156,\n",
       "        7004, 67383, 69497, 33310, 16736, 54546, 59199, 61833, 95446,\n",
       "       84826])"
      ]
     },
     "execution_count": 109,
     "metadata": {},
     "output_type": "execute_result"
    }
   ],
   "source": [
    "selected_uids = np.array(selected_users).flatten() # 100 users \n",
    "selected_uids"
   ]
  },
  {
   "cell_type": "code",
   "execution_count": 110,
   "id": "d1baa5f8-3fc4-4c56-895e-e7e1ea12d653",
   "metadata": {},
   "outputs": [],
   "source": [
    "# Exported train-test split (horizontal)\n",
    "\n",
    "selected_uids_df = yjmob1_df[yjmob1_df['uid'].isin(selected_uids)]\n",
    "train_data = [group.head(100).iloc[:80] for _,group in selected_uids_df.groupby('uid')] # Train\n",
    "test_data = [group.head(100).iloc[80:101] for _,group in selected_uids_df.groupby('uid')] # Test \n",
    "\n",
    "train_df = pd.concat(train_data)\n",
    "test_df = pd.concat(test_data)\n",
    "train_df.to_csv('df_train_1k.csv', index=False)\n",
    "test_df.to_csv('df_test_1k.csv', index=False)"
   ]
  },
  {
   "cell_type": "code",
   "execution_count": 113,
   "id": "7fd2451f-0d4a-4b01-b8e5-a303706aaf97",
   "metadata": {},
   "outputs": [],
   "source": [
    "# Exported train-test split (vertical)\n",
    "\n",
    "all_data = [group.head(100) for _,group in selected_uids_df.groupby('uid')] \n",
    "all_df = pd.concat(all_data)\n",
    "all_df.to_csv('df_all_1k.csv', index=False)"
   ]
  },
  {
   "cell_type": "markdown",
   "id": "d9892efb",
   "metadata": {},
   "source": [
    "# Random Forest (POI Feature Importance / Selection)"
   ]
  },
  {
   "cell_type": "code",
   "execution_count": 32,
   "id": "733b8d25-b7b1-4db4-8bc3-0814579ef675",
   "metadata": {},
   "outputs": [],
   "source": [
    "poi_description = pd.read_csv('POI_datacategories.csv', header=None) # Description\n",
    "# poi_description.index = [(int(i)+1) for i in range(len(poi_description[0]))] # set index\n",
    "# poi_description = poi_description.rename(columns={0:'Description'}) # set column title\n",
    "\n",
    "poi_df = pd.read_csv('cell_POIcat.csv.gz', compression='gzip') # read POI data\n",
    "poi_df['combined_xy'] = poi_df.apply(lambda row: spatial_token(row['x'], row['y']), axis=1) # calculated location\n",
    "\n",
    "# poi_df = pd.merge(poi, poi_description, left_on='POIcategory', right_index=True) # merge with description"
   ]
  },
  {
   "cell_type": "code",
   "execution_count": 33,
   "id": "9616f65b-7f07-4140-9f29-c97391620713",
   "metadata": {},
   "outputs": [
    {
     "data": {
      "text/html": [
       "<div>\n",
       "<style scoped>\n",
       "    .dataframe tbody tr th:only-of-type {\n",
       "        vertical-align: middle;\n",
       "    }\n",
       "\n",
       "    .dataframe tbody tr th {\n",
       "        vertical-align: top;\n",
       "    }\n",
       "\n",
       "    .dataframe thead th {\n",
       "        text-align: right;\n",
       "    }\n",
       "</style>\n",
       "<table border=\"1\" class=\"dataframe\">\n",
       "  <thead>\n",
       "    <tr style=\"text-align: right;\">\n",
       "      <th></th>\n",
       "      <th>x</th>\n",
       "      <th>y</th>\n",
       "      <th>POIcategory</th>\n",
       "      <th>POI_count</th>\n",
       "      <th>combined_xy</th>\n",
       "    </tr>\n",
       "  </thead>\n",
       "  <tbody>\n",
       "    <tr>\n",
       "      <th>0</th>\n",
       "      <td>1</td>\n",
       "      <td>1</td>\n",
       "      <td>48</td>\n",
       "      <td>4</td>\n",
       "      <td>0</td>\n",
       "    </tr>\n",
       "    <tr>\n",
       "      <th>1</th>\n",
       "      <td>1</td>\n",
       "      <td>1</td>\n",
       "      <td>58</td>\n",
       "      <td>1</td>\n",
       "      <td>0</td>\n",
       "    </tr>\n",
       "    <tr>\n",
       "      <th>2</th>\n",
       "      <td>1</td>\n",
       "      <td>1</td>\n",
       "      <td>59</td>\n",
       "      <td>1</td>\n",
       "      <td>0</td>\n",
       "    </tr>\n",
       "    <tr>\n",
       "      <th>3</th>\n",
       "      <td>1</td>\n",
       "      <td>1</td>\n",
       "      <td>69</td>\n",
       "      <td>2</td>\n",
       "      <td>0</td>\n",
       "    </tr>\n",
       "    <tr>\n",
       "      <th>4</th>\n",
       "      <td>1</td>\n",
       "      <td>1</td>\n",
       "      <td>73</td>\n",
       "      <td>1</td>\n",
       "      <td>0</td>\n",
       "    </tr>\n",
       "  </tbody>\n",
       "</table>\n",
       "</div>"
      ],
      "text/plain": [
       "   x  y  POIcategory  POI_count  combined_xy\n",
       "0  1  1           48          4            0\n",
       "1  1  1           58          1            0\n",
       "2  1  1           59          1            0\n",
       "3  1  1           69          2            0\n",
       "4  1  1           73          1            0"
      ]
     },
     "execution_count": 33,
     "metadata": {},
     "output_type": "execute_result"
    }
   ],
   "source": [
    "poi_df.head(5)"
   ]
  },
  {
   "cell_type": "markdown",
   "id": "4ee7369f-12f1-4ff5-8530-7d5608210622",
   "metadata": {},
   "source": [
    "### 1. Visit Frequency and POI Type/POI Count (Significant)"
   ]
  },
  {
   "cell_type": "code",
   "execution_count": 128,
   "id": "81f54e63-9919-456b-a992-f47d792192fa",
   "metadata": {},
   "outputs": [],
   "source": [
    "loc_frequency = yjmob1_df['combined_xy'].value_counts()"
   ]
  },
  {
   "cell_type": "markdown",
   "id": "dd73c1e1-152a-4ad1-a9af-d5027948e838",
   "metadata": {},
   "source": [
    "Start simple: Classify if POI: 40, 4, 21, 66, 81 are impacting the frequency significantly"
   ]
  },
  {
   "cell_type": "markdown",
   "id": "0d72e2e5-737c-449e-b1a9-3b50c909116a",
   "metadata": {},
   "source": [
    "Opinion: T-test is robust enough with the amount of data present (even with making too many assumptions)"
   ]
  },
  {
   "cell_type": "code",
   "execution_count": 202,
   "id": "9b180255-06be-4d2e-8bc8-1839769fb8cf",
   "metadata": {},
   "outputs": [],
   "source": [
    "# Find location-id and POI count\n",
    "find_poi = poi_df[(poi_df['combined_xy'].isin(yjmob1_df['combined_xy'].unique())) & (poi_df['POIcategory'] == 40)]\n",
    "\n",
    "# Find combined_xy with POI existed\n",
    "combined_xy_with_poi = find_poi['combined_xy'].to_numpy()\n",
    "\n",
    "# Initialize data for significance test\n",
    "data = {}\n",
    "data['combined_xy'] = []\n",
    "data['visit_frequency'] = []\n",
    "data['POI_count'] = []\n",
    "\n",
    "for uid in loc_frequency.index:\n",
    "    if uid in combined_xy_with_poi:\n",
    "        data['combined_xy'].append(uid)\n",
    "        data['visit_frequency'].append(loc_frequency[uid])\n",
    "        data['POI_count'].append(find_poi[find_poi['combined_xy']==uid]['POI_count'].item())\n",
    "    else:\n",
    "        data['combined_xy'].append(uid)\n",
    "        data['visit_frequency'].append(loc_frequency[uid])\n",
    "        data['POI_count'].append(0)\n",
    "        \n",
    "data = pd.DataFrame(data)"
   ]
  },
  {
   "cell_type": "code",
   "execution_count": 208,
   "id": "eb07ac5b-7be5-4c75-9739-b58252f9b944",
   "metadata": {},
   "outputs": [],
   "source": [
    "# Group locatiaon-id with POI count <= threshold\n",
    "data_with_small_poicount = data[data['POI_count'] == 0]['visit_frequency']\n",
    "\n",
    "# Group location-id with POI count > threshold\n",
    "data_without_large_poicount = data[data['POI_count'] > 0]['visit_frequency']"
   ]
  },
  {
   "cell_type": "code",
   "execution_count": 215,
   "id": "08a1a61d-7d56-4d38-9078-9dff8b5b1f52",
   "metadata": {},
   "outputs": [
    {
     "name": "stdout",
     "output_type": "stream",
     "text": [
      "P-value: 7.30525e-319\n"
     ]
    }
   ],
   "source": [
    "# U-Test\n",
    "u_statistic, p_value = stats.mannwhitneyu(data_with_small_poicount, data_without_large_poicount, alternative='two-sided')\n",
    "print('P-value:', p_value) # 0.0\n",
    "\n",
    "# T-test\n",
    "t_statistic, p_value = stats.ttest_ind(data_with_small_poicount, data_without_large_poicount, equal_var=False)\n",
    "print('P-value:', p_value) # P-value: 7.30525e-319"
   ]
  },
  {
   "cell_type": "markdown",
   "id": "7e931262-2f15-46da-9946-df186428d6a2",
   "metadata": {},
   "source": [
    "**the presence of the grocery POI impacts visit frequencies.**"
   ]
  },
  {
   "cell_type": "markdown",
   "id": "71845c8c-55a3-46e3-a350-381e4c2771ad",
   "metadata": {},
   "source": [
    "*Most frequently visited location data below, these are just dummy codes I don't really want to delete*"
   ]
  },
  {
   "cell_type": "code",
   "execution_count": 37,
   "id": "0bfb409a-b97d-4f76-93bf-810bf850a24d",
   "metadata": {},
   "outputs": [
    {
     "data": {
      "text/html": [
       "<div>\n",
       "<style scoped>\n",
       "    .dataframe tbody tr th:only-of-type {\n",
       "        vertical-align: middle;\n",
       "    }\n",
       "\n",
       "    .dataframe tbody tr th {\n",
       "        vertical-align: top;\n",
       "    }\n",
       "\n",
       "    .dataframe thead th {\n",
       "        text-align: right;\n",
       "    }\n",
       "</style>\n",
       "<table border=\"1\" class=\"dataframe\">\n",
       "  <thead>\n",
       "    <tr style=\"text-align: right;\">\n",
       "      <th></th>\n",
       "      <th>x</th>\n",
       "      <th>y</th>\n",
       "      <th>POIcategory</th>\n",
       "      <th>POI_count</th>\n",
       "      <th>combined_xy</th>\n",
       "    </tr>\n",
       "  </thead>\n",
       "  <tbody>\n",
       "    <tr>\n",
       "      <th>126077</th>\n",
       "      <td>135</td>\n",
       "      <td>77</td>\n",
       "      <td>40</td>\n",
       "      <td>281</td>\n",
       "      <td>15334</td>\n",
       "    </tr>\n",
       "    <tr>\n",
       "      <th>126046</th>\n",
       "      <td>135</td>\n",
       "      <td>77</td>\n",
       "      <td>4</td>\n",
       "      <td>134</td>\n",
       "      <td>15334</td>\n",
       "    </tr>\n",
       "    <tr>\n",
       "      <th>126062</th>\n",
       "      <td>135</td>\n",
       "      <td>77</td>\n",
       "      <td>21</td>\n",
       "      <td>124</td>\n",
       "      <td>15334</td>\n",
       "    </tr>\n",
       "    <tr>\n",
       "      <th>126097</th>\n",
       "      <td>135</td>\n",
       "      <td>77</td>\n",
       "      <td>66</td>\n",
       "      <td>95</td>\n",
       "      <td>15334</td>\n",
       "    </tr>\n",
       "    <tr>\n",
       "      <th>126110</th>\n",
       "      <td>135</td>\n",
       "      <td>77</td>\n",
       "      <td>81</td>\n",
       "      <td>73</td>\n",
       "      <td>15334</td>\n",
       "    </tr>\n",
       "    <tr>\n",
       "      <th>...</th>\n",
       "      <td>...</td>\n",
       "      <td>...</td>\n",
       "      <td>...</td>\n",
       "      <td>...</td>\n",
       "      <td>...</td>\n",
       "    </tr>\n",
       "    <tr>\n",
       "      <th>126098</th>\n",
       "      <td>135</td>\n",
       "      <td>77</td>\n",
       "      <td>67</td>\n",
       "      <td>1</td>\n",
       "      <td>15334</td>\n",
       "    </tr>\n",
       "    <tr>\n",
       "      <th>126095</th>\n",
       "      <td>135</td>\n",
       "      <td>77</td>\n",
       "      <td>63</td>\n",
       "      <td>1</td>\n",
       "      <td>15334</td>\n",
       "    </tr>\n",
       "    <tr>\n",
       "      <th>126045</th>\n",
       "      <td>135</td>\n",
       "      <td>77</td>\n",
       "      <td>3</td>\n",
       "      <td>1</td>\n",
       "      <td>15334</td>\n",
       "    </tr>\n",
       "    <tr>\n",
       "      <th>126065</th>\n",
       "      <td>135</td>\n",
       "      <td>77</td>\n",
       "      <td>25</td>\n",
       "      <td>1</td>\n",
       "      <td>15334</td>\n",
       "    </tr>\n",
       "    <tr>\n",
       "      <th>126079</th>\n",
       "      <td>135</td>\n",
       "      <td>77</td>\n",
       "      <td>43</td>\n",
       "      <td>1</td>\n",
       "      <td>15334</td>\n",
       "    </tr>\n",
       "  </tbody>\n",
       "</table>\n",
       "<p>70 rows × 5 columns</p>\n",
       "</div>"
      ],
      "text/plain": [
       "          x   y  POIcategory  POI_count  combined_xy\n",
       "126077  135  77           40        281        15334\n",
       "126046  135  77            4        134        15334\n",
       "126062  135  77           21        124        15334\n",
       "126097  135  77           66         95        15334\n",
       "126110  135  77           81         73        15334\n",
       "...     ...  ..          ...        ...          ...\n",
       "126098  135  77           67          1        15334\n",
       "126095  135  77           63          1        15334\n",
       "126045  135  77            3          1        15334\n",
       "126065  135  77           25          1        15334\n",
       "126079  135  77           43          1        15334\n",
       "\n",
       "[70 rows x 5 columns]"
      ]
     },
     "execution_count": 37,
     "metadata": {},
     "output_type": "execute_result"
    }
   ],
   "source": [
    "poi_df[poi_df['combined_xy']==loc_frequency.index[0]].sort_values(by='POI_count', ascending=False)"
   ]
  },
  {
   "cell_type": "code",
   "execution_count": 40,
   "id": "6f1c9064-20bd-46a3-b93b-9ce55ab67359",
   "metadata": {},
   "outputs": [
    {
     "data": {
      "text/plain": [
       "0    Grocery Store\n",
       "Name: 40, dtype: object"
      ]
     },
     "execution_count": 40,
     "metadata": {},
     "output_type": "execute_result"
    }
   ],
   "source": [
    "poi_description.iloc[40] # Grocery Store count is high in most frequently visited area"
   ]
  },
  {
   "cell_type": "code",
   "execution_count": 78,
   "id": "17cdee44-a9c4-4e71-99c7-0b021c08fc67",
   "metadata": {},
   "outputs": [],
   "source": [
    "# Get Grocery frequency count\n",
    "grocery_freq = []\n",
    "for combined_xy in loc_frequency.index:\n",
    "    groc = poi_df.loc[(poi_df['POIcategory'] == 40) & (poi_df['combined_xy'] == combined_xy)]['POI_count']\n",
    "    if (len(groc) > 0):\n",
    "        grocery_freq.append(groc.iloc[0])\n",
    "    else:\n",
    "        grocery_freq.append(0)"
   ]
  },
  {
   "cell_type": "code",
   "execution_count": 81,
   "id": "abb2de7e-0876-4f62-ba81-945a4f1e5bfb",
   "metadata": {},
   "outputs": [
    {
     "data": {
      "image/png": "[encoded data removed]",
      "text/plain": [
       "<Figure size 640x480 with 1 Axes>"
      ]
     },
     "metadata": {},
     "output_type": "display_data"
    }
   ],
   "source": [
    "plt.plot(grocery_freq)\n",
    "plt.title('Grocery Count Trend Order by Visit Frequency')\n",
    "plt.gca().xaxis.set_visible(False)\n",
    "plt.show()"
   ]
  },
  {
   "cell_type": "markdown",
   "id": "7fb08f69-816c-48c6-9397-0a87b58bb66f",
   "metadata": {},
   "source": [
    "### 2. Frequency and POI Density? (Significant Testing)"
   ]
  },
  {
   "cell_type": "code",
   "execution_count": 85,
   "id": "8c4afeb3-ef4a-468e-a616-154e42998eb9",
   "metadata": {},
   "outputs": [],
   "source": [
    "poi_density = []\n",
    "for combined_xy in loc_frequency.index:\n",
    "    poi_density.append(poi_df.loc[poi_df['combined_xy'] == combined_xy].sum())"
   ]
  },
  {
   "cell_type": "code",
   "execution_count": 86,
   "id": "0d87f322-6f7a-4437-bd2d-9dcea48bbc9f",
   "metadata": {},
   "outputs": [
    {
     "data": {
      "image/png": "[encoded data removed]",
      "text/plain": [
       "<Figure size 640x480 with 1 Axes>"
      ]
     },
     "metadata": {},
     "output_type": "display_data"
    }
   ],
   "source": [
    "plt.plot(poi_density)\n",
    "plt.title('POI Density Trend Order by Visit Frequency')\n",
    "plt.gca().xaxis.set_visible(False)\n",
    "plt.show()"
   ]
  },
  {
   "cell_type": "markdown",
   "id": "91315f21-5482-4d12-859f-e0483910d3e4",
   "metadata": {},
   "source": [
    "### 3. Time and POI Type (Significant)"
   ]
  },
  {
   "cell_type": "code",
   "execution_count": null,
   "id": "2a14d4f7-608c-419f-9da3-4991134c0897",
   "metadata": {},
   "outputs": [],
   "source": []
  },
  {
   "cell_type": "markdown",
   "id": "4b1fab23-40cb-4db5-9f52-9d58683913e7",
   "metadata": {},
   "source": [
    "### 4. Certain types of POIs are associated with specific visit patterns (i.e., should there exist a group of people going to the market in the evening)?"
   ]
  },
  {
   "cell_type": "code",
   "execution_count": null,
   "id": "3ecfe514-23a7-485a-882e-479cc2e7b660",
   "metadata": {},
   "outputs": [],
   "source": []
  }
 ],
 "metadata": {
  "kernelspec": {
   "display_name": "Python 3 (ipykernel)",
   "language": "python",
   "name": "python3"
  },
  "language_info": {
   "codemirror_mode": {
    "name": "ipython",
    "version": 3
   },
   "file_extension": ".py",
   "mimetype": "text/x-python",
   "name": "python",
   "nbconvert_exporter": "python",
   "pygments_lexer": "ipython3",
   "version": "3.11.9"
  }
 },
 "nbformat": 4,
 "nbformat_minor": 5
}
