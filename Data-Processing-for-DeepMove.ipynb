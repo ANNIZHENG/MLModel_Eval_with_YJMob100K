{
 "cells": [
  {
   "cell_type": "markdown",
   "id": "9b223b65",
   "metadata": {},
   "source": [
    "```\n",
    "data_neural = {\n",
    "    'user1': {\n",
    "        'sessions': [(loc1, tim1), (loc2, tim2), ...],\n",
    "        'train': [0, 1, 2],\n",
    "        'test': [3, 4]\n",
    "    },\n",
    "    'user2': {\n",
    "        'sessions': [(loc1, tim1), (loc2, tim2), ...],\n",
    "        'train': [0, 1],\n",
    "        'test': [2]\n",
    "    },\n",
    "    ...\n",
    "}\n",
    "```"
   ]
  },
  {
   "cell_type": "code",
   "execution_count": 1,
   "id": "adfe99e3",
   "metadata": {},
   "outputs": [],
   "source": [
    "import pandas as pd"
   ]
  },
  {
   "cell_type": "code",
   "execution_count": 2,
   "id": "5b4573c8",
   "metadata": {},
   "outputs": [],
   "source": [
    "df_train = pd.read_csv('df_train.csv')\n",
    "df_test = pd.read_csv('df_test.csv')\n",
    "df = pd.concat([df_train, df_test], ignore_index=True)"
   ]
  },
  {
   "cell_type": "code",
   "execution_count": 3,
   "id": "1bc0288d",
   "metadata": {},
   "outputs": [],
   "source": [
    "data_neural = {}\n",
    "WINDOW_SIZE = 10\n",
    "STEP_SIZE = 100\n",
    "\n",
    "index = 0\n",
    "\n",
    "for uid, group in df_train.groupby('uid'):\n",
    "    group = group.head(STEP_SIZE)\n",
    "    sessions = {}\n",
    "    for i in range(0, len(group), WINDOW_SIZE):\n",
    "        # Using min to avoid index out of range for the last window\n",
    "        sessions[i // WINDOW_SIZE] = list(zip( group['x'][i:i + WINDOW_SIZE], \n",
    "                                             group['t'][i:i + WINDOW_SIZE]))\n",
    "    \n",
    "    # Define the split indices\n",
    "    num_sessions = len(sessions)\n",
    "    train_cutoff = int(num_sessions * 0.8)\n",
    "    \n",
    "    train_keys = list(sessions.keys())[:train_cutoff]\n",
    "    test_keys = list(sessions.keys())[train_cutoff:]\n",
    "\n",
    "    data_neural[index] = {\n",
    "        'sessions': sessions,\n",
    "        'train': train_keys,\n",
    "        'test': test_keys\n",
    "    }\n",
    "    \n",
    "    index += 1"
   ]
  },
  {
   "cell_type": "code",
   "execution_count": 4,
   "id": "feaa6415",
   "metadata": {
    "scrolled": false
   },
   "outputs": [],
   "source": [
    "output = {}"
   ]
  },
  {
   "cell_type": "code",
   "execution_count": 5,
   "id": "89746518",
   "metadata": {},
   "outputs": [],
   "source": [
    "uid_list = [int(i) for i in range(len(data_neural))]"
   ]
  },
  {
   "cell_type": "code",
   "execution_count": 6,
   "id": "a43d3803",
   "metadata": {},
   "outputs": [],
   "source": [
    "output['data_neural'] = data_neural\n",
    "output['uid_list'] = uid_list"
   ]
  },
  {
   "cell_type": "code",
   "execution_count": 12,
   "id": "b5300682",
   "metadata": {},
   "outputs": [],
   "source": [
    "# Save the dictionary to a pickle file\n",
    "import pickle\n",
    "\n",
    "with open('DeepMove-master/data/my_data_neural.pk', 'wb') as f:\n",
    "    pickle.dump(output, f)"
   ]
  }
 ],
 "metadata": {
  "kernelspec": {
   "display_name": "Python 3 (ipykernel)",
   "language": "python",
   "name": "python3"
  },
  "language_info": {
   "codemirror_mode": {
    "name": "ipython",
    "version": 3
   },
   "file_extension": ".py",
   "mimetype": "text/x-python",
   "name": "python",
   "nbconvert_exporter": "python",
   "pygments_lexer": "ipython3",
   "version": "3.11.4"
  }
 },
 "nbformat": 4,
 "nbformat_minor": 5
}
