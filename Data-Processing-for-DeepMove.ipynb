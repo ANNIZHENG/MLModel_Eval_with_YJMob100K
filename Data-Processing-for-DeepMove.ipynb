{
 "cells": [
  {
   "cell_type": "markdown",
   "id": "9b223b65",
   "metadata": {},
   "source": [
    "```\n",
    "data_neural = {\n",
    "    'user1': {\n",
    "        'sessions': [(loc1, tim1), (loc2, tim2), ...],\n",
    "        'train': [0, 1, 2],\n",
    "        'test': [3, 4]\n",
    "    },\n",
    "    'user2': {\n",
    "        'sessions': [(loc1, tim1), (loc2, tim2), ...],\n",
    "        'train': [0, 1],\n",
    "        'test': [2]\n",
    "    },\n",
    "    ...\n",
    "}\n",
    "```"
   ]
  },
  {
   "cell_type": "code",
   "execution_count": 1,
   "id": "adfe99e3",
   "metadata": {},
   "outputs": [
    {
     "name": "stderr",
     "output_type": "stream",
     "text": [
      "/var/folders/hx/xp23lpqx4ndfxcvp3qj_bdgr0000gn/T/ipykernel_58353/678693794.py:17: SettingWithCopyWarning: \n",
      "A value is trying to be set on a copy of a slice from a DataFrame.\n",
      "Try using .loc[row_indexer,col_indexer] = value instead\n",
      "\n",
      "See the caveats in the documentation: https://pandas.pydata.org/pandas-docs/stable/user_guide/indexing.html#returning-a-view-versus-a-copy\n",
      "  df['combined_xy'] = df.apply(lambda row: spatial_token(row['x'], row['y']), axis=1)\n"
     ]
    }
   ],
   "source": [
    "import gzip\n",
    "import pandas as pd\n",
    "import random\n",
    "\n",
    "yjmob1 = 'yjmob100k-dataset1.csv.gz'\n",
    "yjmob_df = pd.read_csv(yjmob1, compression='gzip')\n",
    "uids = yjmob_df['uid'].unique()\n",
    "\n",
    "rand_indicies = [random.randint(0, len(uids)) for _ in range(1000)]\n",
    "selected_uids = [uid for uid in uids[rand_indicies]]\n",
    "df = yjmob_df[yjmob_df['uid'].isin(selected_uids)] \n",
    "\n",
    "# Location Data\n",
    "def spatial_token(x, y):\n",
    "    return (x-1)+(y-1)*200\n",
    "\n",
    "df['combined_xy'] = df.apply(lambda row: spatial_token(row['x'], row['y']), axis=1)"
   ]
  },
  {
   "cell_type": "code",
   "execution_count": 10,
   "id": "22ab5fac",
   "metadata": {},
   "outputs": [],
   "source": [
    "# import pandas\n",
    "\n",
    "# df_train = pd.read_csv('df_train.csv')\n",
    "# df_test = pd.read_csv('df_test.csv')\n",
    "# df = pd.concat([df_train, df_test], ignore_index=True)"
   ]
  },
  {
   "cell_type": "code",
   "execution_count": 4,
   "id": "1bc0288d",
   "metadata": {},
   "outputs": [],
   "source": [
    "data_neural = {}\n",
    "WINDOW_SIZE = 10\n",
    "STEP_SIZE = 100\n",
    "\n",
    "index = 0\n",
    "\n",
    "for uid, group in df.groupby('uid'):\n",
    "    group = group.head(STEP_SIZE)\n",
    "    sessions = {}\n",
    "    for i in range(0, len(group), WINDOW_SIZE):\n",
    "        # Using min to avoid index out of range for the last window\n",
    "        sessions[i // WINDOW_SIZE] = list(zip( group['x'][i:i + WINDOW_SIZE], \n",
    "                                             group['t'][i:i + WINDOW_SIZE]))\n",
    "    \n",
    "    # Define the split indices\n",
    "    num_sessions = len(sessions)\n",
    "    train_cutoff = int(num_sessions * 0.8)\n",
    "    \n",
    "    train_keys = list(sessions.keys())[:train_cutoff]\n",
    "    test_keys = list(sessions.keys())[train_cutoff:]\n",
    "\n",
    "    data_neural[index] = {\n",
    "        'sessions': sessions,\n",
    "        'train': train_keys,\n",
    "        'test': test_keys\n",
    "    }\n",
    "    \n",
    "    index += 1"
   ]
  },
  {
   "cell_type": "code",
   "execution_count": 5,
   "id": "feaa6415",
   "metadata": {
    "scrolled": false
   },
   "outputs": [],
   "source": [
    "output = {}"
   ]
  },
  {
   "cell_type": "code",
   "execution_count": 6,
   "id": "89746518",
   "metadata": {},
   "outputs": [],
   "source": [
    "uid_list = [int(i) for i in range(len(data_neural))]"
   ]
  },
  {
   "cell_type": "code",
   "execution_count": 7,
   "id": "a43d3803",
   "metadata": {},
   "outputs": [],
   "source": [
    "output['data_neural'] = data_neural\n",
    "output['uid_list'] = uid_list"
   ]
  },
  {
   "cell_type": "code",
   "execution_count": 8,
   "id": "b5300682",
   "metadata": {},
   "outputs": [],
   "source": [
    "# Save the dictionary to a pickle file\n",
    "import pickle\n",
    "\n",
    "with open('DeepMove-master/data/my_data_neural.pk', 'wb') as f:\n",
    "    pickle.dump(output, f)"
   ]
  },
  {
   "cell_type": "markdown",
   "id": "a9c59f16",
   "metadata": {},
   "source": [
    "https://github.com/vonfeng/DeepMove?tab=readme-ov-file"
   ]
  }
 ],
 "metadata": {
  "kernelspec": {
   "display_name": "Python 3 (ipykernel)",
   "language": "python",
   "name": "python3"
  },
  "language_info": {
   "codemirror_mode": {
    "name": "ipython",
    "version": 3
   },
   "file_extension": ".py",
   "mimetype": "text/x-python",
   "name": "python",
   "nbconvert_exporter": "python",
   "pygments_lexer": "ipython3",
   "version": "3.11.4"
  }
 },
 "nbformat": 4,
 "nbformat_minor": 5
}
