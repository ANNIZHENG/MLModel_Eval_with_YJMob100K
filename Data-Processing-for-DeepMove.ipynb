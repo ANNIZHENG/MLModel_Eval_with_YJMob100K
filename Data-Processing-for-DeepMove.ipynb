{
 "cells": [
  {
   "cell_type": "code",
   "execution_count": 1,
   "id": "a989b0fb",
   "metadata": {},
   "outputs": [],
   "source": [
    "import gzip\n",
    "import pandas as pd\n",
    "import numpy as np\n",
    "import random\n",
    "from sklearn.model_selection import train_test_split"
   ]
  },
  {
   "cell_type": "code",
   "execution_count": 2,
   "id": "b56ae677",
   "metadata": {},
   "outputs": [],
   "source": [
    "yjmob1 = 'yjmob100k-dataset1.csv.gz' # dataset under normal scenes\n",
    "yjmob_df = pd.read_csv(yjmob1, compression='gzip').sort_values(by=['uid', 'd', 't'], ignore_index=True)"
   ]
  },
  {
   "cell_type": "code",
   "execution_count": 4,
   "id": "19a4843d",
   "metadata": {},
   "outputs": [
    {
     "data": {
      "text/html": [
       "<div>\n",
       "<style scoped>\n",
       "    .dataframe tbody tr th:only-of-type {\n",
       "        vertical-align: middle;\n",
       "    }\n",
       "\n",
       "    .dataframe tbody tr th {\n",
       "        vertical-align: top;\n",
       "    }\n",
       "\n",
       "    .dataframe thead th {\n",
       "        text-align: right;\n",
       "    }\n",
       "</style>\n",
       "<table border=\"1\" class=\"dataframe\">\n",
       "  <thead>\n",
       "    <tr style=\"text-align: right;\">\n",
       "      <th></th>\n",
       "      <th>uid</th>\n",
       "      <th>d</th>\n",
       "      <th>t</th>\n",
       "      <th>x</th>\n",
       "      <th>y</th>\n",
       "      <th>combined_xy</th>\n",
       "    </tr>\n",
       "  </thead>\n",
       "  <tbody>\n",
       "    <tr>\n",
       "      <th>335376</th>\n",
       "      <td>271</td>\n",
       "      <td>0</td>\n",
       "      <td>12</td>\n",
       "      <td>102</td>\n",
       "      <td>107</td>\n",
       "      <td>21301</td>\n",
       "    </tr>\n",
       "    <tr>\n",
       "      <th>335377</th>\n",
       "      <td>271</td>\n",
       "      <td>0</td>\n",
       "      <td>13</td>\n",
       "      <td>109</td>\n",
       "      <td>95</td>\n",
       "      <td>18908</td>\n",
       "    </tr>\n",
       "    <tr>\n",
       "      <th>335378</th>\n",
       "      <td>271</td>\n",
       "      <td>0</td>\n",
       "      <td>14</td>\n",
       "      <td>116</td>\n",
       "      <td>90</td>\n",
       "      <td>17915</td>\n",
       "    </tr>\n",
       "    <tr>\n",
       "      <th>335379</th>\n",
       "      <td>271</td>\n",
       "      <td>0</td>\n",
       "      <td>15</td>\n",
       "      <td>121</td>\n",
       "      <td>101</td>\n",
       "      <td>20120</td>\n",
       "    </tr>\n",
       "    <tr>\n",
       "      <th>335380</th>\n",
       "      <td>271</td>\n",
       "      <td>0</td>\n",
       "      <td>16</td>\n",
       "      <td>119</td>\n",
       "      <td>93</td>\n",
       "      <td>18518</td>\n",
       "    </tr>\n",
       "    <tr>\n",
       "      <th>...</th>\n",
       "      <td>...</td>\n",
       "      <td>...</td>\n",
       "      <td>...</td>\n",
       "      <td>...</td>\n",
       "      <td>...</td>\n",
       "      <td>...</td>\n",
       "    </tr>\n",
       "    <tr>\n",
       "      <th>111130882</th>\n",
       "      <td>99568</td>\n",
       "      <td>74</td>\n",
       "      <td>35</td>\n",
       "      <td>120</td>\n",
       "      <td>87</td>\n",
       "      <td>17319</td>\n",
       "    </tr>\n",
       "    <tr>\n",
       "      <th>111130883</th>\n",
       "      <td>99568</td>\n",
       "      <td>74</td>\n",
       "      <td>36</td>\n",
       "      <td>129</td>\n",
       "      <td>81</td>\n",
       "      <td>16128</td>\n",
       "    </tr>\n",
       "    <tr>\n",
       "      <th>111130884</th>\n",
       "      <td>99568</td>\n",
       "      <td>74</td>\n",
       "      <td>42</td>\n",
       "      <td>129</td>\n",
       "      <td>81</td>\n",
       "      <td>16128</td>\n",
       "    </tr>\n",
       "    <tr>\n",
       "      <th>111130885</th>\n",
       "      <td>99568</td>\n",
       "      <td>74</td>\n",
       "      <td>43</td>\n",
       "      <td>140</td>\n",
       "      <td>74</td>\n",
       "      <td>14739</td>\n",
       "    </tr>\n",
       "    <tr>\n",
       "      <th>111130886</th>\n",
       "      <td>99568</td>\n",
       "      <td>74</td>\n",
       "      <td>45</td>\n",
       "      <td>144</td>\n",
       "      <td>77</td>\n",
       "      <td>15343</td>\n",
       "    </tr>\n",
       "  </tbody>\n",
       "</table>\n",
       "<p>219601 rows × 6 columns</p>\n",
       "</div>"
      ],
      "text/plain": [
       "             uid   d   t    x    y  combined_xy\n",
       "335376       271   0  12  102  107        21301\n",
       "335377       271   0  13  109   95        18908\n",
       "335378       271   0  14  116   90        17915\n",
       "335379       271   0  15  121  101        20120\n",
       "335380       271   0  16  119   93        18518\n",
       "...          ...  ..  ..  ...  ...          ...\n",
       "111130882  99568  74  35  120   87        17319\n",
       "111130883  99568  74  36  129   81        16128\n",
       "111130884  99568  74  42  129   81        16128\n",
       "111130885  99568  74  43  140   74        14739\n",
       "111130886  99568  74  45  144   77        15343\n",
       "\n",
       "[219601 rows x 6 columns]"
      ]
     },
     "execution_count": 4,
     "metadata": {},
     "output_type": "execute_result"
    }
   ],
   "source": [
    "df"
   ]
  },
  {
   "cell_type": "code",
   "execution_count": 27,
   "id": "5fd5b387",
   "metadata": {},
   "outputs": [],
   "source": [
    "USED_DATA_SIZE = 200 # only 200 data for the testing session"
   ]
  },
  {
   "cell_type": "code",
   "execution_count": 17,
   "id": "fc3193ae",
   "metadata": {},
   "outputs": [
    {
     "name": "stderr",
     "output_type": "stream",
     "text": [
      "/var/folders/hx/xp23lpqx4ndfxcvp3qj_bdgr0000gn/T/ipykernel_89090/533495689.py:17: SettingWithCopyWarning: \n",
      "A value is trying to be set on a copy of a slice from a DataFrame.\n",
      "Try using .loc[row_indexer,col_indexer] = value instead\n",
      "\n",
      "See the caveats in the documentation: https://pandas.pydata.org/pandas-docs/stable/user_guide/indexing.html#returning-a-view-versus-a-copy\n",
      "  df['combined_xy'] = df.apply(lambda row: spatial_token(row['x'], row['y']), axis=1)\n"
     ]
    }
   ],
   "source": [
    "# Retrieve all ids\n",
    "uids = yjmob_df['uid'].unique()\n",
    "\n",
    "# Select id\n",
    "rand_indicies = [random.randint(0, len(uids)) for _ in range(USED_DATA_SIZE)] \n",
    "selected_uids = [uid for uid in uids[rand_indicies]]\n",
    "\n",
    "# load data into pd df\n",
    "df = yjmob_df[yjmob_df['uid'].isin(selected_uids)]\n",
    "\n",
    "# Time\n",
    "# df['combined_t'] = df['d']*47+df['t']\n",
    "\n",
    "# Gird-Location\n",
    "def spatial_token(x, y):\n",
    "    return (x-1)+(y-1)*200\n",
    "df['combined_xy'] = df.apply(lambda row: spatial_token(row['x'], row['y']), axis=1)\n",
    "\n",
    "# Sort values and retrieve only the values of the useful data\n",
    "df = df.sort_values(by=['uid', 't'])[['uid', 't', 'combined_xy']]"
   ]
  },
  {
   "cell_type": "code",
   "execution_count": 18,
   "id": "2fb5bdb9",
   "metadata": {},
   "outputs": [
    {
     "data": {
      "text/html": [
       "<div>\n",
       "<style scoped>\n",
       "    .dataframe tbody tr th:only-of-type {\n",
       "        vertical-align: middle;\n",
       "    }\n",
       "\n",
       "    .dataframe tbody tr th {\n",
       "        vertical-align: top;\n",
       "    }\n",
       "\n",
       "    .dataframe thead th {\n",
       "        text-align: right;\n",
       "    }\n",
       "</style>\n",
       "<table border=\"1\" class=\"dataframe\">\n",
       "  <thead>\n",
       "    <tr style=\"text-align: right;\">\n",
       "      <th></th>\n",
       "      <th>uid</th>\n",
       "      <th>t</th>\n",
       "      <th>combined_xy</th>\n",
       "    </tr>\n",
       "  </thead>\n",
       "  <tbody>\n",
       "    <tr>\n",
       "      <th>90723</th>\n",
       "      <td>68</td>\n",
       "      <td>0</td>\n",
       "      <td>20531</td>\n",
       "    </tr>\n",
       "    <tr>\n",
       "      <th>90839</th>\n",
       "      <td>68</td>\n",
       "      <td>0</td>\n",
       "      <td>20531</td>\n",
       "    </tr>\n",
       "    <tr>\n",
       "      <th>90889</th>\n",
       "      <td>68</td>\n",
       "      <td>0</td>\n",
       "      <td>20531</td>\n",
       "    </tr>\n",
       "    <tr>\n",
       "      <th>90946</th>\n",
       "      <td>68</td>\n",
       "      <td>0</td>\n",
       "      <td>20531</td>\n",
       "    </tr>\n",
       "    <tr>\n",
       "      <th>90981</th>\n",
       "      <td>68</td>\n",
       "      <td>0</td>\n",
       "      <td>20531</td>\n",
       "    </tr>\n",
       "  </tbody>\n",
       "</table>\n",
       "</div>"
      ],
      "text/plain": [
       "       uid  t  combined_xy\n",
       "90723   68  0        20531\n",
       "90839   68  0        20531\n",
       "90889   68  0        20531\n",
       "90946   68  0        20531\n",
       "90981   68  0        20531"
      ]
     },
     "execution_count": 18,
     "metadata": {},
     "output_type": "execute_result"
    }
   ],
   "source": [
    "df.head(5)"
   ]
  },
  {
   "cell_type": "markdown",
   "id": "3b212b05",
   "metadata": {},
   "source": [
    "your_data_neural = {\n",
    "    'user1': {\n",
    "        'sessions': [(loc1, tim1), (loc2, tim2), ...],\n",
    "        'train': [0, 1, 2],\n",
    "        'test': [3, 4]\n",
    "    },\n",
    "    'user2': {\n",
    "        'sessions': [(loc1, tim1), (loc2, tim2), ...],\n",
    "        'train': [0, 1],\n",
    "        'test': [2]\n",
    "    },\n",
    "    ...\n",
    "}"
   ]
  },
  {
   "cell_type": "code",
   "execution_count": 19,
   "id": "8f22635e",
   "metadata": {},
   "outputs": [],
   "source": [
    "# Split indices into train and test\n",
    "# 7-3 Train-Test split\n",
    "def split_indices(n, test_ratio=0.3):\n",
    "    indices = list(range(n))\n",
    "    test_size = int(n * test_ratio)\n",
    "    train_indices = indices[:-test_size] if test_size else indices\n",
    "    test_indices = indices[-test_size:] if test_size else []\n",
    "    return train_indices, test_indices"
   ]
  },
  {
   "cell_type": "code",
   "execution_count": 28,
   "id": "d77fd131",
   "metadata": {},
   "outputs": [],
   "source": [
    "TRAJECTORY_DATA_SIZE = 10 # how many trajectroy data used per user"
   ]
  },
  {
   "cell_type": "code",
   "execution_count": 20,
   "id": "74b174eb",
   "metadata": {},
   "outputs": [],
   "source": [
    "# Transforming DataFrame to desired format\n",
    "data_neural = {}\n",
    "for uid, group in df.groupby('uid'):\n",
    "    # Limit to the first 10 trajectory data for each user (small sample for testing)\n",
    "    # Note: in my Transformer, it is using 600 trajectory data to train the final location\n",
    "    group = group.head(TRAJECTORY_DATA_SIZE)\n",
    "    \n",
    "    # Constructing sessions as a dictionary where key is an index and value is a tuple (location, time)\n",
    "    sessions = {idx: (loc, tim) for idx, (tim, loc) in enumerate(zip(group['t'], group['combined_xy']))}\n",
    "    train_indices, test_indices = split_indices(len(sessions))\n",
    "    data_neural[uid] = {\n",
    "        'sessions': sessions,\n",
    "        'train': train_indices,\n",
    "        'test': test_indices\n",
    "    }"
   ]
  },
  {
   "cell_type": "code",
   "execution_count": 21,
   "id": "9d90f393",
   "metadata": {},
   "outputs": [
    {
     "data": {
      "text/plain": [
       "200"
      ]
     },
     "execution_count": 21,
     "metadata": {},
     "output_type": "execute_result"
    }
   ],
   "source": [
    "len(list(data_neural.items()))"
   ]
  },
  {
   "cell_type": "code",
   "execution_count": 22,
   "id": "d94943ef",
   "metadata": {},
   "outputs": [
    {
     "data": {
      "text/plain": [
       "(68,\n",
       " {'sessions': {0: (20531, 0),\n",
       "   1: (20531, 0),\n",
       "   2: (20531, 0),\n",
       "   3: (20531, 0),\n",
       "   4: (20531, 0),\n",
       "   5: (20531, 0),\n",
       "   6: (20531, 0),\n",
       "   7: (20531, 0),\n",
       "   8: (20531, 0),\n",
       "   9: (20531, 0)},\n",
       "  'train': [0, 1, 2, 3, 4, 5, 6],\n",
       "  'test': [7, 8, 9]})"
      ]
     },
     "execution_count": 22,
     "metadata": {},
     "output_type": "execute_result"
    }
   ],
   "source": [
    "list(data_neural.items())[0]"
   ]
  },
  {
   "cell_type": "code",
   "execution_count": 23,
   "id": "51654f2e",
   "metadata": {
    "scrolled": false
   },
   "outputs": [],
   "source": [
    "output = {}"
   ]
  },
  {
   "cell_type": "code",
   "execution_count": 24,
   "id": "1ca2c219",
   "metadata": {},
   "outputs": [],
   "source": [
    "output['data_neural'] = data_neural\n",
    "output['uid_list'] = selected_uids"
   ]
  },
  {
   "cell_type": "code",
   "execution_count": 25,
   "id": "53b145a1",
   "metadata": {},
   "outputs": [],
   "source": [
    "# output['uid_list']"
   ]
  },
  {
   "cell_type": "code",
   "execution_count": 26,
   "id": "899f548b",
   "metadata": {},
   "outputs": [],
   "source": [
    "# Save the dictionary to a pickle file\n",
    "import pickle\n",
    "\n",
    "with open('my_data_neural.pk', 'wb') as f:\n",
    "    pickle.dump(output, f)"
   ]
  }
 ],
 "metadata": {
  "kernelspec": {
   "display_name": "Python 3 (ipykernel)",
   "language": "python",
   "name": "python3"
  },
  "language_info": {
   "codemirror_mode": {
    "name": "ipython",
    "version": 3
   },
   "file_extension": ".py",
   "mimetype": "text/x-python",
   "name": "python",
   "nbconvert_exporter": "python",
   "pygments_lexer": "ipython3",
   "version": "3.11.4"
  }
 },
 "nbformat": 4,
 "nbformat_minor": 5
}
