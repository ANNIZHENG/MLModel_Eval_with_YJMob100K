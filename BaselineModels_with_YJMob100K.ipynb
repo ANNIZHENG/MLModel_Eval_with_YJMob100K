{
 "cells": [
  {
   "cell_type": "markdown",
   "id": "fb534393",
   "metadata": {},
   "source": [
    "# Rationale behind a model being a 'baseline' model\n",
    "\n",
    "1. No trajectory or sequence of steps awareness\n",
    "2. No timeline awareness\n",
    "3. Memory-less\n",
    "4. Assume stable and general trajectory for users and at all time"
   ]
  },
  {
   "cell_type": "markdown",
   "id": "05a45df4",
   "metadata": {},
   "source": [
    "# Import Data"
   ]
  },
  {
   "cell_type": "code",
   "execution_count": 1,
   "id": "642e67f8",
   "metadata": {},
   "outputs": [],
   "source": [
    "import pandas as pd\n",
    "import numpy as np\n",
    "import matplotlib.pyplot as plt\n",
    "import random\n",
    "from collections import Counter"
   ]
  },
  {
   "cell_type": "code",
   "execution_count": 2,
   "id": "88b7e1c5",
   "metadata": {},
   "outputs": [],
   "source": [
    "df_train = pd.read_csv('df_train_1k.csv')\n",
    "df_test = pd.read_csv('df_test_1k.csv')"
   ]
  },
  {
   "cell_type": "markdown",
   "id": "41726915",
   "metadata": {},
   "source": [
    "# Baseline Model\n",
    "\n",
    "Mode, based on frequency, of `combined_xy` of `uid` at `t`"
   ]
  },
  {
   "cell_type": "code",
   "execution_count": 3,
   "id": "9f2feabf",
   "metadata": {},
   "outputs": [],
   "source": [
    "all_t = [int(i) for i in range(48)] # store all the possible time\n",
    "most_freq_locs = []\n",
    "\n",
    "for t in range(len(all_t)):\n",
    "    # for all possible time, find all of the location at that time\n",
    "    loc = list(df_train[df_train['t'] == t]['combined_xy'])\n",
    "    \n",
    "    # find the most frequently visited location\n",
    "    most_freq_loc , count = Counter(loc).most_common(1)[0]\n",
    "    most_freq_locs.append(most_freq_loc)"
   ]
  },
  {
   "cell_type": "code",
   "execution_count": 4,
   "id": "9742ecfc",
   "metadata": {},
   "outputs": [],
   "source": [
    "test_uids = df_test['uid'].unique()\n",
    "total_correct = 0\n",
    "\n",
    "for test_uid in test_uids:\n",
    "    # get the last location of a particular test uid\n",
    "    true_label_loc = df_test[df_test['uid']==test_uid].iloc[[-1]]['combined_xy'].item()\n",
    "    true_label_time = df_test[df_test['uid']==test_uid].iloc[[-1]]['t'].item()\n",
    "    total_correct += int(true_label_loc == most_freq_locs[true_label_time])"
   ]
  },
  {
   "cell_type": "code",
   "execution_count": 6,
   "id": "60f65091",
   "metadata": {},
   "outputs": [],
   "source": [
    "accuracy = total_correct/len(test_uids)\n",
    "print(f\"Accuracy: {accuracy}, Num Correct: {total_correct}, Num Sample: {len(test_uids)}\")\n",
    "\n",
    "\"\"\" 10k\n",
    "Accuracy: 0.0005055611729019212, Num Correct: 1, Num Sample: 1978\n",
    "\"\"\"\n",
    "\n",
    "\"\"\" 1k\n",
    "Accuracy: 0.0, Num Correct: 0, Num Sample: 200\n",
    "\"\"\""
   ]
  }
 ],
 "metadata": {
  "kernelspec": {
   "display_name": "Python 3 (ipykernel)",
   "language": "python",
   "name": "python3"
  },
  "language_info": {
   "codemirror_mode": {
    "name": "ipython",
    "version": 3
   },
   "file_extension": ".py",
   "mimetype": "text/x-python",
   "name": "python",
   "nbconvert_exporter": "python",
   "pygments_lexer": "ipython3",
   "version": "3.11.4"
  }
 },
 "nbformat": 4,
 "nbformat_minor": 5
}
